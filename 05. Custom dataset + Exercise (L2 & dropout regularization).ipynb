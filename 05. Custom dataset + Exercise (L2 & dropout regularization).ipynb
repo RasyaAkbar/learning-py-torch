{
  "cells": [
    {
      "cell_type": "markdown",
      "metadata": {
        "id": "view-in-github",
        "colab_type": "text"
      },
      "source": [
        "<a href=\"https://colab.research.google.com/github/RasyaAkbar/learning-py-torch/blob/main/05.%20Custom%20dataset%20%2B%20Exercise%20(L2%20%26%20dropout%20regularization).ipynb\" target=\"_parent\"><img src=\"https://colab.research.google.com/assets/colab-badge.svg\" alt=\"Open In Colab\"/></a>"
      ]
    },
    {
      "cell_type": "markdown",
      "metadata": {
        "id": "482hNg71XHH_"
      },
      "source": [
        "# 04. PyTorch Custom Datasets"
      ]
    },
    {
      "cell_type": "code",
      "execution_count": null,
      "metadata": {
        "id": "YiN5Xr02SqBE",
        "colab": {
          "base_uri": "https://localhost:8080/",
          "height": 366
        },
        "outputId": "960d2b65-61e3-45c4-e0c5-826b85c72f79"
      },
      "outputs": [
        {
          "output_type": "error",
          "ename": "KeyboardInterrupt",
          "evalue": "",
          "traceback": [
            "\u001b[0;31m---------------------------------------------------------------------------\u001b[0m",
            "\u001b[0;31mKeyboardInterrupt\u001b[0m                         Traceback (most recent call last)",
            "\u001b[0;32m<ipython-input-1-17a25067c09b>\u001b[0m in \u001b[0;36m<cell line: 1>\u001b[0;34m()\u001b[0m\n\u001b[0;32m----> 1\u001b[0;31m \u001b[0;32mimport\u001b[0m \u001b[0mtorch\u001b[0m\u001b[0;34m\u001b[0m\u001b[0;34m\u001b[0m\u001b[0m\n\u001b[0m\u001b[1;32m      2\u001b[0m \u001b[0;32mfrom\u001b[0m \u001b[0mtorch\u001b[0m \u001b[0;32mimport\u001b[0m \u001b[0mnn\u001b[0m \u001b[0;31m# nn contains all of building blocks of neural networks from torch\u001b[0m\u001b[0;34m\u001b[0m\u001b[0;34m\u001b[0m\u001b[0m\n\u001b[1;32m      3\u001b[0m \u001b[0;32mimport\u001b[0m \u001b[0mpandas\u001b[0m \u001b[0;32mas\u001b[0m \u001b[0mpd\u001b[0m\u001b[0;34m\u001b[0m\u001b[0;34m\u001b[0m\u001b[0m\n\u001b[1;32m      4\u001b[0m \u001b[0;32mimport\u001b[0m \u001b[0mnumpy\u001b[0m \u001b[0;32mas\u001b[0m \u001b[0mnp\u001b[0m\u001b[0;34m\u001b[0m\u001b[0;34m\u001b[0m\u001b[0m\n\u001b[1;32m      5\u001b[0m \u001b[0;32mimport\u001b[0m \u001b[0mmatplotlib\u001b[0m\u001b[0;34m.\u001b[0m\u001b[0mpyplot\u001b[0m \u001b[0;32mas\u001b[0m \u001b[0mplt\u001b[0m\u001b[0;34m\u001b[0m\u001b[0;34m\u001b[0m\u001b[0m\n",
            "\u001b[0;32m/usr/local/lib/python3.10/dist-packages/torch/__init__.py\u001b[0m in \u001b[0;36m<module>\u001b[0;34m\u001b[0m\n\u001b[1;32m   2141\u001b[0m \u001b[0;32mfrom\u001b[0m \u001b[0;34m.\u001b[0m \u001b[0;32mimport\u001b[0m \u001b[0mlibrary\u001b[0m\u001b[0;34m\u001b[0m\u001b[0;34m\u001b[0m\u001b[0m\n\u001b[1;32m   2142\u001b[0m \u001b[0;32mif\u001b[0m \u001b[0;32mnot\u001b[0m \u001b[0mTYPE_CHECKING\u001b[0m\u001b[0;34m:\u001b[0m\u001b[0;34m\u001b[0m\u001b[0;34m\u001b[0m\u001b[0m\n\u001b[0;32m-> 2143\u001b[0;31m     \u001b[0;32mfrom\u001b[0m \u001b[0;34m.\u001b[0m \u001b[0;32mimport\u001b[0m \u001b[0m_meta_registrations\u001b[0m\u001b[0;34m\u001b[0m\u001b[0;34m\u001b[0m\u001b[0m\n\u001b[0m\u001b[1;32m   2144\u001b[0m \u001b[0;34m\u001b[0m\u001b[0m\n\u001b[1;32m   2145\u001b[0m \u001b[0;31m# Enable CUDA Sanitizer\u001b[0m\u001b[0;34m\u001b[0m\u001b[0;34m\u001b[0m\u001b[0m\n",
            "\u001b[0;32m/usr/local/lib/python3.10/dist-packages/torch/_meta_registrations.py\u001b[0m in \u001b[0;36m<module>\u001b[0;34m\u001b[0m\n\u001b[1;32m      7\u001b[0m \u001b[0;32mimport\u001b[0m \u001b[0mtorch\u001b[0m\u001b[0;34m.\u001b[0m\u001b[0m_prims_common\u001b[0m \u001b[0;32mas\u001b[0m \u001b[0mutils\u001b[0m\u001b[0;34m\u001b[0m\u001b[0;34m\u001b[0m\u001b[0m\n\u001b[1;32m      8\u001b[0m \u001b[0;32mfrom\u001b[0m \u001b[0mtorch\u001b[0m \u001b[0;32mimport\u001b[0m \u001b[0mSymBool\u001b[0m\u001b[0;34m,\u001b[0m \u001b[0mSymFloat\u001b[0m\u001b[0;34m,\u001b[0m \u001b[0mTensor\u001b[0m\u001b[0;34m\u001b[0m\u001b[0;34m\u001b[0m\u001b[0m\n\u001b[0;32m----> 9\u001b[0;31m from torch._decomp import (\n\u001b[0m\u001b[1;32m     10\u001b[0m     \u001b[0m_add_op_to_registry\u001b[0m\u001b[0;34m,\u001b[0m\u001b[0;34m\u001b[0m\u001b[0;34m\u001b[0m\u001b[0m\n\u001b[1;32m     11\u001b[0m     \u001b[0m_convert_out_params\u001b[0m\u001b[0;34m,\u001b[0m\u001b[0;34m\u001b[0m\u001b[0;34m\u001b[0m\u001b[0m\n",
            "\u001b[0;32m/usr/local/lib/python3.10/dist-packages/torch/_decomp/__init__.py\u001b[0m in \u001b[0;36m<module>\u001b[0;34m\u001b[0m\n\u001b[1;32m    243\u001b[0m \u001b[0;34m\u001b[0m\u001b[0m\n\u001b[1;32m    244\u001b[0m \u001b[0;31m# populate the table\u001b[0m\u001b[0;34m\u001b[0m\u001b[0;34m\u001b[0m\u001b[0m\n\u001b[0;32m--> 245\u001b[0;31m \u001b[0;32mimport\u001b[0m \u001b[0mtorch\u001b[0m\u001b[0;34m.\u001b[0m\u001b[0m_decomp\u001b[0m\u001b[0;34m.\u001b[0m\u001b[0mdecompositions\u001b[0m\u001b[0;34m\u001b[0m\u001b[0;34m\u001b[0m\u001b[0m\n\u001b[0m\u001b[1;32m    246\u001b[0m \u001b[0;32mimport\u001b[0m \u001b[0mtorch\u001b[0m\u001b[0;34m.\u001b[0m\u001b[0m_refs\u001b[0m\u001b[0;34m\u001b[0m\u001b[0;34m\u001b[0m\u001b[0m\n\u001b[1;32m    247\u001b[0m \u001b[0;34m\u001b[0m\u001b[0m\n",
            "\u001b[0;32m/usr/local/lib/python3.10/dist-packages/torch/_decomp/decompositions.py\u001b[0m in \u001b[0;36m<module>\u001b[0;34m\u001b[0m\n\u001b[1;32m     10\u001b[0m \u001b[0;34m\u001b[0m\u001b[0m\n\u001b[1;32m     11\u001b[0m \u001b[0;32mimport\u001b[0m \u001b[0mtorch\u001b[0m\u001b[0;34m\u001b[0m\u001b[0;34m\u001b[0m\u001b[0m\n\u001b[0;32m---> 12\u001b[0;31m \u001b[0;32mimport\u001b[0m \u001b[0mtorch\u001b[0m\u001b[0;34m.\u001b[0m\u001b[0m_prims\u001b[0m \u001b[0;32mas\u001b[0m \u001b[0mprims\u001b[0m\u001b[0;34m\u001b[0m\u001b[0;34m\u001b[0m\u001b[0m\n\u001b[0m\u001b[1;32m     13\u001b[0m \u001b[0;32mimport\u001b[0m \u001b[0mtorch\u001b[0m\u001b[0;34m.\u001b[0m\u001b[0m_prims_common\u001b[0m \u001b[0;32mas\u001b[0m \u001b[0mutils\u001b[0m\u001b[0;34m\u001b[0m\u001b[0;34m\u001b[0m\u001b[0m\n\u001b[1;32m     14\u001b[0m \u001b[0;32mimport\u001b[0m \u001b[0mtorch\u001b[0m\u001b[0;34m.\u001b[0m\u001b[0mnn\u001b[0m\u001b[0;34m.\u001b[0m\u001b[0mfunctional\u001b[0m \u001b[0;32mas\u001b[0m \u001b[0mF\u001b[0m\u001b[0;34m\u001b[0m\u001b[0;34m\u001b[0m\u001b[0m\n",
            "\u001b[0;32m/usr/local/lib/python3.10/dist-packages/torch/_prims/__init__.py\u001b[0m in \u001b[0;36m<module>\u001b[0;34m\u001b[0m\n\u001b[1;32m    502\u001b[0m \u001b[0;34m\u001b[0m\u001b[0m\n\u001b[1;32m    503\u001b[0m \u001b[0;34m\u001b[0m\u001b[0m\n\u001b[0;32m--> 504\u001b[0;31m abs = _make_elementwise_unary_prim(\n\u001b[0m\u001b[1;32m    505\u001b[0m     \u001b[0;34m\"abs\"\u001b[0m\u001b[0;34m,\u001b[0m\u001b[0;34m\u001b[0m\u001b[0;34m\u001b[0m\u001b[0m\n\u001b[1;32m    506\u001b[0m     \u001b[0mimpl_aten\u001b[0m\u001b[0;34m=\u001b[0m\u001b[0mtorch\u001b[0m\u001b[0;34m.\u001b[0m\u001b[0mabs\u001b[0m\u001b[0;34m,\u001b[0m\u001b[0;34m\u001b[0m\u001b[0;34m\u001b[0m\u001b[0m\n",
            "\u001b[0;32m/usr/local/lib/python3.10/dist-packages/torch/_prims/__init__.py\u001b[0m in \u001b[0;36m_make_elementwise_unary_prim\u001b[0;34m(name, type_promotion, **kwargs)\u001b[0m\n\u001b[1;32m    470\u001b[0m     \"\"\"\n\u001b[1;32m    471\u001b[0m \u001b[0;34m\u001b[0m\u001b[0m\n\u001b[0;32m--> 472\u001b[0;31m     return _make_prim(\n\u001b[0m\u001b[1;32m    473\u001b[0m         \u001b[0mschema\u001b[0m\u001b[0;34m=\u001b[0m\u001b[0;34mf\"{name}(Tensor self) -> Tensor\"\u001b[0m\u001b[0;34m,\u001b[0m\u001b[0;34m\u001b[0m\u001b[0;34m\u001b[0m\u001b[0m\n\u001b[1;32m    474\u001b[0m         \u001b[0mmeta\u001b[0m\u001b[0;34m=\u001b[0m\u001b[0mpartial\u001b[0m\u001b[0;34m(\u001b[0m\u001b[0m_prim_elementwise_meta\u001b[0m\u001b[0;34m,\u001b[0m \u001b[0mtype_promotion\u001b[0m\u001b[0;34m=\u001b[0m\u001b[0mtype_promotion\u001b[0m\u001b[0;34m)\u001b[0m\u001b[0;34m,\u001b[0m\u001b[0;34m\u001b[0m\u001b[0;34m\u001b[0m\u001b[0m\n",
            "\u001b[0;32m/usr/local/lib/python3.10/dist-packages/torch/_prims/__init__.py\u001b[0m in \u001b[0;36m_make_prim\u001b[0;34m(schema, return_type, meta, impl_aten, doc, tags, use_old_custom_ops_api)\u001b[0m\n\u001b[1;32m    318\u001b[0m             \u001b[0;32mif\u001b[0m \u001b[0marg\u001b[0m\u001b[0;34m.\u001b[0m\u001b[0malias_info\u001b[0m \u001b[0;32mis\u001b[0m \u001b[0;32mnot\u001b[0m \u001b[0;32mNone\u001b[0m \u001b[0;32mand\u001b[0m \u001b[0marg\u001b[0m\u001b[0;34m.\u001b[0m\u001b[0malias_info\u001b[0m\u001b[0;34m.\u001b[0m\u001b[0mis_write\u001b[0m\u001b[0;34m:\u001b[0m\u001b[0;34m\u001b[0m\u001b[0;34m\u001b[0m\u001b[0m\n\u001b[1;32m    319\u001b[0m                 \u001b[0mmutates_args\u001b[0m\u001b[0;34m.\u001b[0m\u001b[0mappend\u001b[0m\u001b[0;34m(\u001b[0m\u001b[0marg\u001b[0m\u001b[0;34m.\u001b[0m\u001b[0mname\u001b[0m\u001b[0;34m)\u001b[0m\u001b[0;34m\u001b[0m\u001b[0;34m\u001b[0m\u001b[0m\n\u001b[0;32m--> 320\u001b[0;31m         prim_def = torch.library.custom_op(\n\u001b[0m\u001b[1;32m    321\u001b[0m             \u001b[0;34m\"prims::\"\u001b[0m \u001b[0;34m+\u001b[0m \u001b[0mname\u001b[0m\u001b[0;34m,\u001b[0m\u001b[0;34m\u001b[0m\u001b[0;34m\u001b[0m\u001b[0m\n\u001b[1;32m    322\u001b[0m             \u001b[0m_prim_impl\u001b[0m\u001b[0;34m,\u001b[0m\u001b[0;34m\u001b[0m\u001b[0;34m\u001b[0m\u001b[0m\n",
            "\u001b[0;32m/usr/local/lib/python3.10/dist-packages/torch/_library/custom_ops.py\u001b[0m in \u001b[0;36mcustom_op\u001b[0;34m(name, fn, mutates_args, device_types, schema)\u001b[0m\n\u001b[1;32m    140\u001b[0m     \u001b[0;32mif\u001b[0m \u001b[0mfn\u001b[0m \u001b[0;32mis\u001b[0m \u001b[0;32mNone\u001b[0m\u001b[0;34m:\u001b[0m\u001b[0;34m\u001b[0m\u001b[0;34m\u001b[0m\u001b[0m\n\u001b[1;32m    141\u001b[0m         \u001b[0;32mreturn\u001b[0m \u001b[0minner\u001b[0m\u001b[0;34m\u001b[0m\u001b[0;34m\u001b[0m\u001b[0m\n\u001b[0;32m--> 142\u001b[0;31m     \u001b[0;32mreturn\u001b[0m \u001b[0minner\u001b[0m\u001b[0;34m(\u001b[0m\u001b[0mfn\u001b[0m\u001b[0;34m)\u001b[0m\u001b[0;34m\u001b[0m\u001b[0;34m\u001b[0m\u001b[0m\n\u001b[0m\u001b[1;32m    143\u001b[0m \u001b[0;34m\u001b[0m\u001b[0m\n\u001b[1;32m    144\u001b[0m \u001b[0;34m\u001b[0m\u001b[0m\n",
            "\u001b[0;32m/usr/local/lib/python3.10/dist-packages/torch/_library/custom_ops.py\u001b[0m in \u001b[0;36minner\u001b[0;34m(fn)\u001b[0m\n\u001b[1;32m    121\u001b[0m             \u001b[0mschema_str\u001b[0m \u001b[0;34m=\u001b[0m \u001b[0mschema\u001b[0m\u001b[0;34m\u001b[0m\u001b[0;34m\u001b[0m\u001b[0m\n\u001b[1;32m    122\u001b[0m         \u001b[0mnamespace\u001b[0m\u001b[0;34m,\u001b[0m \u001b[0mopname\u001b[0m \u001b[0;34m=\u001b[0m \u001b[0mname\u001b[0m\u001b[0;34m.\u001b[0m\u001b[0msplit\u001b[0m\u001b[0;34m(\u001b[0m\u001b[0;34m\"::\"\u001b[0m\u001b[0;34m)\u001b[0m\u001b[0;34m\u001b[0m\u001b[0;34m\u001b[0m\u001b[0m\n\u001b[0;32m--> 123\u001b[0;31m         \u001b[0mresult\u001b[0m \u001b[0;34m=\u001b[0m \u001b[0mCustomOpDef\u001b[0m\u001b[0;34m(\u001b[0m\u001b[0mnamespace\u001b[0m\u001b[0;34m,\u001b[0m \u001b[0mopname\u001b[0m\u001b[0;34m,\u001b[0m \u001b[0mschema_str\u001b[0m\u001b[0;34m,\u001b[0m \u001b[0mfn\u001b[0m\u001b[0;34m)\u001b[0m\u001b[0;34m\u001b[0m\u001b[0;34m\u001b[0m\u001b[0m\n\u001b[0m\u001b[1;32m    124\u001b[0m         \u001b[0;32mif\u001b[0m \u001b[0mschema\u001b[0m \u001b[0;32mis\u001b[0m \u001b[0;32mnot\u001b[0m \u001b[0;32mNone\u001b[0m\u001b[0;34m:\u001b[0m\u001b[0;34m\u001b[0m\u001b[0;34m\u001b[0m\u001b[0m\n\u001b[1;32m    125\u001b[0m             \u001b[0;31m# Check that schema's alias annotations match those of `mutates_args`.\u001b[0m\u001b[0;34m\u001b[0m\u001b[0;34m\u001b[0m\u001b[0m\n",
            "\u001b[0;32m/usr/local/lib/python3.10/dist-packages/torch/_library/custom_ops.py\u001b[0m in \u001b[0;36m__init__\u001b[0;34m(self, namespace, name, schema, fn)\u001b[0m\n\u001b[1;32m    167\u001b[0m \u001b[0;34m\u001b[0m\u001b[0m\n\u001b[1;32m    168\u001b[0m         \u001b[0mself\u001b[0m\u001b[0;34m.\u001b[0m\u001b[0m_lib\u001b[0m \u001b[0;34m=\u001b[0m \u001b[0mget_library_allowing_overwrite\u001b[0m\u001b[0;34m(\u001b[0m\u001b[0mself\u001b[0m\u001b[0;34m.\u001b[0m\u001b[0m_namespace\u001b[0m\u001b[0;34m,\u001b[0m \u001b[0mself\u001b[0m\u001b[0;34m.\u001b[0m\u001b[0m_name\u001b[0m\u001b[0;34m)\u001b[0m\u001b[0;34m\u001b[0m\u001b[0;34m\u001b[0m\u001b[0m\n\u001b[0;32m--> 169\u001b[0;31m         \u001b[0mself\u001b[0m\u001b[0;34m.\u001b[0m\u001b[0m_register_to_dispatcher\u001b[0m\u001b[0;34m(\u001b[0m\u001b[0;34m)\u001b[0m\u001b[0;34m\u001b[0m\u001b[0;34m\u001b[0m\u001b[0m\n\u001b[0m\u001b[1;32m    170\u001b[0m         \u001b[0mOPDEFS\u001b[0m\u001b[0;34m[\u001b[0m\u001b[0mself\u001b[0m\u001b[0;34m.\u001b[0m\u001b[0m_qualname\u001b[0m\u001b[0;34m]\u001b[0m \u001b[0;34m=\u001b[0m \u001b[0mself\u001b[0m\u001b[0;34m\u001b[0m\u001b[0;34m\u001b[0m\u001b[0m\n\u001b[1;32m    171\u001b[0m \u001b[0;34m\u001b[0m\u001b[0m\n",
            "\u001b[0;32m/usr/local/lib/python3.10/dist-packages/torch/_library/custom_ops.py\u001b[0m in \u001b[0;36m_register_to_dispatcher\u001b[0;34m(self)\u001b[0m\n\u001b[1;32m    471\u001b[0m             \u001b[0;32mreturn\u001b[0m \u001b[0mself\u001b[0m\u001b[0;34m.\u001b[0m\u001b[0m_abstract_fn\u001b[0m\u001b[0;34m(\u001b[0m\u001b[0;34m*\u001b[0m\u001b[0margs\u001b[0m\u001b[0;34m,\u001b[0m \u001b[0;34m**\u001b[0m\u001b[0mkwargs\u001b[0m\u001b[0;34m)\u001b[0m\u001b[0;34m\u001b[0m\u001b[0;34m\u001b[0m\u001b[0m\n\u001b[1;32m    472\u001b[0m \u001b[0;34m\u001b[0m\u001b[0m\n\u001b[0;32m--> 473\u001b[0;31m         \u001b[0mlib\u001b[0m\u001b[0;34m.\u001b[0m\u001b[0m_register_fake\u001b[0m\u001b[0;34m(\u001b[0m\u001b[0mself\u001b[0m\u001b[0;34m.\u001b[0m\u001b[0m_name\u001b[0m\u001b[0;34m,\u001b[0m \u001b[0mfake_impl\u001b[0m\u001b[0;34m,\u001b[0m \u001b[0m_stacklevel\u001b[0m\u001b[0;34m=\u001b[0m\u001b[0;36m4\u001b[0m\u001b[0;34m)\u001b[0m\u001b[0;34m\u001b[0m\u001b[0;34m\u001b[0m\u001b[0m\n\u001b[0m\u001b[1;32m    474\u001b[0m \u001b[0;34m\u001b[0m\u001b[0m\n\u001b[1;32m    475\u001b[0m         \u001b[0mautograd_impl\u001b[0m \u001b[0;34m=\u001b[0m \u001b[0m_library\u001b[0m\u001b[0;34m.\u001b[0m\u001b[0mautograd\u001b[0m\u001b[0;34m.\u001b[0m\u001b[0mmake_autograd_impl\u001b[0m\u001b[0;34m(\u001b[0m\u001b[0mself\u001b[0m\u001b[0;34m.\u001b[0m\u001b[0m_opoverload\u001b[0m\u001b[0;34m,\u001b[0m \u001b[0mself\u001b[0m\u001b[0;34m)\u001b[0m\u001b[0;34m\u001b[0m\u001b[0;34m\u001b[0m\u001b[0m\n",
            "\u001b[0;32m/usr/local/lib/python3.10/dist-packages/torch/library.py\u001b[0m in \u001b[0;36m_register_fake\u001b[0;34m(self, op_name, fn, _stacklevel)\u001b[0m\n\u001b[1;32m    133\u001b[0m     \u001b[0;32mdef\u001b[0m \u001b[0m_register_fake\u001b[0m\u001b[0;34m(\u001b[0m\u001b[0mself\u001b[0m\u001b[0;34m,\u001b[0m \u001b[0mop_name\u001b[0m\u001b[0;34m,\u001b[0m \u001b[0mfn\u001b[0m\u001b[0;34m,\u001b[0m \u001b[0m_stacklevel\u001b[0m\u001b[0;34m=\u001b[0m\u001b[0;36m1\u001b[0m\u001b[0;34m)\u001b[0m\u001b[0;34m:\u001b[0m\u001b[0;34m\u001b[0m\u001b[0;34m\u001b[0m\u001b[0m\n\u001b[1;32m    134\u001b[0m         \u001b[0;34mr'''Registers the fake impl for an operator defined in the library.'''\u001b[0m\u001b[0;34m\u001b[0m\u001b[0;34m\u001b[0m\u001b[0m\n\u001b[0;32m--> 135\u001b[0;31m         \u001b[0msource\u001b[0m \u001b[0;34m=\u001b[0m \u001b[0mtorch\u001b[0m\u001b[0;34m.\u001b[0m\u001b[0m_library\u001b[0m\u001b[0;34m.\u001b[0m\u001b[0mutils\u001b[0m\u001b[0;34m.\u001b[0m\u001b[0mget_source\u001b[0m\u001b[0;34m(\u001b[0m\u001b[0m_stacklevel\u001b[0m \u001b[0;34m+\u001b[0m \u001b[0;36m1\u001b[0m\u001b[0;34m)\u001b[0m\u001b[0;34m\u001b[0m\u001b[0;34m\u001b[0m\u001b[0m\n\u001b[0m\u001b[1;32m    136\u001b[0m         \u001b[0mframe\u001b[0m \u001b[0;34m=\u001b[0m \u001b[0msys\u001b[0m\u001b[0;34m.\u001b[0m\u001b[0m_getframe\u001b[0m\u001b[0;34m(\u001b[0m\u001b[0m_stacklevel\u001b[0m\u001b[0;34m)\u001b[0m\u001b[0;34m\u001b[0m\u001b[0;34m\u001b[0m\u001b[0m\n\u001b[1;32m    137\u001b[0m         \u001b[0mcaller_module\u001b[0m \u001b[0;34m=\u001b[0m \u001b[0minspect\u001b[0m\u001b[0;34m.\u001b[0m\u001b[0mgetmodule\u001b[0m\u001b[0;34m(\u001b[0m\u001b[0mframe\u001b[0m\u001b[0;34m)\u001b[0m\u001b[0;34m\u001b[0m\u001b[0;34m\u001b[0m\u001b[0m\n",
            "\u001b[0;32m/usr/local/lib/python3.10/dist-packages/torch/_library/utils.py\u001b[0m in \u001b[0;36mget_source\u001b[0;34m(stacklevel)\u001b[0m\n\u001b[1;32m     40\u001b[0m     \u001b[0metc\u001b[0m\u001b[0;34m.\u001b[0m\u001b[0;34m\u001b[0m\u001b[0;34m\u001b[0m\u001b[0m\n\u001b[1;32m     41\u001b[0m     \"\"\"\n\u001b[0;32m---> 42\u001b[0;31m     \u001b[0mframe\u001b[0m \u001b[0;34m=\u001b[0m \u001b[0minspect\u001b[0m\u001b[0;34m.\u001b[0m\u001b[0mgetframeinfo\u001b[0m\u001b[0;34m(\u001b[0m\u001b[0msys\u001b[0m\u001b[0;34m.\u001b[0m\u001b[0m_getframe\u001b[0m\u001b[0;34m(\u001b[0m\u001b[0mstacklevel\u001b[0m\u001b[0;34m)\u001b[0m\u001b[0;34m)\u001b[0m\u001b[0;34m\u001b[0m\u001b[0;34m\u001b[0m\u001b[0m\n\u001b[0m\u001b[1;32m     43\u001b[0m     \u001b[0msource\u001b[0m \u001b[0;34m=\u001b[0m \u001b[0;34mf\"{frame.filename}:{frame.lineno}\"\u001b[0m\u001b[0;34m\u001b[0m\u001b[0;34m\u001b[0m\u001b[0m\n\u001b[1;32m     44\u001b[0m     \u001b[0;32mreturn\u001b[0m \u001b[0msource\u001b[0m\u001b[0;34m\u001b[0m\u001b[0;34m\u001b[0m\u001b[0m\n",
            "\u001b[0;32m/usr/lib/python3.10/inspect.py\u001b[0m in \u001b[0;36mgetframeinfo\u001b[0;34m(frame, context)\u001b[0m\n\u001b[1;32m   1622\u001b[0m         \u001b[0mstart\u001b[0m \u001b[0;34m=\u001b[0m \u001b[0mlineno\u001b[0m \u001b[0;34m-\u001b[0m \u001b[0;36m1\u001b[0m \u001b[0;34m-\u001b[0m \u001b[0mcontext\u001b[0m\u001b[0;34m//\u001b[0m\u001b[0;36m2\u001b[0m\u001b[0;34m\u001b[0m\u001b[0;34m\u001b[0m\u001b[0m\n\u001b[1;32m   1623\u001b[0m         \u001b[0;32mtry\u001b[0m\u001b[0;34m:\u001b[0m\u001b[0;34m\u001b[0m\u001b[0;34m\u001b[0m\u001b[0m\n\u001b[0;32m-> 1624\u001b[0;31m             \u001b[0mlines\u001b[0m\u001b[0;34m,\u001b[0m \u001b[0mlnum\u001b[0m \u001b[0;34m=\u001b[0m \u001b[0mfindsource\u001b[0m\u001b[0;34m(\u001b[0m\u001b[0mframe\u001b[0m\u001b[0;34m)\u001b[0m\u001b[0;34m\u001b[0m\u001b[0;34m\u001b[0m\u001b[0m\n\u001b[0m\u001b[1;32m   1625\u001b[0m         \u001b[0;32mexcept\u001b[0m \u001b[0mOSError\u001b[0m\u001b[0;34m:\u001b[0m\u001b[0;34m\u001b[0m\u001b[0;34m\u001b[0m\u001b[0m\n\u001b[1;32m   1626\u001b[0m             \u001b[0mlines\u001b[0m \u001b[0;34m=\u001b[0m \u001b[0mindex\u001b[0m \u001b[0;34m=\u001b[0m \u001b[0;32mNone\u001b[0m\u001b[0;34m\u001b[0m\u001b[0;34m\u001b[0m\u001b[0m\n",
            "\u001b[0;32m/usr/lib/python3.10/inspect.py\u001b[0m in \u001b[0;36mfindsource\u001b[0;34m(object)\u001b[0m\n\u001b[1;32m    950\u001b[0m             \u001b[0;32mraise\u001b[0m \u001b[0mOSError\u001b[0m\u001b[0;34m(\u001b[0m\u001b[0;34m'source code not available'\u001b[0m\u001b[0;34m)\u001b[0m\u001b[0;34m\u001b[0m\u001b[0;34m\u001b[0m\u001b[0m\n\u001b[1;32m    951\u001b[0m \u001b[0;34m\u001b[0m\u001b[0m\n\u001b[0;32m--> 952\u001b[0;31m     \u001b[0mmodule\u001b[0m \u001b[0;34m=\u001b[0m \u001b[0mgetmodule\u001b[0m\u001b[0;34m(\u001b[0m\u001b[0mobject\u001b[0m\u001b[0;34m,\u001b[0m \u001b[0mfile\u001b[0m\u001b[0;34m)\u001b[0m\u001b[0;34m\u001b[0m\u001b[0;34m\u001b[0m\u001b[0m\n\u001b[0m\u001b[1;32m    953\u001b[0m     \u001b[0;32mif\u001b[0m \u001b[0mmodule\u001b[0m\u001b[0;34m:\u001b[0m\u001b[0;34m\u001b[0m\u001b[0;34m\u001b[0m\u001b[0m\n\u001b[1;32m    954\u001b[0m         \u001b[0mlines\u001b[0m \u001b[0;34m=\u001b[0m \u001b[0mlinecache\u001b[0m\u001b[0;34m.\u001b[0m\u001b[0mgetlines\u001b[0m\u001b[0;34m(\u001b[0m\u001b[0mfile\u001b[0m\u001b[0;34m,\u001b[0m \u001b[0mmodule\u001b[0m\u001b[0;34m.\u001b[0m\u001b[0m__dict__\u001b[0m\u001b[0;34m)\u001b[0m\u001b[0;34m\u001b[0m\u001b[0;34m\u001b[0m\u001b[0m\n",
            "\u001b[0;32m/usr/lib/python3.10/inspect.py\u001b[0m in \u001b[0;36mgetmodule\u001b[0;34m(object, _filename)\u001b[0m\n\u001b[1;32m    876\u001b[0m             \u001b[0;31m# Always map to the name the module knows itself by\u001b[0m\u001b[0;34m\u001b[0m\u001b[0;34m\u001b[0m\u001b[0m\n\u001b[1;32m    877\u001b[0m             modulesbyfile[f] = modulesbyfile[\n\u001b[0;32m--> 878\u001b[0;31m                 os.path.realpath(f)] = module.__name__\n\u001b[0m\u001b[1;32m    879\u001b[0m     \u001b[0;32mif\u001b[0m \u001b[0mfile\u001b[0m \u001b[0;32min\u001b[0m \u001b[0mmodulesbyfile\u001b[0m\u001b[0;34m:\u001b[0m\u001b[0;34m\u001b[0m\u001b[0;34m\u001b[0m\u001b[0m\n\u001b[1;32m    880\u001b[0m         \u001b[0;32mreturn\u001b[0m \u001b[0msys\u001b[0m\u001b[0;34m.\u001b[0m\u001b[0mmodules\u001b[0m\u001b[0;34m.\u001b[0m\u001b[0mget\u001b[0m\u001b[0;34m(\u001b[0m\u001b[0mmodulesbyfile\u001b[0m\u001b[0;34m[\u001b[0m\u001b[0mfile\u001b[0m\u001b[0;34m]\u001b[0m\u001b[0;34m)\u001b[0m\u001b[0;34m\u001b[0m\u001b[0;34m\u001b[0m\u001b[0m\n",
            "\u001b[0;32m/usr/lib/python3.10/posixpath.py\u001b[0m in \u001b[0;36mrealpath\u001b[0;34m(filename, strict)\u001b[0m\n\u001b[1;32m    394\u001b[0m symbolic links encountered in the path.\"\"\"\n\u001b[1;32m    395\u001b[0m     \u001b[0mfilename\u001b[0m \u001b[0;34m=\u001b[0m \u001b[0mos\u001b[0m\u001b[0;34m.\u001b[0m\u001b[0mfspath\u001b[0m\u001b[0;34m(\u001b[0m\u001b[0mfilename\u001b[0m\u001b[0;34m)\u001b[0m\u001b[0;34m\u001b[0m\u001b[0;34m\u001b[0m\u001b[0m\n\u001b[0;32m--> 396\u001b[0;31m     \u001b[0mpath\u001b[0m\u001b[0;34m,\u001b[0m \u001b[0mok\u001b[0m \u001b[0;34m=\u001b[0m \u001b[0m_joinrealpath\u001b[0m\u001b[0;34m(\u001b[0m\u001b[0mfilename\u001b[0m\u001b[0;34m[\u001b[0m\u001b[0;34m:\u001b[0m\u001b[0;36m0\u001b[0m\u001b[0;34m]\u001b[0m\u001b[0;34m,\u001b[0m \u001b[0mfilename\u001b[0m\u001b[0;34m,\u001b[0m \u001b[0mstrict\u001b[0m\u001b[0;34m,\u001b[0m \u001b[0;34m{\u001b[0m\u001b[0;34m}\u001b[0m\u001b[0;34m)\u001b[0m\u001b[0;34m\u001b[0m\u001b[0;34m\u001b[0m\u001b[0m\n\u001b[0m\u001b[1;32m    397\u001b[0m     \u001b[0;32mreturn\u001b[0m \u001b[0mabspath\u001b[0m\u001b[0;34m(\u001b[0m\u001b[0mpath\u001b[0m\u001b[0;34m)\u001b[0m\u001b[0;34m\u001b[0m\u001b[0;34m\u001b[0m\u001b[0m\n\u001b[1;32m    398\u001b[0m \u001b[0;34m\u001b[0m\u001b[0m\n",
            "\u001b[0;32m/usr/lib/python3.10/posixpath.py\u001b[0m in \u001b[0;36m_joinrealpath\u001b[0;34m(path, rest, strict, seen)\u001b[0m\n\u001b[1;32m    427\u001b[0m                 \u001b[0mpath\u001b[0m \u001b[0;34m=\u001b[0m \u001b[0mpardir\u001b[0m\u001b[0;34m\u001b[0m\u001b[0;34m\u001b[0m\u001b[0m\n\u001b[1;32m    428\u001b[0m             \u001b[0;32mcontinue\u001b[0m\u001b[0;34m\u001b[0m\u001b[0;34m\u001b[0m\u001b[0m\n\u001b[0;32m--> 429\u001b[0;31m         \u001b[0mnewpath\u001b[0m \u001b[0;34m=\u001b[0m \u001b[0mjoin\u001b[0m\u001b[0;34m(\u001b[0m\u001b[0mpath\u001b[0m\u001b[0;34m,\u001b[0m \u001b[0mname\u001b[0m\u001b[0;34m)\u001b[0m\u001b[0;34m\u001b[0m\u001b[0;34m\u001b[0m\u001b[0m\n\u001b[0m\u001b[1;32m    430\u001b[0m         \u001b[0;32mtry\u001b[0m\u001b[0;34m:\u001b[0m\u001b[0;34m\u001b[0m\u001b[0;34m\u001b[0m\u001b[0m\n\u001b[1;32m    431\u001b[0m             \u001b[0mst\u001b[0m \u001b[0;34m=\u001b[0m \u001b[0mos\u001b[0m\u001b[0;34m.\u001b[0m\u001b[0mlstat\u001b[0m\u001b[0;34m(\u001b[0m\u001b[0mnewpath\u001b[0m\u001b[0;34m)\u001b[0m\u001b[0;34m\u001b[0m\u001b[0;34m\u001b[0m\u001b[0m\n",
            "\u001b[0;32m/usr/lib/python3.10/posixpath.py\u001b[0m in \u001b[0;36mjoin\u001b[0;34m(a, *p)\u001b[0m\n\u001b[1;32m     81\u001b[0m             \u001b[0mpath\u001b[0m\u001b[0;34m[\u001b[0m\u001b[0;34m:\u001b[0m\u001b[0;36m0\u001b[0m\u001b[0;34m]\u001b[0m \u001b[0;34m+\u001b[0m \u001b[0msep\u001b[0m  \u001b[0;31m#23780: Ensure compatible data type even if p is null.\u001b[0m\u001b[0;34m\u001b[0m\u001b[0;34m\u001b[0m\u001b[0m\n\u001b[1;32m     82\u001b[0m         \u001b[0;32mfor\u001b[0m \u001b[0mb\u001b[0m \u001b[0;32min\u001b[0m \u001b[0mmap\u001b[0m\u001b[0;34m(\u001b[0m\u001b[0mos\u001b[0m\u001b[0;34m.\u001b[0m\u001b[0mfspath\u001b[0m\u001b[0;34m,\u001b[0m \u001b[0mp\u001b[0m\u001b[0;34m)\u001b[0m\u001b[0;34m:\u001b[0m\u001b[0;34m\u001b[0m\u001b[0;34m\u001b[0m\u001b[0m\n\u001b[0;32m---> 83\u001b[0;31m             \u001b[0;32mif\u001b[0m \u001b[0mb\u001b[0m\u001b[0;34m.\u001b[0m\u001b[0mstartswith\u001b[0m\u001b[0;34m(\u001b[0m\u001b[0msep\u001b[0m\u001b[0;34m)\u001b[0m\u001b[0;34m:\u001b[0m\u001b[0;34m\u001b[0m\u001b[0;34m\u001b[0m\u001b[0m\n\u001b[0m\u001b[1;32m     84\u001b[0m                 \u001b[0mpath\u001b[0m \u001b[0;34m=\u001b[0m \u001b[0mb\u001b[0m\u001b[0;34m\u001b[0m\u001b[0;34m\u001b[0m\u001b[0m\n\u001b[1;32m     85\u001b[0m             \u001b[0;32melif\u001b[0m \u001b[0;32mnot\u001b[0m \u001b[0mpath\u001b[0m \u001b[0;32mor\u001b[0m \u001b[0mpath\u001b[0m\u001b[0;34m.\u001b[0m\u001b[0mendswith\u001b[0m\u001b[0;34m(\u001b[0m\u001b[0msep\u001b[0m\u001b[0;34m)\u001b[0m\u001b[0;34m:\u001b[0m\u001b[0;34m\u001b[0m\u001b[0;34m\u001b[0m\u001b[0m\n",
            "\u001b[0;31mKeyboardInterrupt\u001b[0m: "
          ]
        }
      ],
      "source": [
        "import torch\n",
        "from torch import nn # nn contains all of building blocks of neural networks from torch\n",
        "import pandas as pd\n",
        "import numpy as np\n",
        "import matplotlib.pyplot as plt\n",
        "import sklearn # great for machine learning purposes\n",
        "# import torchvision\n",
        "import torchvision\n",
        "from torchvision import transforms\n",
        "from torchvision.transforms import ToTensor\n",
        "from torchvision import datasets\n",
        "from torch.utils.data import DataLoader\n",
        "from torch.utils.data import Dataset"
      ]
    },
    {
      "cell_type": "code",
      "execution_count": null,
      "metadata": {
        "id": "PZdAOW9eXwwg"
      },
      "outputs": [],
      "source": [
        "device = \"cuda\" if torch.cuda.is_available() else \"cpu\"\n",
        "device\n"
      ]
    },
    {
      "cell_type": "markdown",
      "metadata": {
        "id": "Pa7b8R1WZTRc"
      },
      "source": [
        "## 1. Get Data\n",
        "\n",
        "Our dataset is a subset of the Food101 dataset.\n",
        "\n",
        "Food101 starts 101 different classes of food and 1000 images per class (750 training, 250 testing).\n",
        "\n",
        "Our dataset starts with 3 classes of food and only 10% of the images (~75 training, 25 testing).\n",
        "\n",
        "Why do this?\n",
        "\n",
        "When starting out ML projects, it's important to try things on a small scale and then increase the scale when necessary.\n",
        "\n",
        "The whole point is to speed up how fast you can experiment."
      ]
    },
    {
      "cell_type": "code",
      "execution_count": null,
      "metadata": {
        "id": "2Zt2J0sqZSWq"
      },
      "outputs": [],
      "source": [
        "import requests\n",
        "import zipfile\n",
        "from pathlib import Path\n",
        "\n",
        "# Setup path to a data folder\n",
        "data_path = Path(\"data/\")\n",
        "image_path = data_path / \"pizza_steak_sushi\" # Images from 3 classes\n",
        "\n",
        "# If the image folder doesn't exist, dowload it and unzip it\n",
        "if image_path.is_dir():\n",
        "  print(f\"{image_path} already exist\")\n",
        "else:\n",
        "  print(\"Creating directory...\")\n",
        "  image_path.mkdir(parents=True, exist_ok=True)\n",
        "\n",
        "# Download pizza, steak and sushi data\n",
        "with open(data_path / \"pizza_steak_sushi.zip\", \"wb\") as f: # Create file with write permissions as f (shorthand for file)\n",
        "  # request = requests.get(\"https://github.com/mrdbourke/pytorch-deep-learning/blob/main/data/pizza_steak_sushi.zip\") this will throw an error\n",
        "  request = requests.get(\"https://github.com/mrdbourke/pytorch-deep-learning/raw/main/data/pizza_steak_sushi.zip\") # make sure get the raw data, not blob\n",
        "  print(f\"Downloading pizza, steak, sushi data...\")\n",
        "  f.write(request.content)\n",
        "\n",
        "# Unzip the data\n",
        "with zipfile.ZipFile(data_path / \"pizza_steak_sushi.zip\", \"r\") as zip_ref: # Create file with read-only permission as f (shorthand for file)\n",
        "  print(f\"Unzipping pizza, steak, sushi data...\")\n",
        "  zip_ref.extractall(image_path) # Extract in image_path"
      ]
    },
    {
      "cell_type": "markdown",
      "metadata": {
        "id": "B7UlIyGjeXJ9"
      },
      "source": [
        "## 2. Becoming one with the data (data preparation and data preparation)"
      ]
    },
    {
      "cell_type": "code",
      "execution_count": null,
      "metadata": {
        "id": "srFr11CWbAEw"
      },
      "outputs": [],
      "source": [
        "import os\n",
        "def walk_through_dir(dir_path):\n",
        "  \"\"\"\n",
        "  Walks through dir_path returning its contents\n",
        "  \"\"\"\n",
        "  for dirpath, dirnames, filenames in os.walk(dir_path):\n",
        "    print(f\"There are {len(dirnames)} directories and {len(filenames)} images in {dirpath}\")\n",
        "\n",
        "walk_through_dir(image_path)"
      ]
    },
    {
      "cell_type": "code",
      "execution_count": null,
      "metadata": {
        "id": "N_82Ar9Gf35x"
      },
      "outputs": [],
      "source": [
        "# Setup train and test path\n",
        "train_dir = image_path / \"train\"\n",
        "test_dir = image_path / \"test\"\n",
        "\n",
        "train_dir, test_dir"
      ]
    },
    {
      "cell_type": "markdown",
      "metadata": {
        "id": "FanBMroshkeX"
      },
      "source": [
        "### 2.1 Visualizing an image\n",
        "\n",
        "1. Get all of the image paths\n",
        "2. Pick a random image path using Python random.choice()\n",
        "3. Get the image class name using `pathlib.Path.parent.stem`\n",
        "4. Since we're working with images,  let's open the image with Python PIL\n",
        "5. Show the image and print meta data"
      ]
    },
    {
      "cell_type": "code",
      "execution_count": null,
      "metadata": {
        "id": "h4-kYS4qhBr6"
      },
      "outputs": [],
      "source": [
        "import random\n",
        "from PIL import Image\n",
        "\n",
        "random.seed(42)\n",
        "\n",
        "# 1. Get all image paths\n",
        "image_path_list = list(image_path.glob(\"*/*/*.jpg\"))\n",
        "\n",
        "# 2. Pick a random image path\n",
        "random_image_path = random.choice(image_path_list)\n",
        "print(random_image_path)\n",
        "\n",
        "# 3. Get image class from path name (the image class is the name of directory where the image is stored)\n",
        "image_class = random_image_path.parent.stem\n",
        "print(image_class)\n",
        "\n",
        "# 4. Open image\n",
        "img = Image.open(random_image_path)\n",
        "\n",
        "# 5. Print metadata\n",
        "print(f\"Random image path: {random_image_path}\")\n",
        "print(f\"Image class: {image_class}\")\n",
        "print(f\"Image Height: {img.height}\")\n",
        "print(f\"Image Width: {img.width}\")\n",
        "img"
      ]
    },
    {
      "cell_type": "code",
      "execution_count": null,
      "metadata": {
        "id": "xLAWLxpajOdE"
      },
      "outputs": [],
      "source": [
        "len(image_path_list), image_path_list"
      ]
    },
    {
      "cell_type": "code",
      "execution_count": null,
      "metadata": {
        "id": "1IDEllbdl_H0"
      },
      "outputs": [],
      "source": [
        "# Turn the image into an array\n",
        "img_as_array = np.asarray(img)\n",
        "\n",
        "# Plot the image with matplotlib\n",
        "plt.figure(figsize=(10, 7))\n",
        "plt.imshow(img_as_array)\n",
        "plt.title(f\"Image class: {image_class} | Image shape: {img_as_array.shape} -> [height, width, color_channels] (HWC)\")\n",
        "plt.axis(False)"
      ]
    },
    {
      "cell_type": "markdown",
      "metadata": {
        "id": "DXiO9zj7nXrY"
      },
      "source": [
        "## 3. Transforming data\n",
        "\n",
        "1. Turn target data into tensors\n",
        "2. Turn it into `torch.utils.data.Dataset` and subsequently a `torch.utils.data.DataLoader`,"
      ]
    },
    {
      "cell_type": "code",
      "execution_count": null,
      "metadata": {
        "id": "5Zsm1V5AmlwG"
      },
      "outputs": [],
      "source": [
        "import torch\n",
        "from torch.utils.data import DataLoader\n",
        "from torchvision import datasets, transforms"
      ]
    },
    {
      "cell_type": "markdown",
      "metadata": {
        "id": "kuB6FMzbj6cC"
      },
      "source": [
        "### 3.1 Transforming data with `torchvision.transforms`"
      ]
    },
    {
      "cell_type": "code",
      "execution_count": null,
      "metadata": {
        "id": "CyIA47-ij3yL"
      },
      "outputs": [],
      "source": [
        "# Write a transform for image\n",
        "data_transform = transforms.Compose([\n",
        "    # Resize our images to 64x64\n",
        "    transforms.Resize(size=(64,64)), # replicating size of image on cnn explainer website\n",
        "    # Flip the images randomly on the horizontal\n",
        "    transforms.RandomHorizontalFlip(p=0.5), # 50% (0.5) of the time when it goes through this transform it will be flipped horizontally\n",
        "    # Turn the image into a tensor\n",
        "    transforms.ToTensor() # Turns (HWC) into (CHW) format\n",
        "])"
      ]
    },
    {
      "cell_type": "code",
      "execution_count": null,
      "metadata": {
        "id": "Aar91v2ulhHp"
      },
      "outputs": [],
      "source": [
        "data_transform(img)"
      ]
    },
    {
      "cell_type": "code",
      "execution_count": null,
      "metadata": {
        "id": "KcYQDyFslmGp"
      },
      "outputs": [],
      "source": [
        "def plot_transformed_images(image_paths, transform, n=3, seed=None):\n",
        "  \"\"\"\n",
        "  Selects random Images from a path of images and loads/transforms them then\n",
        "  plots the original vs the transformed version.\n",
        "  \"\"\"\n",
        "  if seed:\n",
        "    random.seed(seed)\n",
        "  random_image_paths= random.sample(image_paths, k=n)\n",
        "  for image_path in random_image_paths:\n",
        "    with Image.open(image_path) as f:\n",
        "      fig, ax =plt.subplots(nrows=1, ncols=2)\n",
        "      ax[0].imshow(f) # 0 axis show image\n",
        "      ax[0].set_title(f\"Original\\nSize: {f.size}\")\n",
        "      ax[0].axis(False)\n",
        "\n",
        "      # Transform and plot target image using matplotlib which uses (HWC) Format\n",
        "      transformed_image = transform(f).permute(1, 2, 0) # Change shape (0, 1, 2) -> (1, 2, 0) whereas (C, H, W) -> (H, W, C)\n",
        "      ax[1].imshow(transformed_image)\n",
        "      ax[1].set_title(f\"Transformed image\\nSize: {transformed_image.shape}\")\n",
        "      ax[1].axis(\"off\")\n",
        "\n",
        "      fig.suptitle(f\"Class: {image_path.parent.stem}\", fontsize=16)\n",
        "\n",
        "plot_transformed_images(\n",
        "    image_paths=image_path_list,\n",
        "    transform=data_transform,\n",
        "    n=3,\n",
        "    seed=42\n",
        ")"
      ]
    },
    {
      "cell_type": "markdown",
      "metadata": {
        "id": "L2DHtk0isTKl"
      },
      "source": [
        "## 4. Option 1: Loading image data using `ImageFolder`\n",
        "We can load image classification data using `torchvision.datasets.ImageFolder`"
      ]
    },
    {
      "cell_type": "code",
      "execution_count": null,
      "metadata": {
        "id": "dnqsOhD1mRqX"
      },
      "outputs": [],
      "source": [
        "# Use ImageFolderr to create dataset(s)\n",
        "from torchvision import datasets\n",
        "train_data = datasets.ImageFolder(root=train_dir,\n",
        "                                  transform=data_transform, # transform for the data\n",
        "                                  target_transform=None # transform for the label (we set it to none bcuz image directory is our label)\n",
        "                                  )\n",
        "test_data = datasets.ImageFolder(root=test_dir,\n",
        "                                  transform=data_transform, # transform for the data\n",
        "                                  target_transform=None # transform for the label (we set it to none bcuz image directory is our label)\n",
        "                                  )\n",
        "\n",
        "train_data, test_data"
      ]
    },
    {
      "cell_type": "code",
      "execution_count": null,
      "metadata": {
        "id": "cMqaNoXTuYFT"
      },
      "outputs": [],
      "source": [
        "# Get class names as list\n",
        "class_names = train_data.classes\n",
        "class_names"
      ]
    },
    {
      "cell_type": "code",
      "execution_count": null,
      "metadata": {
        "id": "zjewNUwHusS8"
      },
      "outputs": [],
      "source": [
        "# Get class names as dict\n",
        "class_dict = train_data.class_to_idx\n",
        "class_dict"
      ]
    },
    {
      "cell_type": "code",
      "execution_count": null,
      "metadata": {
        "id": "-rP7V8aIvHzL"
      },
      "outputs": [],
      "source": [
        "len(train_data), len(test_data)"
      ]
    },
    {
      "cell_type": "code",
      "execution_count": null,
      "metadata": {
        "id": "Mi097tAbwC1t"
      },
      "outputs": [],
      "source": [
        "train_data.samples[0]"
      ]
    },
    {
      "cell_type": "code",
      "execution_count": null,
      "metadata": {
        "id": "hkAh40TswLcn"
      },
      "outputs": [],
      "source": [
        "# Index on train data dataset to get single image and label\n",
        "img, label = train_data[0][0], train_data[0][1]\n",
        "label,type(label),img.shape,img.dtype, img"
      ]
    },
    {
      "cell_type": "code",
      "execution_count": null,
      "metadata": {
        "id": "fvLSbT4ww-3A"
      },
      "outputs": [],
      "source": [
        "class_names[label]"
      ]
    },
    {
      "cell_type": "code",
      "execution_count": null,
      "metadata": {
        "id": "lN_LWoJdxCOg"
      },
      "outputs": [],
      "source": [
        "# Rearrange the order dimensions\n",
        "img_permute = img.permute(1,2,0)\n",
        "\n",
        "# Plot the image\n",
        "plt.figure(figsize=(10,7))\n",
        "plt.imshow(img_permute)\n",
        "plt.axis(False)\n",
        "plt.title(class_names[label], fontsize=14)"
      ]
    },
    {
      "cell_type": "markdown",
      "metadata": {
        "id": "M0hELhFwyvcj"
      },
      "source": [
        "### 4.1 Turn loaded images into `DataLoader`\n",
        "\n",
        "A `DataLoader` is going to help us turn our `Dataset` into iterables and we can customise the `batch_size` so our model can see `batch_size` images at a time."
      ]
    },
    {
      "cell_type": "code",
      "execution_count": null,
      "metadata": {
        "id": "DwHVo6VL0u5V"
      },
      "outputs": [],
      "source": [
        "os.cpu_count()"
      ]
    },
    {
      "cell_type": "code",
      "execution_count": null,
      "metadata": {
        "id": "byIQH-n5yg2n"
      },
      "outputs": [],
      "source": [
        "#Turn train and test datasets into DataLoader\n",
        "from torch.utils.data import DataLoader\n",
        "BATCH_SIZE = 32\n",
        "train_dataloader = DataLoader(dataset=train_data,\n",
        "                              batch_size=BATCH_SIZE,\n",
        "                              num_workers=os.cpu_count(), # How many CPU cores that load the data (the higher the better)\n",
        "                              shuffle=True # We want to prevent order and let the machine train on various type of data\n",
        "                              )\n",
        "\n",
        "test_dataloader = DataLoader(dataset=test_data,\n",
        "                              batch_size=BATCH_SIZE,\n",
        "                             num_workers=os.cpu_count(), # How many CPU cores that load the data (the higher the better)\n",
        "                              shuffle=False # When evaluating a model, generally its better to have a specific order or atleast its ok to have order for test purpose\n",
        "                              )\n",
        "\n",
        "train_dataloader, test_dataloader"
      ]
    },
    {
      "cell_type": "code",
      "execution_count": null,
      "metadata": {
        "id": "9XfIcRKr1Drl"
      },
      "outputs": [],
      "source": [
        "len(train_dataloader),len(test_dataloader)"
      ]
    },
    {
      "cell_type": "code",
      "execution_count": null,
      "metadata": {
        "id": "Uge8qPwk1N0I"
      },
      "outputs": [],
      "source": [
        "train_features_batch, train_labels_batch = next(iter(train_dataloader)) # get first batch\n",
        "test_features_batch, test_labels_batch = next(iter(test_dataloader))\n",
        "train_features_batch.shape, test_labels_batch , train_labels_batch.shape, test_features_batch.argmax(dim=1)"
      ]
    },
    {
      "cell_type": "markdown",
      "metadata": {
        "id": "wW2m7J5i4ZR-"
      },
      "source": [
        "## 5. Option 2: Loading image data with a custom `Dataset`\n",
        "\n",
        "1. Load images from file\n",
        "2. Want to be able to get class names from the Dataset\n",
        "3. Get classes as dictionary from the Dataset\n",
        "\n",
        "Pros:\n",
        "\n",
        "* Can create a Dataset out of almost anything\n",
        "* Not limited to PyTorch pre-built Dataset functions\n",
        "\n",
        "Cons:\n",
        "\n",
        "* Even though you could create Dataset out of almost anything, it doesn't mean it will work...\n",
        "* Using a custom Dataset often results in us writing more code, which could be prone to errors or performance issues\n",
        "\n",
        "All custom datasets in PyTorch, often subclass - https://pytorch.org/docs/stable/data.html#torch.utils.data.Dataset"
      ]
    },
    {
      "cell_type": "code",
      "execution_count": null,
      "metadata": {
        "id": "cloehBOm1qme"
      },
      "outputs": [],
      "source": [
        "import os\n",
        "import pathlib\n",
        "import torch\n",
        "\n",
        "from PIL import Image\n",
        "from torch.utils.data import Dataset\n",
        "from torchvision import transforms\n",
        "from typing import Tuple, Dict, List"
      ]
    },
    {
      "cell_type": "code",
      "execution_count": null,
      "metadata": {
        "id": "SoFYA34hhhHo"
      },
      "outputs": [],
      "source": [
        "# Instance of torchvision.dataset.ImageFolder()\n",
        "train_data.classes, train_data.class_to_idx"
      ]
    },
    {
      "cell_type": "markdown",
      "metadata": {
        "id": "5ruL1ajviV3e"
      },
      "source": [
        "### 5.1 Creating a helper function to get class names\n",
        "\n",
        "We want a function to:\n",
        "1. Get the class names using `os.scandir()` to traverse a target directory\n",
        "2. Raise an error if class names are not found (something wrong with directory structure)\n",
        "3. Turn the class names into a dict and a list and return them"
      ]
    },
    {
      "cell_type": "code",
      "execution_count": null,
      "metadata": {
        "id": "B6qMoykfh45s"
      },
      "outputs": [],
      "source": [
        "# Setup path for target directory\n",
        "target_directory = train_dir\n",
        "print(f\" Target dir: {target_directory}\")\n",
        "\n",
        "# Get the class named from the target directory\n",
        "class_names_found = sorted([entry.name for entry in list(os.scandir(target_directory))])\n",
        "class_names_found"
      ]
    },
    {
      "cell_type": "code",
      "execution_count": null,
      "metadata": {
        "id": "1ZOJmEK0j2Ie"
      },
      "outputs": [],
      "source": [
        "list(os.scandir(target_directory))"
      ]
    },
    {
      "cell_type": "code",
      "execution_count": null,
      "metadata": {
        "id": "fp7S5-Bzj67c"
      },
      "outputs": [],
      "source": [
        "def find_classes(directory: str)-> Tuple[List[str], Dict[str, int]]:\n",
        "  \"\"\"\n",
        "  Finds the class folder names in a target directory\n",
        "  \"\"\"\n",
        "  # 1. Get the class names by scanning the target directory\n",
        "  classes = sorted(entry.name for entry in os.scandir(directory) if entry.is_dir())\n",
        "\n",
        "  # 2. Raise na error if class names could not be found\n",
        "  if not classes:\n",
        "    raise FileNotFoundError(f\"Couldn't find any classes in {directory}... please check file structure\")\n",
        "\n",
        "  # 3. Create dictionary of index labels (computers prefer numbers rather than strings as labels)\n",
        "  class_to_idx = {class_name: i for i, class_name in enumerate(classes)}\n",
        "  return classes, class_to_idx"
      ]
    },
    {
      "cell_type": "code",
      "execution_count": null,
      "metadata": {
        "id": "eYDqe0milare"
      },
      "outputs": [],
      "source": [
        "find_classes(target_directory)"
      ]
    },
    {
      "cell_type": "markdown",
      "metadata": {
        "id": "MTvy0EEkmzrc"
      },
      "source": [
        "### 5.2 Create a custom `Dataset` to replicate `ImageFolder`\n",
        "\n",
        "To create our own custom dataset, we want to:\n",
        "1. Subclass `torch.utils.data.Dataset`\n",
        "2. Init our subclass with a target directory (directory where the data is stored)\n",
        "3. Create several attributes:\n",
        "  * paths - paths of our images\n",
        "  * transform - the transform we'd like to use\n",
        "  * classes - a list of target classes\n",
        "  * class_to_idx - a dict of target classes mapped to integer labels\n",
        "4. Create a function to `load_images()`, this fuction will open an image\n",
        "5. Overwrite the `__len()__` method to return the length of our dataset\n",
        "6. Overwrite the `__getitem()__` method to return a given sample when passed an index\n"
      ]
    },
    {
      "cell_type": "code",
      "execution_count": null,
      "metadata": {
        "id": "0UGksRIhleSn"
      },
      "outputs": [],
      "source": [
        "# 0. Write a custom dataset class\n",
        "from torch.utils.data import Dataset\n",
        "\n",
        "# 1. Subclass torch.utils.data.Dataset\n",
        "class ImageFolderCustom(Dataset):\n",
        "  # 2. Initialize our custom dataset\n",
        "  def __init__(self,\n",
        "               targ_dir: str,\n",
        "               transform: None\n",
        "               ):\n",
        "    # 3. Create class attributes\n",
        "    # Get all of the image paths\n",
        "    self.paths = list(pathlib.Path(targ_dir).glob(\"*/*.jpg\")) # \"*\" means all items within that path\n",
        "    # Setup transform\n",
        "    self.transform = transform\n",
        "    # Create classes and class_to_idx attributes\n",
        "    self.classes, self.class_to_idx = find_classes(targ_dir)\n",
        "\n",
        "  # 4. Create a function to load_images(), this fuction will open an image\n",
        "  def load_image(self, index: int) -> Image.Image:\n",
        "    \"\"\"\n",
        "    Opens an image via a path and returns it\n",
        "    \"\"\"\n",
        "    image_path = self.paths[index]\n",
        "    return Image.open(image_path)\n",
        "\n",
        "  # 5. Overwrite the __len()__ method to return the length of our dataset\n",
        "  def __len__(self)->int:\n",
        "    \"\"\"\n",
        "    Returns the total number of sample\n",
        "    \"\"\"\n",
        "    return len(self.paths)\n",
        "\n",
        "  # 6. Overwrite the __getitem()__ method to return a given sample when passed an index\n",
        "  def __getitem__(self, index: int)->Tuple[torch.Tensor,int]:\n",
        "    \"\"\"\n",
        "    Returns one sample of data, data and label (X, y)\n",
        "    \"\"\"\n",
        "    img = self.load_image(index)\n",
        "    class_name = self.paths[index].parent.name # expects path in format: data_folder/class_name/image.jpg\n",
        "    class_idx = self.class_to_idx[class_name]\n",
        "\n",
        "    # Tranform if necessary\n",
        "    if self.transform:\n",
        "      return self.transform(img), class_idx # return data, label(X, y)\n",
        "    else:\n",
        "      return img, class_idx # return untransformed image, label(X, y)\n"
      ]
    },
    {
      "cell_type": "code",
      "execution_count": null,
      "metadata": {
        "id": "hnNlZEAjt4O_"
      },
      "outputs": [],
      "source": [
        "# Create a transform\n",
        "train_transforms = transforms.Compose([\n",
        "    transforms.Resize(size=(64, 64)),\n",
        "    transforms.RandomHorizontalFlip(p=0.5),\n",
        "    transforms.ToTensor()\n",
        "])\n",
        "\n",
        "test_transforms = transforms.Compose([\n",
        "    transforms.Resize(size=(64, 64)),\n",
        "    # We're not changing data augmentation when we are testing, only in training\n",
        "    transforms.ToTensor()\n",
        "])"
      ]
    },
    {
      "cell_type": "code",
      "execution_count": null,
      "metadata": {
        "id": "9BOSPlJlumc_"
      },
      "outputs": [],
      "source": [
        "# Test out ImageFolderCustom\n",
        "train_data_custom = ImageFolderCustom(targ_dir=train_dir,\n",
        "                                      transform=train_transforms)\n",
        "test_data_custom = ImageFolderCustom(targ_dir=test_dir,\n",
        "                                      transform=test_transforms)\n",
        "len(train_data),len(train_data_custom)"
      ]
    },
    {
      "cell_type": "code",
      "execution_count": null,
      "metadata": {
        "id": "AM7oh4WvvD4H"
      },
      "outputs": [],
      "source": [
        "train_data_custom.classes == train_data.classes"
      ]
    },
    {
      "cell_type": "code",
      "execution_count": null,
      "metadata": {
        "id": "hciRm3BKvHjN"
      },
      "outputs": [],
      "source": [
        "train_data_custom.class_to_idx"
      ]
    },
    {
      "cell_type": "markdown",
      "metadata": {
        "id": "XECCHSosxLWW"
      },
      "source": [
        "### 5.3 Create a function to display random images\n",
        "\n",
        "1. Take in a Dataset and a number of other parameters such as class names and how many images to visualize.\n",
        "2. To prevent the display getting out of hand, let's cap the number of images to see at 10.\n",
        "3. Set the random seed for reproducibility\n",
        "4. Get a list of random sample indexes from the target dataset.\n",
        "5. Setup a matplotlib plot.\n",
        "6. Loop through the random sample indexes and plot them with matploltib.\n",
        "7. Make sure the dimensions of our images line up with matplotlib (HWC)"
      ]
    },
    {
      "cell_type": "code",
      "execution_count": null,
      "metadata": {
        "id": "bHi-ybyivTce"
      },
      "outputs": [],
      "source": [
        "# 1. Create a function to take in a dataset\n",
        "def display_random_images(dataset: torch.utils.data.Dataset ,\n",
        "                          classes: List[int]=None,\n",
        "                          n: int = 10,\n",
        "                          display_shape: bool = True,\n",
        "                          seed: int = None\n",
        "                          ):\n",
        "  # 2. Adjust display if n is too high\n",
        "  if n > 6:\n",
        "    display_shape = False\n",
        "    if n > 10:\n",
        "      n=10\n",
        "      print(f\"For display, purposes, n shouldn't be larger than 10, setting to 10 and removing shape display.\")\n",
        "\n",
        "  # 3. Set the seed\n",
        "  if seed:\n",
        "    random.seed(seed)\n",
        "\n",
        "  # 4. Get random sample indexes\n",
        "  random_samples_idx = random.sample(range(len(dataset)), k=n)\n",
        "\n",
        "  # 5. Setup plot\n",
        "  plt.figure(figsize=(16, 8))\n",
        "\n",
        "  # 6. Loop through random indexes and plot them with matplotlib\n",
        "  for i, targ_sample in enumerate(random_samples_idx):\n",
        "    targ_image, targ_label = dataset[targ_sample][0], dataset[targ_sample][1]\n",
        "\n",
        "    # 7. Adjust tensor dimensions for plotting\n",
        "    targ_image_adjust = targ_image.permute(1, 2, 0) # (CHW) -> (HWC)\n",
        "\n",
        "    # Plot adjusted samples\n",
        "    plt.subplot(1, n, i+1)\n",
        "    plt.imshow(targ_image_adjust)\n",
        "    plt.axis(False)\n",
        "    if classes:\n",
        "      title = f\"Class: {classes[targ_label]}\"\n",
        "      if display_shape:\n",
        "        title = title + f\"\\nshape: {targ_image_adjust.shape}\"\n",
        "      plt.title(title)"
      ]
    },
    {
      "cell_type": "code",
      "execution_count": null,
      "metadata": {
        "id": "99SJZ8PDHwJP"
      },
      "outputs": [],
      "source": [
        "type(train_data)"
      ]
    },
    {
      "cell_type": "code",
      "execution_count": null,
      "metadata": {
        "id": "Eghgi3RBGfyB"
      },
      "outputs": [],
      "source": [
        "# Display random images from the ImageFolder created Dataset\n",
        "display_random_images(dataset=train_data,\n",
        "                      n=5,\n",
        "                      classes=class_names,\n",
        "                      seed=42)"
      ]
    },
    {
      "cell_type": "code",
      "execution_count": null,
      "metadata": {
        "id": "kSiwHEQ8Gwzp"
      },
      "outputs": [],
      "source": [
        "# Display random images from the ImageFolderCustom Dataset\n",
        "display_random_images(dataset=train_data_custom,\n",
        "                      n=11,\n",
        "                      classes=class_names,\n",
        "                      seed=42)"
      ]
    },
    {
      "cell_type": "markdown",
      "metadata": {
        "id": "_oqPo_zbMSCr"
      },
      "source": [
        "## 5.4 Turn Custom data into dataloader"
      ]
    },
    {
      "cell_type": "code",
      "execution_count": null,
      "metadata": {
        "id": "DumRDfRtKeLb"
      },
      "outputs": [],
      "source": [
        "#Turn custom train and test datasets into DataLoader\n",
        "from torch.utils.data import DataLoader\n",
        "BATCH_SIZE = 32\n",
        "train_dataloader_custom = DataLoader(dataset=train_data_custom,\n",
        "                              batch_size=BATCH_SIZE,\n",
        "                              num_workers=os.cpu_count(), # How many CPU cores that load the data (the higher the better)\n",
        "                              shuffle=True # We want to prevent order and let the machine train on various type of data\n",
        "                              )\n",
        "\n",
        "test_dataloader_custom = DataLoader(dataset=test_data_custom,\n",
        "                              batch_size=BATCH_SIZE,\n",
        "                             num_workers=os.cpu_count(), # How many CPU cores that load the data (the higher the better)\n",
        "                              shuffle=False # When evaluating a model, generally its better to have a specific order or atleast its ok to have order for test purpose\n",
        "                              )\n",
        "\n",
        "train_dataloader_custom, test_dataloader_custom"
      ]
    },
    {
      "cell_type": "code",
      "execution_count": null,
      "metadata": {
        "id": "WWTMz5A3Msjb"
      },
      "outputs": [],
      "source": [
        "# Get image and label from custom dataloader\n",
        "img_custom, label_custom = next(iter(train_dataloader_custom))\n",
        "\n",
        "img_custom.shape, label_custom.shape # (B, C, H, W), (B)"
      ]
    },
    {
      "cell_type": "markdown",
      "metadata": {
        "id": "TSxJpsOaN9R1"
      },
      "source": [
        "### 6. Other forms of transforms (data augmentation)\n",
        "\n",
        "Data augmentation is the process of artificially adding diversity to your training data. (zooming, invert color, rotate, etc...)"
      ]
    },
    {
      "cell_type": "code",
      "execution_count": null,
      "metadata": {
        "id": "zmpGdr3ONIB0"
      },
      "outputs": [],
      "source": [
        "# Create a transform\n",
        "train_transform = transforms.Compose([\n",
        "    transforms.Resize(size=(64, 64)),\n",
        "    transforms.TrivialAugmentWide(num_magnitude_bins=31 # magnitude of augmentation, in the range of 0-n. lets say 10 mag means rotated 45 deg 20 mag means rotated 90 deg\n",
        "                                  ),\n",
        "    transforms.ToTensor()\n",
        "])\n",
        "\n",
        "test_transform = transforms.Compose([\n",
        "    transforms.Resize(size=(64, 64)),\n",
        "    # We're not changing data augmentation when we are testing, only in training\n",
        "    transforms.ToTensor()\n",
        "])"
      ]
    },
    {
      "cell_type": "code",
      "execution_count": null,
      "metadata": {
        "id": "uBOzuyExRKck"
      },
      "outputs": [],
      "source": [
        "# Get all image paths\n",
        "image_path_list = list(image_path.glob(\"*/*/*.jpg\"))\n",
        "image_path_list[:10]"
      ]
    },
    {
      "cell_type": "code",
      "execution_count": null,
      "metadata": {
        "id": "66tounRlRjvR"
      },
      "outputs": [],
      "source": [
        "plot_transformed_images(\n",
        "    image_paths=image_path_list,\n",
        "    transform=train_transform,\n",
        "    n=3,\n",
        "    seed=None\n",
        ")"
      ]
    },
    {
      "cell_type": "markdown",
      "metadata": {
        "id": "dYBXGxpHS8vC"
      },
      "source": [
        "## 7. Model 0: TinyVGG without data augmentation"
      ]
    },
    {
      "cell_type": "markdown",
      "metadata": {
        "id": "0t0qY4X8TQ2_"
      },
      "source": [
        "### 7.1 Creating transforms and loading data for Model 0"
      ]
    },
    {
      "cell_type": "code",
      "execution_count": null,
      "metadata": {
        "id": "JvOjBMKXRzIn"
      },
      "outputs": [],
      "source": [
        "# Create simple transform\n",
        "simple_transform = transforms.Compose([\n",
        "    transforms.Resize(size=(64, 64)),\n",
        "    transforms.ToTensor()\n",
        "])\n"
      ]
    },
    {
      "cell_type": "code",
      "execution_count": null,
      "metadata": {
        "id": "GLHaxJxgTqhr"
      },
      "outputs": [],
      "source": [
        "# 1. Load and transform data\n",
        "train_data_simple = ImageFolderCustom(targ_dir=train_dir,\n",
        "                                      transform=simple_transform)\n",
        "test_data_simple = ImageFolderCustom(targ_dir=test_dir,\n",
        "                                      transform=simple_transform)\n",
        "len(train_data),len(train_data_simple)"
      ]
    },
    {
      "cell_type": "code",
      "execution_count": null,
      "metadata": {
        "id": "JTe8D05aUHCQ"
      },
      "outputs": [],
      "source": [
        "from torch.utils.data import DataLoader\n",
        "BATCH_SIZE = 32\n",
        "train_dataloader_simple = DataLoader(dataset=train_data_simple,\n",
        "                              batch_size=BATCH_SIZE,\n",
        "                              num_workers=os.cpu_count(), # How many CPU cores that load the data (the higher the better)\n",
        "                              shuffle=True # We want to prevent order and let the machine train on various type of data\n",
        "                              )\n",
        "\n",
        "test_dataloader_simple = DataLoader(dataset=test_data_simple,\n",
        "                              batch_size=BATCH_SIZE,\n",
        "                             num_workers=os.cpu_count(), # How many CPU cores that load the data (the higher the better)\n",
        "                              shuffle=False # When evaluating a model, generally its better to have a specific order or atleast its ok to have order for test purpose\n",
        "                              )\n",
        "\n",
        "train_dataloader_simple, test_dataloader_simple"
      ]
    },
    {
      "cell_type": "markdown",
      "metadata": {
        "id": "pFwBQa-cs5NQ"
      },
      "source": [
        "### 7.2 Create TinyVGG model class"
      ]
    },
    {
      "cell_type": "code",
      "execution_count": null,
      "metadata": {
        "id": "-RieKDdzUVOa"
      },
      "outputs": [],
      "source": [
        "class TinyVGG(nn.Module):\n",
        "  \"\"\"\n",
        "  Model architecture that replicates the TinyVGG\n",
        "  model from CNN explainer website  https://poloclub.github.io/cnn-explainer/\n",
        "  \"\"\"\n",
        "  def __init__(self,\n",
        "               input_shape: int,\n",
        "               hidden_units: int,\n",
        "               output_shape: int\n",
        "               ):\n",
        "    super().__init__()\n",
        "    self.conv_block_1 = nn.Sequential(\n",
        "        # Create conv layer\n",
        "        nn.Conv2d(in_channels=input_shape,\n",
        "                  out_channels=hidden_units,\n",
        "                  kernel_size=3, # often also referred to as filter size, refers to the dimensions of the sliding window over the input. can be tuple, ex:(3, 3)\n",
        "                  stride=1, # indicates how many pixels the kernel should be shifted over at a time.\n",
        "                  padding=0 # By adding padding, the model retains information from the edges of the input data, which would otherwise be lost without padding.\n",
        "                  ),\n",
        "        nn.ReLU(),\n",
        "        nn.Conv2d(in_channels=hidden_units,\n",
        "                  out_channels=hidden_units,\n",
        "                  kernel_size=3, # often also referred to as filter size, refers to the dimensions of the sliding window over the input. can be tuple, ex:(3, 3)\n",
        "                  stride=1, # indicates how many pixels the kernel should be shifted over at a time.\n",
        "                  padding=0 # By adding padding, the model retains information from the edges of the input data, which would otherwise be lost without padding.\n",
        "                  ),\n",
        "        nn.ReLU(),\n",
        "        nn.MaxPool2d(kernel_size=2,\n",
        "                     stride=2\n",
        "                     ) # stride by default is the same as kernel size\n",
        "    )\n",
        "    self.conv_block_2 = nn.Sequential(\n",
        "        # Create conv layer\n",
        "        nn.Conv2d(in_channels=hidden_units,\n",
        "                  out_channels=hidden_units,\n",
        "                  kernel_size=3, # often also referred to as filter size, refers to the dimensions of the sliding window over the input. can be tuple, ex:(3, 3)\n",
        "                  stride=1, # indicates how many pixels the kernel should be shifted over at a time.\n",
        "                  padding=0 # By adding padding, the model retains information from the edges of the input data, which would otherwise be lost without padding.\n",
        "                  ),\n",
        "        nn.ReLU(),\n",
        "        nn.Conv2d(in_channels=hidden_units,\n",
        "                  out_channels=hidden_units,\n",
        "                  kernel_size=3, # often also referred to as filter size, refers to the dimensions of the sliding window over the input. can be tuple, ex:(3, 3)\n",
        "                  stride=1, # indicates how many pixels the kernel should be shifted over at a time.\n",
        "                  padding=0 # By adding padding, the model retains information from the edges of the input data, which would otherwise be lost without padding.\n",
        "                  ),\n",
        "        nn.ReLU(),\n",
        "        nn.MaxPool2d(kernel_size=2,\n",
        "                     stride=2\n",
        "                     ) # stride by default is the same as kernel size\n",
        "    )\n",
        "    self.classifier = nn.Sequential(\n",
        "        nn.Flatten(),\n",
        "        nn.Linear(in_features=hidden_units*169, out_features=output_shape) # 7*7 = 49 which is the shape when the image compressed is flatten\n",
        "    )\n",
        "  def forward(self, x: torch.Tensor)-> torch.Tensor:\n",
        "    x = self.conv_block_1(x)\n",
        "    #print(x.shape)\n",
        "    x = self.conv_block_2(x)\n",
        "    #print(x.shape)\n",
        "    x = self.classifier(x)\n",
        "    #print(x.shape)\n",
        "    return x\n",
        "    # return self.classifier(self.conv_block_2(self.conv_block_1(x))) benefited from operator fusion which behind the scene speeds up how GPU perform computation cuz its 1 step\n",
        "    # https://horace.io/brrr_intro.html\n",
        "\n"
      ]
    },
    {
      "cell_type": "code",
      "execution_count": null,
      "metadata": {
        "id": "8WUglHR7uIde"
      },
      "outputs": [],
      "source": [
        "torch.manual_seed(42)\n",
        "model_0 = TinyVGG(input_shape=3, # shape of color channels which in our case is 1\n",
        "                              hidden_units=10, # same shape cnn explainer use\n",
        "                              output_shape=len(class_names)).to(device)\n",
        "model_0"
      ]
    },
    {
      "cell_type": "markdown",
      "metadata": {
        "id": "32bh3XrnwjnV"
      },
      "source": [
        "### 7.3 Try a forward pass on a single image to test the model"
      ]
    },
    {
      "cell_type": "code",
      "execution_count": null,
      "metadata": {
        "id": "YKxbhtBCvqR8"
      },
      "outputs": [],
      "source": [
        "# Putting dummy data to see the correct multiplier for hidden_units classifier\n",
        "rand_tensor = torch.rand(32,3,64,64).to(device)\n",
        "model_0(rand_tensor)"
      ]
    },
    {
      "cell_type": "markdown",
      "metadata": {
        "id": "7wKq6d2vzDQq"
      },
      "source": [
        "### 7.4 Use `torchinfo` to get an idea of the shapes going through our model"
      ]
    },
    {
      "cell_type": "code",
      "execution_count": null,
      "metadata": {
        "id": "m6Gk6kLlzOsd"
      },
      "outputs": [],
      "source": [
        "# Install torchinfo\n",
        "try:\n",
        "  import torchinfo\n",
        "except:\n",
        "  !pip install torchinfo\n",
        "  import torchinfo\n",
        "\n",
        "from torchinfo import summary\n",
        "summary(model_0, input_size=[1, 3, 64, 64]) # This is 1 batch, can modify it as much as u want"
      ]
    },
    {
      "cell_type": "markdown",
      "metadata": {
        "id": "dcaHUymb0xqv"
      },
      "source": [
        "### 7.5 Creating Training and testing loop for our custom dataset"
      ]
    },
    {
      "cell_type": "code",
      "execution_count": null,
      "metadata": {
        "id": "m-caznIY04XA"
      },
      "outputs": [],
      "source": [
        "def train_step(model: torch.nn.Module,\n",
        "               dataloader: torch.utils.data.DataLoader,\n",
        "               loss_fn: torch.nn.Module,\n",
        "               optimizer: torch.optim.Optimizer,\n",
        "               device: torch.device = device\n",
        "               ):\n",
        "  \"\"\"Performs a training with model trying to learn on data_loader\"\"\"\n",
        "  ### Training\n",
        "  train_loss, train_acc = 0, 0\n",
        "  # Put model into training model\n",
        "  model.train()\n",
        "\n",
        "  # Add a loop to loop through the training batches\n",
        "  for batch, (X, y) in enumerate(dataloader):\n",
        "    X, y = X.to(device), y.to(device)\n",
        "    # 1. Forward pass\n",
        "    y_pred = model(X)\n",
        "\n",
        "    #2. Calculate loss\n",
        "    loss = loss_fn(y_pred, y)\n",
        "    train_loss += loss # Accumulate train loss\n",
        "\n",
        "    # Calculate accuracy metric\n",
        "    y_pred_class = torch.argmax(torch.softmax(y_pred, dim=1), dim=1)\n",
        "    train_acc+= ((y_pred_class==y).sum().item()/len(y_pred)) * 100\n",
        "\n",
        "    #3. Optimizer zero grad\n",
        "    optimizer.zero_grad()\n",
        "\n",
        "    #4. Loss backward\n",
        "    loss.backward()\n",
        "\n",
        "    #5. Optimizer step\n",
        "    optimizer.step()\n",
        "\n",
        "    #if(batch % 2 == 0):\n",
        "    #  print(f\"Looked at {batch * len(X)} samples out of {len(train_dataloader.dataset)} samples\")\n",
        "\n",
        "  # Divide total train loss by length of train dataloader\n",
        "  train_loss /= len(dataloader) # Average loss per batch\n",
        "\n",
        "  # Average accuracy per batch\n",
        "  train_acc /= len(dataloader)\n",
        "\n",
        "  print(f\"\\nTrain loss: {train_loss:.4f} , Train accuracy: {train_acc:.4f}% \")\n",
        "  return train_loss, train_acc"
      ]
    },
    {
      "cell_type": "code",
      "execution_count": null,
      "metadata": {
        "id": "oFohZxDb2ucK"
      },
      "outputs": [],
      "source": [
        "def test_step(model: torch.nn.Module,\n",
        "               dataloader: torch.utils.data.DataLoader,\n",
        "               loss_fn: torch.nn.Module,\n",
        "               device: torch.device = device\n",
        "              ):\n",
        "  \"\"\"Performs a test with model trying to learn on data_loader\"\"\"\n",
        "  ### Testing\n",
        "  test_loss, test_acc = 0, 0\n",
        "  model.eval()\n",
        "  with torch.inference_mode():\n",
        "    for X_test, y_test in dataloader:\n",
        "      X_test, y_test = X_test.to(device), y_test.to(device)\n",
        "\n",
        "      # 1. Forward pass\n",
        "      test_pred_logits = model(X_test)\n",
        "\n",
        "      #2. Calculate loss\n",
        "      loss = loss_fn(test_pred_logits, y_test)\n",
        "      test_loss += loss # Accumulate test loss\n",
        "\n",
        "      # Calculate accuracy metric\n",
        "      test_pred_labels = torch.argmax(torch.softmax(test_pred_logits, dim=1), dim=1)\n",
        "      test_acc+= ((test_pred_labels==y_test).sum().item()/len(test_pred_logits)) * 100\n",
        "      #test_pred_labels = test_pred_logits.argmax(dim=1) # another way of doing it (?) further testing required\n",
        "      #test_acc+= ((test_pred_labels==y_test).sum().item()/len(test_pred_labels)) * 100\n",
        "\n",
        "    # Average loss per batch\n",
        "    test_loss /= len(dataloader)\n",
        "\n",
        "    # Average accuracy per batch\n",
        "    test_acc /= len(dataloader)\n",
        "\n",
        "  print(f\"Test loss: {test_loss:.4f}, Test accuracy: {test_acc:.4f}%\\n\")\n",
        "  return test_loss, test_acc"
      ]
    },
    {
      "cell_type": "code",
      "execution_count": null,
      "metadata": {
        "id": "WgGl-O2k7iNS"
      },
      "outputs": [],
      "source": [
        "def print_train_time(start: float,\n",
        "                     end: float,\n",
        "                     device: torch.device = None\n",
        "                     ):\n",
        "  \"\"\"Prints difference between start and end time.\"\"\"\n",
        "  total_time = end - start\n",
        "  print(f\"Train time on {device}: {total_time:.3f} seconds\")\n",
        "  return total_time\n"
      ]
    },
    {
      "cell_type": "code",
      "execution_count": null,
      "metadata": {
        "id": "FmB2Hqzz7uPm"
      },
      "outputs": [],
      "source": [
        "# Setup loss function and optimizer\n",
        "loss_fn = nn.CrossEntropyLoss()\n",
        "optimizer = torch.optim.Adam(params=model_0.parameters(),\n",
        "                            lr=0.001\n",
        "                            )\n",
        "loss_fn, optimizer"
      ]
    },
    {
      "cell_type": "markdown",
      "metadata": {
        "id": "Braw5TgSaY4c"
      },
      "source": [
        "### 7.6 Creating `train()` to combine `train_step()` and `test_step()`"
      ]
    },
    {
      "cell_type": "code",
      "execution_count": null,
      "metadata": {
        "id": "FKDnwP6375EN"
      },
      "outputs": [],
      "source": [
        "# Import tqdm for progress bar\n",
        "# tqdm.auto recognize computer enviroment we use and give the best type progress bar, ex: jupyter notebook bar differ from python script\n",
        "from tqdm.auto import tqdm\n",
        "def train(model: torch.nn.Module,\n",
        "            train_dataloader: torch.utils.data.DataLoader,\n",
        "            test_dataloader: torch.utils.data.DataLoader,\n",
        "            loss_fn: torch.nn.Module,\n",
        "            optimizer: torch.optim.Optimizer,\n",
        "            device: torch.device = device,\n",
        "            epochs: int = 5\n",
        "          ):\n",
        "\n",
        "  results = {\n",
        "      \"train_loss\": [],\n",
        "      \"train_acc\": [],\n",
        "      \"test_loss\": [],\n",
        "      \"test_acc\": []\n",
        "  }\n",
        "\n",
        "  # Create training and test loop\n",
        "  for epoch in tqdm(range(epochs)): # the way tqdm works is to wrap our iterator in tqdm\n",
        "    print(f\"Epoch: {epoch}\\n-----\")\n",
        "    train_loss, train_acc = train_step(model=model,\n",
        "               dataloader=train_dataloader,\n",
        "               loss_fn=loss_fn,\n",
        "               optimizer=optimizer)\n",
        "    model.eval()\n",
        "    test_loss, test_acc = test_step(model=model,\n",
        "              dataloader=test_dataloader,\n",
        "              loss_fn=loss_fn)\n",
        "\n",
        "    # Update result dictionary\n",
        "    train_loss = train_loss.detach()\n",
        "    print(train_loss, train_acc, test_loss, test_acc)\n",
        "    results[\"train_loss\"].append(train_loss.cpu())\n",
        "    results[\"train_acc\"].append(train_acc)\n",
        "    results[\"test_loss\"].append(test_loss.cpu())\n",
        "    results[\"test_acc\"].append(test_acc)\n",
        "\n",
        "\n",
        "  return results\n"
      ]
    },
    {
      "cell_type": "code",
      "execution_count": null,
      "metadata": {
        "id": "2VYjdQKx3d-A"
      },
      "outputs": [],
      "source": [
        "# import timer\n",
        "from timeit import default_timer as timer\n",
        "\n",
        "# Set the seed and start the timer\n",
        "torch.manual_seed(42)\n",
        "torch.cuda.manual_seed(42)\n",
        "train_time_start = timer()\n",
        "\n",
        "# Set number of epoch\n",
        "NUM_EPOCHS = 5\n",
        "\n",
        "model_0_results = train(model=model_0,\n",
        "      train_dataloader=train_dataloader,\n",
        "      test_dataloader=test_dataloader,\n",
        "      loss_fn=loss_fn,\n",
        "      optimizer=optimizer,\n",
        "      epochs=NUM_EPOCHS\n",
        "      )\n",
        "\n",
        "\n",
        "train_time_end = timer()\n",
        "total_train_time_model_0 = print_train_time(start=train_time_start,\n",
        "                                            end=train_time_end,\n",
        "                                            device=next(model_0.parameters()).device\n",
        "                                            )"
      ]
    },
    {
      "cell_type": "code",
      "execution_count": null,
      "metadata": {
        "id": "G73Sv8p824R_"
      },
      "outputs": [],
      "source": [
        "model_0_results"
      ]
    },
    {
      "cell_type": "markdown",
      "metadata": {
        "id": "CAw4b8WMwt9B"
      },
      "source": [
        "### 7.8 Plot the loss curves of Model 0\n",
        "\n",
        "A loss curve is a way of tracking your model's progress overtime"
      ]
    },
    {
      "cell_type": "code",
      "execution_count": null,
      "metadata": {
        "id": "Yz1cb5fXdjyb"
      },
      "outputs": [],
      "source": [
        "def plot_loss_curves(results: Dict[str, List[float]]):\n",
        "  \"\"\"Plots training curves of a results dictionary.\"\"\"\n",
        "  with torch.inference_mode():\n",
        "    # Get the loss values of results dictionary\n",
        "    print(results[\"train_loss\"])\n",
        "    loss = results[\"train_loss\"]\n",
        "    test_loss = results[\"test_loss\"]\n",
        "\n",
        "    # Get the accuracy values of results dictionary\n",
        "    acc = results[\"train_acc\"]\n",
        "    test_acc = results[\"test_acc\"]\n",
        "\n",
        "    # Figure out how many epochs there were\n",
        "    epochs = range(len(results[\"train_loss\"]))\n",
        "\n",
        "    # Setup a plot\n",
        "    plt.figure(figsize=(15, 7))\n",
        "\n",
        "    # Plot the loss\n",
        "    plt.subplot(1, 2, 1)\n",
        "    plt.plot(epochs, loss, label=\"train_loss\")\n",
        "    plt.plot(epochs, test_loss, label=\"test_loss\")\n",
        "    plt.title(\"Loss\")\n",
        "    plt.xlabel(\"Epochs\")\n",
        "    plt.legend()\n",
        "\n",
        "    # Plot the accuracy\n",
        "    plt.subplot(1, 2, 2)\n",
        "    plt.plot(epochs, acc, label=\"train_accuracy\")\n",
        "    plt.plot(epochs, test_acc, label=\"test_accuracy\")\n",
        "    plt.title(\"Accuracy\")\n",
        "    plt.xlabel(\"Epochs\")\n",
        "    plt.legend()"
      ]
    },
    {
      "cell_type": "code",
      "execution_count": null,
      "metadata": {
        "id": "xBnBI-cJfvD3"
      },
      "outputs": [],
      "source": [
        "model_0_results.values()"
      ]
    },
    {
      "cell_type": "code",
      "execution_count": null,
      "metadata": {
        "id": "ABMNTtJxyahL"
      },
      "outputs": [],
      "source": [
        "plot_loss_curves(model_0_results)"
      ]
    },
    {
      "cell_type": "markdown",
      "metadata": {
        "id": "1MrsQoY0BJiO"
      },
      "source": [
        "## 8. Model 1: TinyVGG with Data Augmentation"
      ]
    },
    {
      "cell_type": "markdown",
      "metadata": {
        "id": "c9cHm_lxBRea"
      },
      "source": [
        "### 8.1 Create transform with data augmentation"
      ]
    },
    {
      "cell_type": "code",
      "execution_count": null,
      "metadata": {
        "id": "-RRV7JjByd2p"
      },
      "outputs": [],
      "source": [
        "# Create a transform with TrivialAugment\n",
        "from torchvision import transforms\n",
        "train_transform = transforms.Compose([\n",
        "    transforms.Resize(size=(64, 64)),\n",
        "    transforms.TrivialAugmentWide(num_magnitude_bins=31 # magnitude of augmentation, in the range of 0-n. lets say 10 mag means rotated 45 deg 20 mag means rotated 90 deg\n",
        "                                  ),\n",
        "    transforms.ToTensor()\n",
        "])\n",
        "\n",
        "test_transform = transforms.Compose([\n",
        "    transforms.Resize(size=(64, 64)),\n",
        "    # We're not changing data augmentation when we are testing, only in training\n",
        "    transforms.ToTensor()\n",
        "])"
      ]
    },
    {
      "cell_type": "markdown",
      "metadata": {
        "id": "3ugfErJrB9Np"
      },
      "source": [
        "### 9.2 Create train test `Dataset`'s and `DataLoader`'s with data augment"
      ]
    },
    {
      "cell_type": "code",
      "execution_count": null,
      "metadata": {
        "id": "i_AfDJv54Via"
      },
      "outputs": [],
      "source": [
        "# Turn image folders into Datasets\n",
        "train_data_augmented = datasets.ImageFolder(root=train_dir,\n",
        "                                  transform=train_transform, # transform for the data\n",
        "                                  target_transform=None # transform for the label (we set it to none bcuz image directory is our label)\n",
        "                                  )\n",
        "test_data_simple = datasets.ImageFolder(root=test_dir,\n",
        "                                  transform=test_transform, # transform for the data\n",
        "                                  target_transform=None # transform for the label (we set it to none bcuz image directory is our label)\n",
        "                                  )"
      ]
    },
    {
      "cell_type": "code",
      "execution_count": null,
      "metadata": {
        "id": "9OUhbG6LDN9X"
      },
      "outputs": [],
      "source": [
        "from torch.utils.data import DataLoader\n",
        "BATCH_SIZE = 32\n",
        "\n",
        "torch.manual_seed(42)\n",
        "train_dataloader_augmented = DataLoader(dataset=train_data_augmented,\n",
        "                              batch_size=BATCH_SIZE,\n",
        "                              num_workers=os.cpu_count(), # How many CPU cores that load the data (the higher the better)\n",
        "                              shuffle=True # We want to prevent order and let the machine train on various type of data\n",
        "                              )\n",
        "\n",
        "test_dataloader_simple = DataLoader(dataset=test_data_simple,\n",
        "                              batch_size=BATCH_SIZE,\n",
        "                             num_workers=os.cpu_count(), # How many CPU cores that load the data (the higher the better)\n",
        "                              shuffle=False # When evaluating a model, generally its better to have a specific order or atleast its ok to have order for test purpose\n",
        "                              )\n",
        "\n",
        "train_dataloader_augmented, test_dataloader_simple"
      ]
    },
    {
      "cell_type": "markdown",
      "metadata": {
        "id": "pQDh9IdVY7oy"
      },
      "source": [
        "## 8.3 Construct and train model 1"
      ]
    },
    {
      "cell_type": "code",
      "execution_count": null,
      "metadata": {
        "id": "JsZ0w1tUYhX3"
      },
      "outputs": [],
      "source": [
        "# Create model_1 and send it to target device\n",
        "torch.manual_seed(42)\n",
        "model_1 = TinyVGG(input_shape=3,\n",
        "                  hidden_units=10,\n",
        "                  output_shape=len(class_names)).to(device)\n",
        "model_1"
      ]
    },
    {
      "cell_type": "code",
      "execution_count": null,
      "metadata": {
        "id": "iNtBYNoTZc8O"
      },
      "outputs": [],
      "source": [
        "# Setup loss function and optimizer\n",
        "loss_fn = nn.CrossEntropyLoss()\n",
        "optimizer = torch.optim.Adam(params=model_1.parameters(),\n",
        "                            lr=0.001\n",
        "                            )\n",
        "loss_fn, optimizer"
      ]
    },
    {
      "cell_type": "code",
      "execution_count": null,
      "metadata": {
        "id": "MhBy42wtai7J"
      },
      "outputs": [],
      "source": [
        "# import timer\n",
        "from timeit import default_timer as timer\n",
        "\n",
        "# Set the seed and start the timer\n",
        "torch.manual_seed(42)\n",
        "torch.cuda.manual_seed(42)\n",
        "train_time_start = timer()\n",
        "\n",
        "# Set number of epoch\n",
        "NUM_EPOCHS = 5\n",
        "\n",
        "model_1_results = train(model=model_1,\n",
        "      train_dataloader=train_dataloader_augmented,\n",
        "      test_dataloader=test_dataloader_simple,\n",
        "      loss_fn=loss_fn,\n",
        "      optimizer=optimizer,\n",
        "      epochs=NUM_EPOCHS\n",
        "      )\n",
        "\n",
        "\n",
        "train_time_end = timer()\n",
        "total_train_time_model_1 = print_train_time(start=train_time_start,\n",
        "                                            end=train_time_end,\n",
        "                                            device=next(model_1.parameters()).device\n",
        "                                            )"
      ]
    },
    {
      "cell_type": "markdown",
      "metadata": {
        "id": "XZLZSn7tb_7p"
      },
      "source": [
        "### 8.4 Plot the loss curves of model 1"
      ]
    },
    {
      "cell_type": "code",
      "execution_count": null,
      "metadata": {
        "id": "tbDkaLCnayvt"
      },
      "outputs": [],
      "source": [
        "plot_loss_curves(model_1_results)"
      ]
    },
    {
      "cell_type": "markdown",
      "metadata": {
        "id": "9dA8y9_bdgDW"
      },
      "source": [
        "## 9. Compare model results\n",
        "\n",
        "There's a few different ways to do this:\n",
        "\n",
        "1. Hard coding (what we're doing)\n",
        "2. PyTorch + Tensorboard - https://pytorch.org/docs/stable/tensorboard.html\n",
        "3. Weights & Biases - https://wandb.ai/site/experiment-tracking\n",
        "4. MLFlow - https://mlflow.org/"
      ]
    },
    {
      "cell_type": "code",
      "execution_count": null,
      "metadata": {
        "id": "bTf5FdhPcNea"
      },
      "outputs": [],
      "source": [
        "import pandas as pd\n",
        "with torch.inference_mode():\n",
        "  model_0_df = pd.DataFrame(model_0_results)\n",
        "  model_1_df = pd.DataFrame(model_1_results)\n",
        "model_1_df"
      ]
    },
    {
      "cell_type": "code",
      "execution_count": null,
      "metadata": {
        "id": "d2U3WYVffClQ"
      },
      "outputs": [],
      "source": [
        "# Setup a plot\n",
        "plt.figure(figsize=(15,10))\n",
        "\n",
        "# Get number of epochs\n",
        "epochs = range(len(model_0_df))\n",
        "\n",
        "# Plot train loss\n",
        "plt.subplot(2, 2, 1)\n",
        "plt.plot(epochs, model_0_df[\"train_loss\"], label=\"Model 0\")\n",
        "plt.plot(epochs, model_1_df[\"train_loss\"], label=\"Model 1\")\n",
        "plt.title(\"Train loss\")\n",
        "plt.xlabel(\"Epochs\")\n",
        "plt.legend()\n",
        "\n",
        "# Plot test loss\n",
        "plt.subplot(2, 2, 2)\n",
        "plt.plot(epochs, model_0_df[\"test_loss\"], label=\"Model 0\")\n",
        "plt.plot(epochs, model_1_df[\"test_loss\"], label=\"Model 1\")\n",
        "plt.title(\"Test loss\")\n",
        "plt.xlabel(\"Epochs\")\n",
        "plt.legend()\n",
        "\n",
        "# Plot train accuracy\n",
        "plt.subplot(2, 2, 3)\n",
        "plt.plot(epochs, model_0_df[\"train_acc\"], label=\"Model 0\")\n",
        "plt.plot(epochs, model_1_df[\"train_acc\"], label=\"Model 1\")\n",
        "plt.title(\"Train accuracy\")\n",
        "plt.xlabel(\"Epochs\")\n",
        "plt.legend()\n",
        "\n",
        "# Plot test accuracy\n",
        "plt.subplot(2, 2, 4)\n",
        "plt.plot(epochs, model_0_df[\"test_acc\"], label=\"Model 0\")\n",
        "plt.plot(epochs, model_1_df[\"test_acc\"], label=\"Model 1\")\n",
        "plt.title(\"Test accuracy\")\n",
        "plt.xlabel(\"Epochs\")\n",
        "plt.legend()\n"
      ]
    },
    {
      "cell_type": "markdown",
      "metadata": {
        "id": "15NQ0LClskyC"
      },
      "source": [
        "## 10. Making prediction on a custom image"
      ]
    },
    {
      "cell_type": "code",
      "execution_count": null,
      "metadata": {
        "id": "q5t1MxeMpS8U"
      },
      "outputs": [],
      "source": [
        "# Download custom image\n",
        "import requests\n",
        "\n",
        "# Setup custom image path\n",
        "custom_image_path = data_path / \"04-pizza-dad.jpeg\"\n",
        "\n",
        "# Download the image if it doesnt exist\n",
        "if not custom_image_path.is_file():\n",
        "  with open(custom_image_path, \"wb\") as f: # Create file with write permissions as f (shorthand for file)\n",
        "    request = requests.get(\"https://raw.githubusercontent.com/mrdbourke/pytorch-deep-learning/main/images/04-pizza-dad.jpeg\") # make sure get the raw data, not blob\n",
        "    print(f\"Downloading Image...\")\n",
        "    f.write(request.content)\n",
        "else:\n",
        "  print(f\"{custom_image_path} already exist\")"
      ]
    },
    {
      "cell_type": "markdown",
      "metadata": {
        "id": "mx6KQaiNH8rW"
      },
      "source": [
        "### 10.1 Loading in a custom Image with pytorch\n",
        "\n",
        "We have to make sure our custom image is in the same format as the data our model was trained on.\n",
        "\n",
        "* In tensor form with datatype (torch.float32)\n",
        "* Of shape 64x64x3\n",
        "* On the right device\n",
        "\n",
        "We can read an image into PyTorch using - https://pytorch.org/vision/stable/generated/torchvision.io.read_image.html#torchvision.io.read_image"
      ]
    },
    {
      "cell_type": "code",
      "execution_count": null,
      "metadata": {
        "id": "k53Sog2cvdMU"
      },
      "outputs": [],
      "source": [
        "import torchvision\n",
        "\n",
        "# Read in custom image\n",
        "custom_image_uint8 = torchvision.io.read_image(str(custom_image_path))\n",
        "\n",
        "custom_image_uint8.shape, custom_image_uint8.dtype, custom_image_uint8"
      ]
    },
    {
      "cell_type": "code",
      "execution_count": null,
      "metadata": {
        "id": "vlwo0_jWJmQ0"
      },
      "outputs": [],
      "source": [
        "custom_image_uint8=custom_image_uint8.permute(1, 2, 0)"
      ]
    },
    {
      "cell_type": "code",
      "execution_count": null,
      "metadata": {
        "id": "g-3WTUloJL-v"
      },
      "outputs": [],
      "source": [
        "plt.imshow(custom_image_uint8)\n",
        "plt.axis(False)"
      ]
    },
    {
      "cell_type": "markdown",
      "metadata": {
        "id": "Me0kWnVoKowc"
      },
      "source": [
        "### 10.2 Making a prediction on a custom image with a trained PyTorch model"
      ]
    },
    {
      "cell_type": "code",
      "execution_count": null,
      "metadata": {
        "id": "cBeWdnVnJ48C"
      },
      "outputs": [],
      "source": [
        "# Try to make a prediction on an image in uint8 format\n",
        "model_1.eval()\n",
        "with torch.inference_mode():\n",
        "  model_1(custom_image_uint8.to(device))"
      ]
    },
    {
      "cell_type": "code",
      "execution_count": null,
      "metadata": {
        "id": "Q0YrsI0JLkEg"
      },
      "outputs": [],
      "source": [
        "# Read in custom image\n",
        "custom_image = torchvision.io.read_image(str(custom_image_path)).type(torch.float32) / 255\n",
        "custom_image, custom_image.shape"
      ]
    },
    {
      "cell_type": "code",
      "execution_count": null,
      "metadata": {
        "id": "1u1ne3kEM6ot"
      },
      "outputs": [],
      "source": [
        "plt.imshow(custom_image.permute(1,2,0))\n",
        "plt.axis(False)"
      ]
    },
    {
      "cell_type": "code",
      "execution_count": null,
      "metadata": {
        "id": "A0J5e1VXNb2p"
      },
      "outputs": [],
      "source": [
        "custom_image_transform = transforms.Compose([\n",
        "    transforms.Resize(size=(64, 64)),\n",
        "])\n",
        "\n",
        "# Transform target image\n",
        "custom_image_transformed =  custom_image_transform(custom_image)\n",
        "\n",
        "custom_image_transformed.shape"
      ]
    },
    {
      "cell_type": "code",
      "execution_count": null,
      "metadata": {
        "id": "QFJ_HfIaOpwJ"
      },
      "outputs": [],
      "source": [
        "plt.imshow(custom_image_transformed.permute(1,2,0))\n",
        "plt.axis(False)"
      ]
    },
    {
      "cell_type": "code",
      "execution_count": null,
      "metadata": {
        "id": "qyR4Mr13O3N5"
      },
      "outputs": [],
      "source": [
        "# this will error no batch size\n",
        "model_1.eval()\n",
        "with torch.inference_mode():\n",
        "  model_1(custom_image_transformed.to(device))"
      ]
    },
    {
      "cell_type": "code",
      "execution_count": null,
      "metadata": {
        "id": "JYD_zSXcP1-I"
      },
      "outputs": [],
      "source": [
        "model_1.eval()\n",
        "with torch.inference_mode():\n",
        "  custom_image_pred = model_1(custom_image_transformed.unsqueeze(0).to(device)) # add 1 batch\n",
        "\n",
        "custom_image_pred.argmax(dim=1), custom_image_pred"
      ]
    },
    {
      "cell_type": "markdown",
      "metadata": {
        "id": "dYq2cxzDWJ6s"
      },
      "source": [
        "Note, to make a prediction on a custom image we had to:\n",
        "\n",
        "* Load the image and turn it into a tensor\n",
        "* Make sure the image was the same datatype as the model (torch.float32)\n",
        "* Make sure the image was the same shape as the data the model was trained on (3, 64, 64) with a batch size... (1, 3, 64, 64)\n",
        "* Make sure the image was on the same device as our model"
      ]
    },
    {
      "cell_type": "code",
      "execution_count": null,
      "metadata": {
        "id": "3odY5v45UFXX"
      },
      "outputs": [],
      "source": [
        "# Turn logits into prediction probabities\n",
        "custom_image_pred_probs = torch.softmax(custom_image_pred, dim=1)\n",
        "\n",
        "# Turn prediction probabities into prediction label\n",
        "custom_image_label=custom_image_pred_probs.argmax(dim=1)\n",
        "\n",
        "\n",
        "plt.imshow(custom_image_transformed.permute(1,2,0))\n",
        "plt.title(f\"Prediction: {class_names[custom_image_label]} | Confidence: {custom_image_pred_probs.max()*100:.1f}%\")\n",
        "plt.axis(False)"
      ]
    },
    {
      "cell_type": "code",
      "execution_count": null,
      "metadata": {
        "id": "DnRMqt_QUdaq"
      },
      "outputs": [],
      "source": [
        "custom_image_pred_probs"
      ]
    },
    {
      "cell_type": "code",
      "execution_count": null,
      "metadata": {
        "id": "ZNKS7QOGbg0j"
      },
      "outputs": [],
      "source": [
        "def pred_and_plot_image(model: torch.nn.Module,\n",
        "                        image_path: str,\n",
        "                        class_names:Dict[int, str],\n",
        "                        transform: torchvision.transforms,\n",
        "                        device: torch.device = device\n",
        "                        ):\n",
        "  # Read in custom image\n",
        "  custom_image = torchvision.io.read_image(str(image_path)).type(torch.float32) / 255\n",
        "\n",
        "  # Transform target image\n",
        "  custom_image_transformed = transform(custom_image)\n",
        "\n",
        "  model.eval()\n",
        "  with torch.inference_mode():\n",
        "    custom_image_pred = model(custom_image_transformed.unsqueeze(0).to(device)) # add 1 batch\n",
        "\n",
        "  # Turn logits into prediction probabities\n",
        "  custom_image_pred_probs = torch.softmax(custom_image_pred, dim=1)\n",
        "\n",
        "  # Turn prediction probabities into prediction label\n",
        "  custom_image_label=custom_image_pred_probs.argmax(dim=1)\n",
        "\n",
        "\n",
        "  plt.imshow(custom_image_transformed.permute(1,2,0))\n",
        "  plt.title(f\"Prediction: {class_names[custom_image_label]} | Confidence: {custom_image_pred_probs.max()*100:.1f}%\")\n",
        "  plt.axis(False)\n"
      ]
    },
    {
      "cell_type": "code",
      "execution_count": null,
      "metadata": {
        "id": "fdczQc9GYaZJ"
      },
      "outputs": [],
      "source": [
        "# Pred on our custom image\n",
        "pred_and_plot_image(model=model_1,\n",
        "                    image_path=custom_image_path,\n",
        "                    class_names=class_names,\n",
        "                    transform=custom_image_transform,\n",
        "                    device=device)"
      ]
    },
    {
      "cell_type": "markdown",
      "source": [
        "# Exercise (L2 and dropout)"
      ],
      "metadata": {
        "id": "-27pzBFY98QB"
      }
    },
    {
      "cell_type": "code",
      "source": [
        "!pip3 install Cython"
      ],
      "metadata": {
        "colab": {
          "base_uri": "https://localhost:8080/"
        },
        "id": "X0Lkyp5VspNu",
        "outputId": "682cfd6d-a2f9-403b-ac00-38ed8eda8cfe"
      },
      "execution_count": null,
      "outputs": [
        {
          "output_type": "stream",
          "name": "stdout",
          "text": [
            "Requirement already satisfied: Cython in /usr/local/lib/python3.10/dist-packages (3.0.11)\n"
          ]
        }
      ]
    },
    {
      "cell_type": "code",
      "source": [
        "import torch\n",
        "from torch import nn # nn contains all of building blocks of neural networks from torch\n",
        "import pandas as pd\n",
        "import numpy as np\n",
        "import matplotlib.pyplot as plt\n",
        "import sklearn # great for machine learning purposes\n",
        "# import torchvision\n",
        "import torchvision\n",
        "from torchvision import transforms\n",
        "from torchvision.transforms import ToTensor\n",
        "from torchvision import datasets\n",
        "from torch.utils.data import DataLoader\n",
        "from torch.utils.data import Dataset"
      ],
      "metadata": {
        "id": "VPDzJy5X-iBl"
      },
      "execution_count": 1,
      "outputs": []
    },
    {
      "cell_type": "code",
      "source": [
        "try:\n",
        "  import torch_xla\n",
        "  import torch_xla.core.xla_model as xm\n",
        "  device = \"cuda\" if torch.cuda.is_available() else xm.xla_device()\n",
        "except:\n",
        "  device = \"cuda\" if torch.cuda.is_available() else \"cpu\"\n",
        "device"
      ],
      "metadata": {
        "id": "20xS1yz8-lQw",
        "colab": {
          "base_uri": "https://localhost:8080/",
          "height": 36
        },
        "outputId": "c13dd0b9-45c0-443b-f83f-5486cb7ca26a"
      },
      "execution_count": 3,
      "outputs": [
        {
          "output_type": "execute_result",
          "data": {
            "text/plain": [
              "'cpu'"
            ],
            "application/vnd.google.colaboratory.intrinsic+json": {
              "type": "string"
            }
          },
          "metadata": {},
          "execution_count": 3
        }
      ]
    },
    {
      "cell_type": "code",
      "source": [
        "import requests\n",
        "import zipfile\n",
        "from pathlib import Path\n",
        "\n",
        "# Setup path to a data folder\n",
        "data_path = Path(\"data/\")\n",
        "image_path = data_path / \"pizza_steak_sushi\" # Images from 3 classes\n",
        "\n",
        "# If the image folder doesn't exist, dowload it and unzip it\n",
        "if image_path.is_dir():\n",
        "  print(f\"{image_path} already exist\")\n",
        "else:\n",
        "  print(\"Creating directory...\")\n",
        "  image_path.mkdir(parents=True, exist_ok=True)\n",
        "\n",
        "# Download pizza, steak and sushi data\n",
        "with open(data_path / \"pizza_steak_sushi.zip\", \"wb\") as f: # Create file with write permissions as f (shorthand for file)\n",
        "  # request = requests.get(\"https://github.com/mrdbourke/pytorch-deep-learning/blob/main/data/pizza_steak_sushi.zip\") this will throw an error\n",
        "  request = requests.get(\"https://github.com/mrdbourke/pytorch-deep-learning/raw/main/data/pizza_steak_sushi.zip\") # make sure get the raw data, not blob\n",
        "  print(f\"Downloading pizza, steak, sushi data...\")\n",
        "  f.write(request.content)\n",
        "\n",
        "# Unzip the data\n",
        "with zipfile.ZipFile(data_path / \"pizza_steak_sushi.zip\", \"r\") as zip_ref: # Create file with read-only permission as f (shorthand for file)\n",
        "  print(f\"Unzipping pizza, steak, sushi data...\")\n",
        "  zip_ref.extractall(image_path) # Extract in image_path"
      ],
      "metadata": {
        "colab": {
          "base_uri": "https://localhost:8080/"
        },
        "id": "QX2ueNpPtRv7",
        "outputId": "43621261-db46-45aa-94b4-f4f5a120775d"
      },
      "execution_count": 4,
      "outputs": [
        {
          "output_type": "stream",
          "name": "stdout",
          "text": [
            "Creating directory...\n",
            "Downloading pizza, steak, sushi data...\n",
            "Unzipping pizza, steak, sushi data...\n"
          ]
        }
      ]
    },
    {
      "cell_type": "code",
      "source": [
        "# Setup train and test path\n",
        "train_dir = image_path / \"train\"\n",
        "test_dir = image_path / \"test\"\n",
        "\n",
        "train_dir, test_dir"
      ],
      "metadata": {
        "id": "lGBNWHCa_YGf",
        "colab": {
          "base_uri": "https://localhost:8080/"
        },
        "outputId": "524be7ec-de5b-4e5a-f8ad-2993a5be48dd"
      },
      "execution_count": 5,
      "outputs": [
        {
          "output_type": "execute_result",
          "data": {
            "text/plain": [
              "(PosixPath('data/pizza_steak_sushi/train'),\n",
              " PosixPath('data/pizza_steak_sushi/test'))"
            ]
          },
          "metadata": {},
          "execution_count": 5
        }
      ]
    },
    {
      "cell_type": "code",
      "source": [
        "# Create a transform with TrivialAugment\n",
        "from torchvision import transforms\n",
        "train_transform_ex = transforms.Compose([\n",
        "    transforms.Resize(size=(224, 224)),\n",
        "    #transforms.TrivialAugmentWide(num_magnitude_bins=10  magnitude of augmentation, in the range of 0-n. lets say 10 mag means rotated 45 deg 20 mag means rotated 90 deg\n",
        "                                  #),\n",
        "    transforms.ToTensor()\n",
        "])\n",
        "\n",
        "test_transform_ex = transforms.Compose([\n",
        "    transforms.Resize(size=(224, 224)),\n",
        "    # We're not changing data augmentation when we are testing, only in training\n",
        "    transforms.ToTensor()\n",
        "])"
      ],
      "metadata": {
        "id": "8VUBUZMs_jbL"
      },
      "execution_count": 6,
      "outputs": []
    },
    {
      "cell_type": "code",
      "source": [
        "# Use ImageFolderr to create dataset(s)\n",
        "from torchvision import datasets\n",
        "train_data_ex = datasets.ImageFolder(root=train_dir,\n",
        "                                  transform=train_transform_ex, # transform for the data\n",
        "                                  target_transform=None # transform for the label (we set it to none bcuz image directory is our label)\n",
        "                                  )\n",
        "test_data_ex = datasets.ImageFolder(root=test_dir,\n",
        "                                  transform=test_transform_ex, # transform for the data\n",
        "                                  target_transform=None # transform for the label (we set it to none bcuz image directory is our label)\n",
        "                                  )\n",
        "\n",
        "train_data_ex, test_data_ex"
      ],
      "metadata": {
        "id": "GCmy0HgU9_HT",
        "colab": {
          "base_uri": "https://localhost:8080/"
        },
        "outputId": "90f74b26-e2ff-42aa-986a-b52b6a117948"
      },
      "execution_count": 7,
      "outputs": [
        {
          "output_type": "execute_result",
          "data": {
            "text/plain": [
              "(Dataset ImageFolder\n",
              "     Number of datapoints: 225\n",
              "     Root location: data/pizza_steak_sushi/train\n",
              "     StandardTransform\n",
              " Transform: Compose(\n",
              "                Resize(size=(224, 224), interpolation=bilinear, max_size=None, antialias=True)\n",
              "                ToTensor()\n",
              "            ),\n",
              " Dataset ImageFolder\n",
              "     Number of datapoints: 75\n",
              "     Root location: data/pizza_steak_sushi/test\n",
              "     StandardTransform\n",
              " Transform: Compose(\n",
              "                Resize(size=(224, 224), interpolation=bilinear, max_size=None, antialias=True)\n",
              "                ToTensor()\n",
              "            ))"
            ]
          },
          "metadata": {},
          "execution_count": 7
        }
      ]
    },
    {
      "cell_type": "code",
      "source": [
        "import os\n",
        "os.cpu_count()"
      ],
      "metadata": {
        "id": "k2147gjD_47j",
        "colab": {
          "base_uri": "https://localhost:8080/"
        },
        "outputId": "b4400795-9fc0-4691-eea5-f3e21d98af56"
      },
      "execution_count": 8,
      "outputs": [
        {
          "output_type": "execute_result",
          "data": {
            "text/plain": [
              "2"
            ]
          },
          "metadata": {},
          "execution_count": 8
        }
      ]
    },
    {
      "cell_type": "code",
      "source": [
        "#Turn train and test datasets into DataLoader\n",
        "from torch.utils.data import DataLoader\n",
        "import os\n",
        "BATCH_SIZE = 32\n",
        "train_dataloader_ex = DataLoader(dataset=train_data_ex,\n",
        "                              batch_size=BATCH_SIZE,\n",
        "                              num_workers=os.cpu_count(), # How many CPU cores that load the data (the higher the better)\n",
        "                              shuffle=True # We want to prevent order and let the machine train on various type of data\n",
        "                              )\n",
        "\n",
        "test_dataloader_ex = DataLoader(dataset=test_data_ex,\n",
        "                              batch_size=BATCH_SIZE,\n",
        "                             num_workers=os.cpu_count(), # How many CPU cores that load the data (the higher the better)\n",
        "                              shuffle=False # When evaluating a model, generally its better to have a specific order or atleast its ok to have order for test purpose\n",
        "                              )\n",
        "\n",
        "train_dataloader_ex, test_dataloader_ex"
      ],
      "metadata": {
        "id": "pvPUCRqy-_63",
        "colab": {
          "base_uri": "https://localhost:8080/"
        },
        "outputId": "2f1f883a-a1b4-439d-c459-2fbddaf1ffb2"
      },
      "execution_count": 9,
      "outputs": [
        {
          "output_type": "execute_result",
          "data": {
            "text/plain": [
              "(<torch.utils.data.dataloader.DataLoader at 0x787cfbcd5000>,\n",
              " <torch.utils.data.dataloader.DataLoader at 0x787cfbcd4250>)"
            ]
          },
          "metadata": {},
          "execution_count": 9
        }
      ]
    },
    {
      "cell_type": "code",
      "source": [
        "class TinyVGG2(nn.Module):\n",
        "  \"\"\"\n",
        "  Model architecture that replicates the TinyVGG\n",
        "  model from CNN explainer website  https://poloclub.github.io/cnn-explainer/\n",
        "  \"\"\"\n",
        "  def __init__(self,\n",
        "               input_shape: int,\n",
        "               hidden_units: int,\n",
        "               output_shape: int\n",
        "               ):\n",
        "    super().__init__()\n",
        "    self.conv_block_1 = nn.Sequential(\n",
        "        # Create conv layer\n",
        "        nn.Conv2d(in_channels=input_shape,\n",
        "                  out_channels=hidden_units,\n",
        "                  kernel_size=3, # often also referred to as filter size, refers to the dimensions of the sliding window over the input. can be tuple, ex:(3, 3)\n",
        "                  stride=1, # indicates how many pixels the kernel should be shifted over at a time.\n",
        "                  padding=1 # By adding padding, the model retains information from the edges of the input data, which would otherwise be lost without padding.\n",
        "                  ),\n",
        "        nn.LeakyReLU(),\n",
        "        nn.Conv2d(in_channels=hidden_units,\n",
        "                  out_channels=hidden_units,\n",
        "                  kernel_size=3, # often also referred to as filter size, refers to the dimensions of the sliding window over the input. can be tuple, ex:(3, 3)\n",
        "                  stride=1, # indicates how many pixels the kernel should be shifted over at a time.\n",
        "                  padding=1 # By adding padding, the model retains information from the edges of the input data, which would otherwise be lost without padding.\n",
        "                  ),\n",
        "        nn.LeakyReLU(),\n",
        "        nn.MaxPool2d(kernel_size=2,\n",
        "                     stride=2\n",
        "                     ), # stride by default is the same as kernel size\n",
        "        #nn.Dropout(p=0.5)#   Dropout with a 70% drop rate\n",
        "    )\n",
        "\n",
        "    self.conv_block_2 = nn.Sequential(\n",
        "        # Create conv layer\n",
        "        nn.Conv2d(in_channels=hidden_units,\n",
        "                  out_channels=hidden_units,\n",
        "                  kernel_size=3, # often also referred to as filter size, refers to the dimensions of the sliding window over the input. can be tuple, ex:(3, 3)\n",
        "                  stride=1, # indicates how many pixels the kernel should be shifted over at a time.\n",
        "                  padding=1 # By adding padding, the model retains information from the edges of the input data, which would otherwise be lost without padding.\n",
        "                  ),\n",
        "        nn.LeakyReLU(),\n",
        "        nn.Conv2d(in_channels=hidden_units,\n",
        "                  out_channels=hidden_units,\n",
        "                  kernel_size=3, # often also referred to as filter size, refers to the dimensions of the sliding window over the input. can be tuple, ex:(3, 3)\n",
        "                  stride=1, # indicates how many pixels the kernel should be shifted over at a time.\n",
        "                  padding=1 # By adding padding, the model retains information from the edges of the input data, which would otherwise be lost without padding.\n",
        "                  ),\n",
        "        nn.LeakyReLU(),\n",
        "        nn.MaxPool2d(kernel_size=2,\n",
        "                     stride=2\n",
        "                     ), # stride by default is the same as kernel size\n",
        "      #  nn.Dropout(p=0.5)   Dropout with a 55% drop rate\n",
        "    )\n",
        "    self.conv_block_3 = nn.Sequential(\n",
        "        # Create conv layer\n",
        "        nn.Conv2d(in_channels=hidden_units,\n",
        "                  out_channels=hidden_units,\n",
        "                  kernel_size=3, # often also referred to as filter size, refers to the dimensions of the sliding window over the input. can be tuple, ex:(3, 3)\n",
        "                  stride=1, # indicates how many pixels the kernel should be shifted over at a time.\n",
        "                  padding=0 # By adding padding, the model retains information from the edges of the input data, which would otherwise be lost without padding.\n",
        "                  ),\n",
        "        nn.ReLU(),\n",
        "        nn.Conv2d(in_channels=hidden_units,\n",
        "                  out_channels=hidden_units,\n",
        "                  kernel_size=3, # often also referred to as filter size, refers to the dimensions of the sliding window over the input. can be tuple, ex:(3, 3)\n",
        "                  stride=1, # indicates how many pixels the kernel should be shifted over at a time.\n",
        "                  padding=0 # By adding padding, the model retains information from the edges of the input data, which would otherwise be lost without padding.\n",
        "                  ),\n",
        "        nn.ReLU(),\n",
        "        nn.MaxPool2d(kernel_size=2,\n",
        "                     stride=2\n",
        "                     ), # stride by default is the same as kernel size\n",
        "        nn.Dropout(p=0.5)  # Dropout with a 70% drop rate\n",
        "    )\n",
        "    self.classifier = nn.Sequential(\n",
        "        nn.Flatten(),\n",
        "        nn.Linear(in_features=hidden_units*676, out_features=output_shape) # 7*7 = 49 which is the shape when the image compressed is flatten\n",
        "    )\n",
        "  def forward(self, x: torch.Tensor)-> torch.Tensor:\n",
        "    return self.classifier(self.conv_block_3(self.conv_block_2(self.conv_block_1(x)))) #benefited from operator fusion which behind the scene speeds up how GPU perform computation cuz its 1 step\n",
        "    # https://horace.io/brrr_intro.html\n"
      ],
      "metadata": {
        "id": "xQ9eB6yAAIDb"
      },
      "execution_count": 19,
      "outputs": []
    },
    {
      "cell_type": "code",
      "source": [
        "#torch.manual_seed(42)\n",
        "class_names = train_data_ex.classes\n",
        "model_exc = TinyVGG2(input_shape=3, # shape of color channels which in our case is 1\n",
        "                              hidden_units=10, # same shape cnn explainer use\n",
        "                              output_shape=len(class_names)).to(device)\n",
        "model_exc"
      ],
      "metadata": {
        "id": "5fDvQGV8B0jx",
        "colab": {
          "base_uri": "https://localhost:8080/"
        },
        "outputId": "4cb6c9ae-540d-4469-d9aa-bdde869b5b5f"
      },
      "execution_count": 20,
      "outputs": [
        {
          "output_type": "execute_result",
          "data": {
            "text/plain": [
              "TinyVGG2(\n",
              "  (conv_block_1): Sequential(\n",
              "    (0): Conv2d(3, 10, kernel_size=(3, 3), stride=(1, 1), padding=(1, 1))\n",
              "    (1): LeakyReLU(negative_slope=0.01)\n",
              "    (2): Conv2d(10, 10, kernel_size=(3, 3), stride=(1, 1), padding=(1, 1))\n",
              "    (3): LeakyReLU(negative_slope=0.01)\n",
              "    (4): MaxPool2d(kernel_size=2, stride=2, padding=0, dilation=1, ceil_mode=False)\n",
              "  )\n",
              "  (conv_block_2): Sequential(\n",
              "    (0): Conv2d(10, 10, kernel_size=(3, 3), stride=(1, 1), padding=(1, 1))\n",
              "    (1): LeakyReLU(negative_slope=0.01)\n",
              "    (2): Conv2d(10, 10, kernel_size=(3, 3), stride=(1, 1), padding=(1, 1))\n",
              "    (3): LeakyReLU(negative_slope=0.01)\n",
              "    (4): MaxPool2d(kernel_size=2, stride=2, padding=0, dilation=1, ceil_mode=False)\n",
              "  )\n",
              "  (conv_block_3): Sequential(\n",
              "    (0): Conv2d(10, 10, kernel_size=(3, 3), stride=(1, 1))\n",
              "    (1): ReLU()\n",
              "    (2): Conv2d(10, 10, kernel_size=(3, 3), stride=(1, 1))\n",
              "    (3): ReLU()\n",
              "    (4): MaxPool2d(kernel_size=2, stride=2, padding=0, dilation=1, ceil_mode=False)\n",
              "    (5): Dropout(p=0.5, inplace=False)\n",
              "  )\n",
              "  (classifier): Sequential(\n",
              "    (0): Flatten(start_dim=1, end_dim=-1)\n",
              "    (1): Linear(in_features=6760, out_features=3, bias=True)\n",
              "  )\n",
              ")"
            ]
          },
          "metadata": {},
          "execution_count": 20
        }
      ]
    },
    {
      "cell_type": "code",
      "source": [
        "model_exc(torch.rand(32,3,224,224).to(device))"
      ],
      "metadata": {
        "id": "a2dEwH0vDHB0",
        "colab": {
          "base_uri": "https://localhost:8080/"
        },
        "outputId": "75b9b99a-4856-4c0c-8924-164f8b11531c"
      },
      "execution_count": 21,
      "outputs": [
        {
          "output_type": "execute_result",
          "data": {
            "text/plain": [
              "tensor([[ 0.0041, -0.0404,  0.0324],\n",
              "        [ 0.0144, -0.0166,  0.0431],\n",
              "        [-0.0429,  0.0150, -0.0342],\n",
              "        [ 0.0042, -0.0051,  0.0512],\n",
              "        [-0.0246, -0.0584,  0.0823],\n",
              "        [-0.0475,  0.0100,  0.0350],\n",
              "        [-0.0352,  0.0296,  0.0398],\n",
              "        [-0.0370, -0.0060,  0.0250],\n",
              "        [-0.0242, -0.0087,  0.0387],\n",
              "        [-0.0361, -0.0080,  0.0444],\n",
              "        [ 0.0187, -0.0034,  0.0034],\n",
              "        [-0.0373, -0.0793,  0.0267],\n",
              "        [-0.0057, -0.0043,  0.0480],\n",
              "        [-0.0079,  0.0225,  0.0358],\n",
              "        [-0.0100,  0.0402,  0.0253],\n",
              "        [-0.0155,  0.0647,  0.0436],\n",
              "        [-0.0153, -0.0017,  0.0528],\n",
              "        [-0.0492, -0.0266,  0.0485],\n",
              "        [-0.0234, -0.0569,  0.0226],\n",
              "        [-0.0382, -0.0160,  0.0958],\n",
              "        [-0.0044,  0.0345,  0.0346],\n",
              "        [-0.0618,  0.0247,  0.0633],\n",
              "        [-0.0391, -0.0032,  0.0200],\n",
              "        [-0.0595,  0.0050,  0.0137],\n",
              "        [-0.0062, -0.0234,  0.0063],\n",
              "        [-0.0276,  0.0025,  0.0454],\n",
              "        [ 0.0181, -0.0224,  0.0110],\n",
              "        [-0.0659, -0.0218,  0.0731],\n",
              "        [-0.0594, -0.0492, -0.0024],\n",
              "        [-0.0454, -0.0426,  0.0296],\n",
              "        [-0.0225, -0.0303, -0.0316],\n",
              "        [-0.0156, -0.0091,  0.0248]], grad_fn=<AddmmBackward0>)"
            ]
          },
          "metadata": {},
          "execution_count": 21
        }
      ]
    },
    {
      "cell_type": "code",
      "source": [
        "def train_step(model: torch.nn.Module,\n",
        "               dataloader: torch.utils.data.DataLoader,\n",
        "               loss_fn: torch.nn.Module,\n",
        "               optimizer: torch.optim.Optimizer,\n",
        "               device: torch.device = device\n",
        "               ):\n",
        "  \"\"\"Performs a training with model trying to learn on data_loader\"\"\"\n",
        "  ### Training\n",
        "  train_loss, train_acc = 0, 0\n",
        "  # Put model into training model\n",
        "  model.train()\n",
        "\n",
        "  # Add a loop to loop through the training batches\n",
        "  for batch, (X, y) in enumerate(dataloader):\n",
        "    X, y = X.to(device), y.to(device)\n",
        "    # 1. Forward pass\n",
        "    y_pred = model(X)\n",
        "\n",
        "    l1_lambda = 0.001\n",
        "    l1_norm = sum(p.abs().sum() for p in model.parameters())\n",
        "\n",
        "    #2. Calculate loss\n",
        "    loss = loss_fn(y_pred, y)\n",
        "    train_loss += loss # Accumulate train loss\n",
        "\n",
        "    # Calculate accuracy metric\n",
        "    y_pred_class = torch.argmax(torch.softmax(y_pred, dim=1), dim=1)\n",
        "    train_acc+= ((y_pred_class==y).sum().item()/len(y_pred)) * 100\n",
        "\n",
        "    #3. Optimizer zero grad\n",
        "    optimizer.zero_grad()\n",
        "\n",
        "    #4. Loss backward\n",
        "    loss.backward()\n",
        "\n",
        "    #5. Optimizer step\n",
        "    optimizer.step()\n",
        "\n",
        "    #if(batch % 2 == 0):\n",
        "    #  print(f\"Looked at {batch * len(X)} samples out of {len(train_dataloader.dataset)} samples\")\n",
        "\n",
        "  # Divide total train loss by length of train dataloader\n",
        "  train_loss /= len(dataloader) # Average loss per batch\n",
        "\n",
        "  # Average accuracy per batch\n",
        "  train_acc /= len(dataloader)\n",
        "\n",
        "  print(f\"\\nTrain loss: {train_loss:.4f} , Train accuracy: {train_acc:.4f}% \")\n",
        "  return train_loss, train_acc"
      ],
      "metadata": {
        "id": "vJipK6RsCcwH"
      },
      "execution_count": 22,
      "outputs": []
    },
    {
      "cell_type": "code",
      "source": [
        "def test_step(model: torch.nn.Module,\n",
        "               dataloader: torch.utils.data.DataLoader,\n",
        "               loss_fn: torch.nn.Module,\n",
        "               device: torch.device = device\n",
        "              ):\n",
        "  \"\"\"Performs a test with model trying to learn on data_loader\"\"\"\n",
        "  ### Testing\n",
        "  test_loss, test_acc = 0, 0\n",
        "  model.eval()\n",
        "  with torch.inference_mode():\n",
        "    for X_test, y_test in dataloader:\n",
        "      X_test, y_test = X_test.to(device), y_test.to(device)\n",
        "\n",
        "      # 1. Forward pass\n",
        "      test_pred_logits = model(X_test)\n",
        "\n",
        "      #2. Calculate loss\n",
        "      loss = loss_fn(test_pred_logits, y_test)\n",
        "      test_loss += loss # Accumulate test loss\n",
        "\n",
        "      # Calculate accuracy metric\n",
        "      #test_pred_labels = torch.argmax(torch.softmax(test_pred_logits, dim=1), dim=1)\n",
        "      #test_acc+= ((test_pred_labels==y_test).sum().item()/len(test_pred_logits)) * 100\n",
        "      test_pred_labels = test_pred_logits.argmax(dim=1) # another way of doing it (?) further testing required\n",
        "      test_acc+= ((test_pred_labels==y_test).sum().item()/len(test_pred_labels)) * 100\n",
        "\n",
        "    # Average loss per batch\n",
        "    test_loss /= len(dataloader)\n",
        "\n",
        "    # Average accuracy per batch\n",
        "    test_acc /= len(dataloader)\n",
        "\n",
        "  print(f\"Test loss: {test_loss:.4f}, Test accuracy: {test_acc:.4f}%\\n\")\n",
        "  return test_loss, test_acc"
      ],
      "metadata": {
        "id": "BEwVeN9HCbRA"
      },
      "execution_count": 23,
      "outputs": []
    },
    {
      "cell_type": "code",
      "source": [
        "def print_train_time(start: float,\n",
        "                     end: float,\n",
        "                     device: torch.device = None\n",
        "                     ):\n",
        "  \"\"\"Prints difference between start and end time.\"\"\"\n",
        "  total_time = end - start\n",
        "  print(f\"Train time on {device}: {total_time:.3f} seconds\")\n",
        "  return total_time\n"
      ],
      "metadata": {
        "id": "0pjC-q0hCaAR"
      },
      "execution_count": 24,
      "outputs": []
    },
    {
      "cell_type": "code",
      "source": [
        "# Setup loss function and optimizer\n",
        "loss_fn = nn.CrossEntropyLoss()\n",
        "optimizer = torch.optim.Adam(params=model_exc.parameters(),\n",
        "                            lr=0.001,\n",
        "                            weight_decay=0.01\n",
        "                            )\n",
        "loss_fn, optimizer"
      ],
      "metadata": {
        "id": "rC8_1wUBCYgl",
        "colab": {
          "base_uri": "https://localhost:8080/"
        },
        "outputId": "328c80a7-9feb-416f-f0ad-3b7da9ccdd6a"
      },
      "execution_count": 25,
      "outputs": [
        {
          "output_type": "execute_result",
          "data": {
            "text/plain": [
              "(CrossEntropyLoss(),\n",
              " Adam (\n",
              " Parameter Group 0\n",
              "     amsgrad: False\n",
              "     betas: (0.9, 0.999)\n",
              "     capturable: False\n",
              "     differentiable: False\n",
              "     eps: 1e-08\n",
              "     foreach: None\n",
              "     fused: None\n",
              "     lr: 0.001\n",
              "     maximize: False\n",
              "     weight_decay: 0.01\n",
              " ))"
            ]
          },
          "metadata": {},
          "execution_count": 25
        }
      ]
    },
    {
      "cell_type": "code",
      "source": [
        "# Import tqdm for progress bar\n",
        "# tqdm.auto recognize computer enviroment we use and give the best type progress bar, ex: jupyter notebook bar differ from python script\n",
        "from tqdm.auto import tqdm\n",
        "def train(model: torch.nn.Module,\n",
        "            train_dataloader: torch.utils.data.DataLoader,\n",
        "            test_dataloader: torch.utils.data.DataLoader,\n",
        "            loss_fn: torch.nn.Module,\n",
        "            optimizer: torch.optim.Optimizer,\n",
        "            device: torch.device = device,\n",
        "            epochs: int = 5\n",
        "          ):\n",
        "\n",
        "  results = {\n",
        "      \"train_loss\": [],\n",
        "      \"train_acc\": [],\n",
        "      \"test_loss\": [],\n",
        "      \"test_acc\": []\n",
        "  }\n",
        "\n",
        "  # Create training and test loop\n",
        "  for epoch in tqdm(range(epochs)): # the way tqdm works is to wrap our iterator in tqdm\n",
        "    print(f\"Epoch: {epoch}\\n-----\")\n",
        "    train_loss, train_acc = train_step(model=model,\n",
        "               dataloader=train_dataloader,\n",
        "               loss_fn=loss_fn,\n",
        "               optimizer=optimizer)\n",
        "    model.eval()\n",
        "    test_loss, test_acc = test_step(model=model,\n",
        "              dataloader=test_dataloader,\n",
        "              loss_fn=loss_fn)\n",
        "\n",
        "    # Update result dictionary\n",
        "    train_loss = train_loss.detach()\n",
        "    #print(train_loss, train_acc, test_loss, test_acc)\n",
        "    results[\"train_loss\"].append(train_loss.cpu())\n",
        "    results[\"train_acc\"].append(train_acc)\n",
        "    results[\"test_loss\"].append(test_loss.cpu())\n",
        "    results[\"test_acc\"].append(test_acc)\n",
        "\n",
        "\n",
        "  return results\n"
      ],
      "metadata": {
        "id": "miK0090oCB2K"
      },
      "execution_count": 26,
      "outputs": []
    },
    {
      "cell_type": "code",
      "source": [
        "# import timer\n",
        "from timeit import default_timer as timer\n",
        "\n",
        "# Set the seed and start the timer\n",
        "#torch.manual_seed(42)\n",
        "#torch.cuda.manual_seed(42)\n",
        "train_time_start = timer()\n",
        "\n",
        "# Set number of epoch\n",
        "NUM_EPOCHS = 25\n",
        "\n",
        "model_exc_results = train(model=model_exc,\n",
        "      train_dataloader=train_dataloader_ex,\n",
        "      test_dataloader=test_dataloader_ex,\n",
        "      loss_fn=loss_fn,\n",
        "      optimizer=optimizer,\n",
        "      epochs=NUM_EPOCHS\n",
        "      )\n",
        "\n",
        "\n",
        "train_time_end = timer()\n",
        "total_train_time_model_exc = print_train_time(start=train_time_start,\n",
        "                                            end=train_time_end,\n",
        "                                            device=next(model_exc.parameters()).device\n",
        "                                            )"
      ],
      "metadata": {
        "id": "GgZuDt4NCtGV",
        "colab": {
          "base_uri": "https://localhost:8080/",
          "height": 1000,
          "referenced_widgets": [
            "da90cd3e82e14a7881c8211e12a0afcb",
            "ca0ebbfd3dee4565ab7ae4479c9af240",
            "447846bc880847c1a0aff1df98cbe722",
            "0263368f124d47f0bde26130c6342afa",
            "5ff72b4a9bd841d591ecd49c1bfe29ef",
            "82bbe35cf19a49ccb530e611c12b44a3",
            "041280bda2a242059d8f03c5e8ae4d19",
            "464530857945434fb48dd725ff237d41",
            "c51a76177ecb4ca59f4dab4b74361ce0",
            "960d0b7287d04f1789410f95e43618d6",
            "875b07e8f4e14ee8bb88b4e98a6b60f8"
          ]
        },
        "outputId": "a9c2662d-fe91-4dde-aee0-e91a91a0e12e"
      },
      "execution_count": 27,
      "outputs": [
        {
          "output_type": "display_data",
          "data": {
            "text/plain": [
              "  0%|          | 0/25 [00:00<?, ?it/s]"
            ],
            "application/vnd.jupyter.widget-view+json": {
              "version_major": 2,
              "version_minor": 0,
              "model_id": "da90cd3e82e14a7881c8211e12a0afcb"
            }
          },
          "metadata": {}
        },
        {
          "output_type": "stream",
          "name": "stdout",
          "text": [
            "Epoch: 0\n",
            "-----\n",
            "\n",
            "Train loss: 1.1037 , Train accuracy: 37.1094% \n",
            "Test loss: 1.0999, Test accuracy: 26.0417%\n",
            "\n",
            "Epoch: 1\n",
            "-----\n",
            "\n",
            "Train loss: 1.1494 , Train accuracy: 30.4688% \n",
            "Test loss: 1.1294, Test accuracy: 26.0417%\n",
            "\n",
            "Epoch: 2\n",
            "-----\n",
            "\n",
            "Train loss: 1.1143 , Train accuracy: 30.4688% \n",
            "Test loss: 1.1241, Test accuracy: 19.7917%\n",
            "\n",
            "Epoch: 3\n",
            "-----\n",
            "\n",
            "Train loss: 1.1157 , Train accuracy: 29.2969% \n",
            "Test loss: 1.0971, Test accuracy: 19.7917%\n",
            "\n",
            "Epoch: 4\n",
            "-----\n",
            "\n",
            "Train loss: 1.1004 , Train accuracy: 22.2656% \n",
            "Test loss: 1.0922, Test accuracy: 54.1667%\n",
            "\n",
            "Epoch: 5\n",
            "-----\n",
            "\n",
            "Train loss: 1.1021 , Train accuracy: 27.3438% \n",
            "Test loss: 1.0801, Test accuracy: 54.1667%\n",
            "\n",
            "Epoch: 6\n",
            "-----\n",
            "\n",
            "Train loss: 1.0926 , Train accuracy: 37.5000% \n",
            "Test loss: 1.0944, Test accuracy: 26.0417%\n",
            "\n",
            "Epoch: 7\n",
            "-----\n",
            "\n",
            "Train loss: 1.0827 , Train accuracy: 42.5781% \n",
            "Test loss: 1.1097, Test accuracy: 26.0417%\n",
            "\n",
            "Epoch: 8\n",
            "-----\n",
            "\n",
            "Train loss: 1.1180 , Train accuracy: 30.4688% \n",
            "Test loss: 1.1239, Test accuracy: 26.0417%\n",
            "\n",
            "Epoch: 9\n",
            "-----\n",
            "\n",
            "Train loss: 1.1069 , Train accuracy: 30.4688% \n",
            "Test loss: 1.1004, Test accuracy: 26.0417%\n",
            "\n",
            "Epoch: 10\n",
            "-----\n",
            "\n",
            "Train loss: 1.0959 , Train accuracy: 30.4688% \n",
            "Test loss: 1.0859, Test accuracy: 26.0417%\n",
            "\n",
            "Epoch: 11\n",
            "-----\n",
            "\n",
            "Train loss: 1.0944 , Train accuracy: 35.1562% \n",
            "Test loss: 1.0766, Test accuracy: 54.1667%\n",
            "\n",
            "Epoch: 12\n",
            "-----\n",
            "\n",
            "Train loss: 1.0915 , Train accuracy: 40.2344% \n",
            "Test loss: 1.0698, Test accuracy: 54.1667%\n",
            "\n",
            "Epoch: 13\n",
            "-----\n",
            "\n",
            "Train loss: 1.1083 , Train accuracy: 28.1250% \n",
            "Test loss: 1.0641, Test accuracy: 54.1667%\n",
            "\n",
            "Epoch: 14\n",
            "-----\n",
            "\n",
            "Train loss: 1.0997 , Train accuracy: 28.1250% \n",
            "Test loss: 1.0749, Test accuracy: 54.1667%\n",
            "\n",
            "Epoch: 15\n",
            "-----\n",
            "\n",
            "Train loss: 1.1113 , Train accuracy: 28.9062% \n",
            "Test loss: 1.0853, Test accuracy: 54.1667%\n",
            "\n",
            "Epoch: 16\n",
            "-----\n",
            "\n",
            "Train loss: 1.0973 , Train accuracy: 37.5000% \n",
            "Test loss: 1.0954, Test accuracy: 26.0417%\n",
            "\n",
            "Epoch: 17\n",
            "-----\n",
            "\n",
            "Train loss: 1.1018 , Train accuracy: 30.4688% \n",
            "Test loss: 1.0987, Test accuracy: 26.0417%\n",
            "\n",
            "Epoch: 18\n",
            "-----\n",
            "\n",
            "Train loss: 1.0963 , Train accuracy: 42.5781% \n",
            "Test loss: 1.1007, Test accuracy: 26.0417%\n",
            "\n",
            "Epoch: 19\n",
            "-----\n",
            "\n",
            "Train loss: 1.0995 , Train accuracy: 30.4688% \n",
            "Test loss: 1.1019, Test accuracy: 26.0417%\n",
            "\n",
            "Epoch: 20\n",
            "-----\n",
            "\n",
            "Train loss: 1.0989 , Train accuracy: 30.4688% \n",
            "Test loss: 1.1034, Test accuracy: 26.0417%\n",
            "\n",
            "Epoch: 21\n",
            "-----\n",
            "\n",
            "Train loss: 1.0984 , Train accuracy: 30.4688% \n",
            "Test loss: 1.1040, Test accuracy: 26.0417%\n",
            "\n",
            "Epoch: 22\n",
            "-----\n",
            "\n",
            "Train loss: 1.0977 , Train accuracy: 30.4688% \n",
            "Test loss: 1.1042, Test accuracy: 26.0417%\n",
            "\n",
            "Epoch: 23\n",
            "-----\n",
            "\n",
            "Train loss: 1.0970 , Train accuracy: 42.1875% \n",
            "Test loss: 1.1057, Test accuracy: 26.0417%\n",
            "\n",
            "Epoch: 24\n",
            "-----\n",
            "\n",
            "Train loss: 1.1026 , Train accuracy: 30.4688% \n",
            "Test loss: 1.1085, Test accuracy: 26.0417%\n",
            "\n",
            "Train time on cpu: 545.013 seconds\n"
          ]
        }
      ]
    },
    {
      "cell_type": "code",
      "source": [
        "from typing import Tuple, Dict, List\n",
        "def plot_loss_curves(results: Dict[str, List[float]]):\n",
        "  \"\"\"Plots training curves of a results dictionary.\"\"\"\n",
        "  with torch.inference_mode():\n",
        "    # Get the loss values of results dictionary\n",
        "    print(results[\"train_loss\"])\n",
        "    loss = results[\"train_loss\"]\n",
        "    test_loss = results[\"test_loss\"]\n",
        "\n",
        "    # Get the accuracy values of results dictionary\n",
        "    acc = results[\"train_acc\"]\n",
        "    test_acc = results[\"test_acc\"]\n",
        "\n",
        "    # Figure out how many epochs there were\n",
        "    epochs = range(len(results[\"train_loss\"]))\n",
        "\n",
        "    # Setup a plot\n",
        "    plt.figure(figsize=(15, 7))\n",
        "\n",
        "    # Plot the loss\n",
        "    plt.subplot(1, 2, 1)\n",
        "    plt.plot(epochs, loss, label=\"train_loss\")\n",
        "    plt.plot(epochs, test_loss, label=\"test_loss\")\n",
        "    plt.title(\"Loss\")\n",
        "    plt.xlabel(\"Epochs\")\n",
        "    plt.legend()\n",
        "\n",
        "    # Plot the accuracy\n",
        "    plt.subplot(1, 2, 2)\n",
        "    plt.plot(epochs, acc, label=\"train_accuracy\")\n",
        "    plt.plot(epochs, test_acc, label=\"test_accuracy\")\n",
        "    plt.title(\"Accuracy\")\n",
        "    plt.xlabel(\"Epochs\")\n",
        "    plt.legend()"
      ],
      "metadata": {
        "id": "77grqpMVuTj5"
      },
      "execution_count": 28,
      "outputs": []
    },
    {
      "cell_type": "code",
      "source": [
        "plot_loss_curves(model_exc_results)"
      ],
      "metadata": {
        "id": "Z4q14WBnEFxL",
        "colab": {
          "base_uri": "https://localhost:8080/",
          "height": 679
        },
        "outputId": "6772dfc6-cfbf-4ed1-d223-d50938333958"
      },
      "execution_count": 29,
      "outputs": [
        {
          "output_type": "stream",
          "name": "stdout",
          "text": [
            "[tensor(1.1037), tensor(1.1494), tensor(1.1143), tensor(1.1157), tensor(1.1004), tensor(1.1021), tensor(1.0926), tensor(1.0827), tensor(1.1180), tensor(1.1069), tensor(1.0959), tensor(1.0944), tensor(1.0915), tensor(1.1083), tensor(1.0997), tensor(1.1113), tensor(1.0973), tensor(1.1018), tensor(1.0963), tensor(1.0995), tensor(1.0989), tensor(1.0984), tensor(1.0977), tensor(1.0970), tensor(1.1026)]\n"
          ]
        },
        {
          "output_type": "display_data",
          "data": {
            "text/plain": [
              "<Figure size 1500x700 with 2 Axes>"
            ],
            "image/png": "[encoded data removed]"
          },
          "metadata": {}
        }
      ]
    },
    {
      "cell_type": "code",
      "source": [],
      "metadata": {
        "id": "By5TtzPB7apf"
      },
      "execution_count": 29,
      "outputs": []
    }
  ],
  "metadata": {
    "colab": {
      "provenance": [],
      "toc_visible": true,
      "authorship_tag": "ABX9TyMOKD6E55X+95Nst6jfL4hD",
      "include_colab_link": true
    },
    "kernelspec": {
      "display_name": "Python 3",
      "name": "python3"
    },
    "language_info": {
      "name": "python"
    },
    "widgets": {
      "application/vnd.jupyter.widget-state+json": {
        "da90cd3e82e14a7881c8211e12a0afcb": {
          "model_module": "@jupyter-widgets/controls",
          "model_name": "HBoxModel",
          "model_module_version": "1.5.0",
          "state": {
            "_dom_classes": [],
            "_model_module": "@jupyter-widgets/controls",
            "_model_module_version": "1.5.0",
            "_model_name": "HBoxModel",
            "_view_count": null,
            "_view_module": "@jupyter-widgets/controls",
            "_view_module_version": "1.5.0",
            "_view_name": "HBoxView",
            "box_style": "",
            "children": [
              "IPY_MODEL_ca0ebbfd3dee4565ab7ae4479c9af240",
              "IPY_MODEL_447846bc880847c1a0aff1df98cbe722",
              "IPY_MODEL_0263368f124d47f0bde26130c6342afa"
            ],
            "layout": "IPY_MODEL_5ff72b4a9bd841d591ecd49c1bfe29ef"
          }
        },
        "ca0ebbfd3dee4565ab7ae4479c9af240": {
          "model_module": "@jupyter-widgets/controls",
          "model_name": "HTMLModel",
          "model_module_version": "1.5.0",
          "state": {
            "_dom_classes": [],
            "_model_module": "@jupyter-widgets/controls",
            "_model_module_version": "1.5.0",
            "_model_name": "HTMLModel",
            "_view_count": null,
            "_view_module": "@jupyter-widgets/controls",
            "_view_module_version": "1.5.0",
            "_view_name": "HTMLView",
            "description": "",
            "description_tooltip": null,
            "layout": "IPY_MODEL_82bbe35cf19a49ccb530e611c12b44a3",
            "placeholder": "​",
            "style": "IPY_MODEL_041280bda2a242059d8f03c5e8ae4d19",
            "value": "100%"
          }
        },
        "447846bc880847c1a0aff1df98cbe722": {
          "model_module": "@jupyter-widgets/controls",
          "model_name": "FloatProgressModel",
          "model_module_version": "1.5.0",
          "state": {
            "_dom_classes": [],
            "_model_module": "@jupyter-widgets/controls",
            "_model_module_version": "1.5.0",
            "_model_name": "FloatProgressModel",
            "_view_count": null,
            "_view_module": "@jupyter-widgets/controls",
            "_view_module_version": "1.5.0",
            "_view_name": "ProgressView",
            "bar_style": "success",
            "description": "",
            "description_tooltip": null,
            "layout": "IPY_MODEL_464530857945434fb48dd725ff237d41",
            "max": 25,
            "min": 0,
            "orientation": "horizontal",
            "style": "IPY_MODEL_c51a76177ecb4ca59f4dab4b74361ce0",
            "value": 25
          }
        },
        "0263368f124d47f0bde26130c6342afa": {
          "model_module": "@jupyter-widgets/controls",
          "model_name": "HTMLModel",
          "model_module_version": "1.5.0",
          "state": {
            "_dom_classes": [],
            "_model_module": "@jupyter-widgets/controls",
            "_model_module_version": "1.5.0",
            "_model_name": "HTMLModel",
            "_view_count": null,
            "_view_module": "@jupyter-widgets/controls",
            "_view_module_version": "1.5.0",
            "_view_name": "HTMLView",
            "description": "",
            "description_tooltip": null,
            "layout": "IPY_MODEL_960d0b7287d04f1789410f95e43618d6",
            "placeholder": "​",
            "style": "IPY_MODEL_875b07e8f4e14ee8bb88b4e98a6b60f8",
            "value": " 25/25 [09:05&lt;00:00, 21.99s/it]"
          }
        },
        "5ff72b4a9bd841d591ecd49c1bfe29ef": {
          "model_module": "@jupyter-widgets/base",
          "model_name": "LayoutModel",
          "model_module_version": "1.2.0",
          "state": {
            "_model_module": "@jupyter-widgets/base",
            "_model_module_version": "1.2.0",
            "_model_name": "LayoutModel",
            "_view_count": null,
            "_view_module": "@jupyter-widgets/base",
            "_view_module_version": "1.2.0",
            "_view_name": "LayoutView",
            "align_content": null,
            "align_items": null,
            "align_self": null,
            "border": null,
            "bottom": null,
            "display": null,
            "flex": null,
            "flex_flow": null,
            "grid_area": null,
            "grid_auto_columns": null,
            "grid_auto_flow": null,
            "grid_auto_rows": null,
            "grid_column": null,
            "grid_gap": null,
            "grid_row": null,
            "grid_template_areas": null,
            "grid_template_columns": null,
            "grid_template_rows": null,
            "height": null,
            "justify_content": null,
            "justify_items": null,
            "left": null,
            "margin": null,
            "max_height": null,
            "max_width": null,
            "min_height": null,
            "min_width": null,
            "object_fit": null,
            "object_position": null,
            "order": null,
            "overflow": null,
            "overflow_x": null,
            "overflow_y": null,
            "padding": null,
            "right": null,
            "top": null,
            "visibility": null,
            "width": null
          }
        },
        "82bbe35cf19a49ccb530e611c12b44a3": {
          "model_module": "@jupyter-widgets/base",
          "model_name": "LayoutModel",
          "model_module_version": "1.2.0",
          "state": {
            "_model_module": "@jupyter-widgets/base",
            "_model_module_version": "1.2.0",
            "_model_name": "LayoutModel",
            "_view_count": null,
            "_view_module": "@jupyter-widgets/base",
            "_view_module_version": "1.2.0",
            "_view_name": "LayoutView",
            "align_content": null,
            "align_items": null,
            "align_self": null,
            "border": null,
            "bottom": null,
            "display": null,
            "flex": null,
            "flex_flow": null,
            "grid_area": null,
            "grid_auto_columns": null,
            "grid_auto_flow": null,
            "grid_auto_rows": null,
            "grid_column": null,
            "grid_gap": null,
            "grid_row": null,
            "grid_template_areas": null,
            "grid_template_columns": null,
            "grid_template_rows": null,
            "height": null,
            "justify_content": null,
            "justify_items": null,
            "left": null,
            "margin": null,
            "max_height": null,
            "max_width": null,
            "min_height": null,
            "min_width": null,
            "object_fit": null,
            "object_position": null,
            "order": null,
            "overflow": null,
            "overflow_x": null,
            "overflow_y": null,
            "padding": null,
            "right": null,
            "top": null,
            "visibility": null,
            "width": null
          }
        },
        "041280bda2a242059d8f03c5e8ae4d19": {
          "model_module": "@jupyter-widgets/controls",
          "model_name": "DescriptionStyleModel",
          "model_module_version": "1.5.0",
          "state": {
            "_model_module": "@jupyter-widgets/controls",
            "_model_module_version": "1.5.0",
            "_model_name": "DescriptionStyleModel",
            "_view_count": null,
            "_view_module": "@jupyter-widgets/base",
            "_view_module_version": "1.2.0",
            "_view_name": "StyleView",
            "description_width": ""
          }
        },
        "464530857945434fb48dd725ff237d41": {
          "model_module": "@jupyter-widgets/base",
          "model_name": "LayoutModel",
          "model_module_version": "1.2.0",
          "state": {
            "_model_module": "@jupyter-widgets/base",
            "_model_module_version": "1.2.0",
            "_model_name": "LayoutModel",
            "_view_count": null,
            "_view_module": "@jupyter-widgets/base",
            "_view_module_version": "1.2.0",
            "_view_name": "LayoutView",
            "align_content": null,
            "align_items": null,
            "align_self": null,
            "border": null,
            "bottom": null,
            "display": null,
            "flex": null,
            "flex_flow": null,
            "grid_area": null,
            "grid_auto_columns": null,
            "grid_auto_flow": null,
            "grid_auto_rows": null,
            "grid_column": null,
            "grid_gap": null,
            "grid_row": null,
            "grid_template_areas": null,
            "grid_template_columns": null,
            "grid_template_rows": null,
            "height": null,
            "justify_content": null,
            "justify_items": null,
            "left": null,
            "margin": null,
            "max_height": null,
            "max_width": null,
            "min_height": null,
            "min_width": null,
            "object_fit": null,
            "object_position": null,
            "order": null,
            "overflow": null,
            "overflow_x": null,
            "overflow_y": null,
            "padding": null,
            "right": null,
            "top": null,
            "visibility": null,
            "width": null
          }
        },
        "c51a76177ecb4ca59f4dab4b74361ce0": {
          "model_module": "@jupyter-widgets/controls",
          "model_name": "ProgressStyleModel",
          "model_module_version": "1.5.0",
          "state": {
            "_model_module": "@jupyter-widgets/controls",
            "_model_module_version": "1.5.0",
            "_model_name": "ProgressStyleModel",
            "_view_count": null,
            "_view_module": "@jupyter-widgets/base",
            "_view_module_version": "1.2.0",
            "_view_name": "StyleView",
            "bar_color": null,
            "description_width": ""
          }
        },
        "960d0b7287d04f1789410f95e43618d6": {
          "model_module": "@jupyter-widgets/base",
          "model_name": "LayoutModel",
          "model_module_version": "1.2.0",
          "state": {
            "_model_module": "@jupyter-widgets/base",
            "_model_module_version": "1.2.0",
            "_model_name": "LayoutModel",
            "_view_count": null,
            "_view_module": "@jupyter-widgets/base",
            "_view_module_version": "1.2.0",
            "_view_name": "LayoutView",
            "align_content": null,
            "align_items": null,
            "align_self": null,
            "border": null,
            "bottom": null,
            "display": null,
            "flex": null,
            "flex_flow": null,
            "grid_area": null,
            "grid_auto_columns": null,
            "grid_auto_flow": null,
            "grid_auto_rows": null,
            "grid_column": null,
            "grid_gap": null,
            "grid_row": null,
            "grid_template_areas": null,
            "grid_template_columns": null,
            "grid_template_rows": null,
            "height": null,
            "justify_content": null,
            "justify_items": null,
            "left": null,
            "margin": null,
            "max_height": null,
            "max_width": null,
            "min_height": null,
            "min_width": null,
            "object_fit": null,
            "object_position": null,
            "order": null,
            "overflow": null,
            "overflow_x": null,
            "overflow_y": null,
            "padding": null,
            "right": null,
            "top": null,
            "visibility": null,
            "width": null
          }
        },
        "875b07e8f4e14ee8bb88b4e98a6b60f8": {
          "model_module": "@jupyter-widgets/controls",
          "model_name": "DescriptionStyleModel",
          "model_module_version": "1.5.0",
          "state": {
            "_model_module": "@jupyter-widgets/controls",
            "_model_module_version": "1.5.0",
            "_model_name": "DescriptionStyleModel",
            "_view_count": null,
            "_view_module": "@jupyter-widgets/base",
            "_view_module_version": "1.2.0",
            "_view_name": "StyleView",
            "description_width": ""
          }
        }
      }
    }
  },
  "nbformat": 4,
  "nbformat_minor": 0
}