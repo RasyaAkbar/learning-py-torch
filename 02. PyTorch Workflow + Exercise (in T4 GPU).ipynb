{
  "nbformat": 4,
  "nbformat_minor": 0,
  "metadata": {
    "colab": {
      "provenance": [],
      "authorship_tag": "ABX9TyObEY9PdGBberWbzEhQ4BgK",
      "include_colab_link": true
    },
    "kernelspec": {
      "name": "python3",
      "display_name": "Python 3"
    },
    "language_info": {
      "name": "python"
    }
  },
  "cells": [
    {
      "cell_type": "markdown",
      "metadata": {
        "id": "view-in-github",
        "colab_type": "text"
      },
      "source": [
        "<a href=\"https://colab.research.google.com/github/RasyaAkbar/learning-py-torch/blob/main/02.%20PyTorch%20Workflow%20%2B%20Exercise%20(in%20T4%20GPU).ipynb\" target=\"_parent\"><img src=\"https://colab.research.google.com/assets/colab-badge.svg\" alt=\"Open In Colab\"/></a>"
      ]
    },
    {
      "cell_type": "code",
      "execution_count": 5,
      "metadata": {
        "id": "GfNOCwkRrT5p"
      },
      "outputs": [],
      "source": [
        "import torch\n",
        "from torch import nn # nn contains all of building blocks of neural networks from torch\n",
        "import pandas as pd\n",
        "import numpy as np\n",
        "import matplotlib.pyplot as plt\n"
      ]
    },
    {
      "cell_type": "markdown",
      "source": [
        "## 1. Data (preparing and loading)\n",
        "\n",
        "Machine learning is a game in two parts:\n",
        "1. Get data into a numerical representation\n",
        "2. Build a model to learn patterns in that numerical representation\n",
        "\n",
        "we'll use linear regression formula to make straight line with **known parameters**\n",
        "\n"
      ],
      "metadata": {
        "id": "XdJ__IlEu68n"
      }
    },
    {
      "cell_type": "code",
      "source": [
        "# create *known* parameter\n",
        "weight = 0.7\n",
        "bias = 0.3\n",
        "\n",
        "start = 0\n",
        "end = 1\n",
        "step = 0.02\n",
        "# Note: X capital represent matrix or tensor, x lowercase represent vector\n",
        "X = torch.arange(start, end, step).unsqueeze(dim=1)\n",
        "y = weight * X + bias # Linear regression\n",
        "\n",
        "X[:10], y[:10]"
      ],
      "metadata": {
        "colab": {
          "base_uri": "https://localhost:8080/"
        },
        "id": "Oy-lThBFu_7I",
        "outputId": "aff065cc-5b8c-4882-ee7f-fe7c0f8168f4"
      },
      "execution_count": 3,
      "outputs": [
        {
          "output_type": "execute_result",
          "data": {
            "text/plain": [
              "(tensor([[0.0000],\n",
              "         [0.0200],\n",
              "         [0.0400],\n",
              "         [0.0600],\n",
              "         [0.0800],\n",
              "         [0.1000],\n",
              "         [0.1200],\n",
              "         [0.1400],\n",
              "         [0.1600],\n",
              "         [0.1800]]),\n",
              " tensor([[0.3000],\n",
              "         [0.3140],\n",
              "         [0.3280],\n",
              "         [0.3420],\n",
              "         [0.3560],\n",
              "         [0.3700],\n",
              "         [0.3840],\n",
              "         [0.3980],\n",
              "         [0.4120],\n",
              "         [0.4260]]))"
            ]
          },
          "metadata": {},
          "execution_count": 3
        }
      ]
    },
    {
      "cell_type": "markdown",
      "source": [
        "## Splitting data into training and test sets"
      ],
      "metadata": {
        "id": "svwrwztczAKo"
      }
    },
    {
      "cell_type": "code",
      "source": [
        "# Create a train/test split\n",
        "train_split = int(0.8 * len(X)) # split 80%\n",
        "X_train, y_train = X[:train_split], y[:train_split]\n",
        "X_test, y_test = X[train_split:], y[train_split:]\n",
        "len(X_test), len(X_train)"
      ],
      "metadata": {
        "colab": {
          "base_uri": "https://localhost:8080/"
        },
        "id": "EQAzGcbIyX6B",
        "outputId": "5e82daee-5f43-4857-9abe-bd59a7164585"
      },
      "execution_count": 4,
      "outputs": [
        {
          "output_type": "execute_result",
          "data": {
            "text/plain": [
              "(10, 40)"
            ]
          },
          "metadata": {},
          "execution_count": 4
        }
      ]
    },
    {
      "cell_type": "code",
      "source": [
        "def plot_predictions(train_data=X_train,\n",
        "                     train_labels=y_train,\n",
        "                     test_data=X_test,\n",
        "                     test_labels=y_test,\n",
        "                     predictions=None):\n",
        "  plt.figure(figsize=(10, 7))\n",
        "\n",
        "  # plot data in blue\n",
        "  plt.scatter(train_data, train_labels, c=\"b\", s=4, label=\"Training Data\")\n",
        "\n",
        "  # plot test data in red\n",
        "  plt.scatter(test_data, test_labels, c=\"r\", s=4, label=\"Test Data\")\n",
        "\n",
        "  if predictions is not None:\n",
        "    # plot prediction if exist\n",
        "    plt.scatter(test_data, predictions, c=\"g\", s=4, label=\"Predictions\")\n",
        "\n",
        "  plt.legend(prop={\"size\": 14})\n",
        "\n",
        "plot_predictions()"
      ],
      "metadata": {
        "colab": {
          "base_uri": "https://localhost:8080/",
          "height": 587
        },
        "id": "CT8yGr-81XA6",
        "outputId": "83c1ce88-c56b-4bd5-cf72-4c33468ba1f2"
      },
      "execution_count": 5,
      "outputs": [
        {
          "output_type": "display_data",
          "data": {
            "text/plain": [
              "<Figure size 1000x700 with 1 Axes>"
            ],
            "image/png": "[encoded data removed]"
          },
          "metadata": {}
        }
      ]
    },
    {
      "cell_type": "markdown",
      "source": [
        "## 2. Build model\n",
        "Our first PyTorch model\n",
        "\n",
        "What our model does:\n",
        "* Start with random values (weight & bias)\n",
        "* Look at training data and adjust the random values to better represent (or get closer to) the ideal values (the weight & bias values we usd to create the data)\n",
        "\n",
        "How does it do so ?\n",
        "\n",
        "Through two main algorithms:\n",
        "1. Gradient descent\n",
        "2. Backpropagation\n",
        "\n",
        "The code below will trigger the two algorithms for us (basically we write high-level code to trigger them, and PyTorch will do it for us)"
      ],
      "metadata": {
        "id": "ZQ_w5CT45pKl"
      }
    },
    {
      "cell_type": "code",
      "source": [
        "# Create linear regression model class\n",
        "class LinearRegressionModel(nn.Module): # <- almost everything in PyTorch inherits from nn.Module\n",
        "  def __init__(self):\n",
        "    super().__init__()\n",
        "    # initialize params with random value (docs reference: torch.nn.Parameter)\n",
        "    self.weights = nn.Parameter(torch.randn(1,\n",
        "                                            requires_grad=True, # keep track of gradients and updates them through combination of gradient descent and backpropagation (the function behind the scene called torch.autograd)\n",
        "                                            dtype=torch.float # torch default is float32\n",
        "                                            ))\n",
        "    self.bias = nn.Parameter(torch.randn(1,\n",
        "                                         requires_grad=True, # keep track of gradients and updates them through combination of gradient descent and backpropagation (the function behind the scene called torch.autograd)\n",
        "                                         dtype=torch.float # torch default is float32\n",
        "                                         ))\n",
        "\n",
        "  # forward method to define the computation in the model\n",
        "  # forward method adjust weight and bias to match our known parameter w=0.7, b=0.3\n",
        "  # base class for all nn modules, if you subclass it, you should overwrite forward() (docs reference: torch.nn.Module forward() method)\n",
        "  def forward(self, x: torch.Tensor) -> torch.Tensor: # \"x\" is input data\n",
        "    return self.weights * x + self.bias # Linear regression"
      ],
      "metadata": {
        "id": "TkLqwq594KPx"
      },
      "execution_count": 34,
      "outputs": []
    },
    {
      "cell_type": "markdown",
      "source": [
        "## PyTorch model building essentials\n",
        "\n",
        "\n",
        "*   torch.nn - \tContains all of the building blocks for computational graphs (essentially a series of computations executed in a particular way).\n",
        "*   torch.nn.Parameter - Stores tensors that can be used with nn.Module. If requires_grad=True gradients (used for updating model parameters via gradient descent) are calculated automatically, this is often referred to as \"autograd\".\n",
        "*   torch.nn.Module - The base class for all neural network modules, all the building blocks for neural networks are subclasses. If you're building a neural network in PyTorch, your models should subclass nn.Module. Requires a forward() method be implemented.\n",
        "\n",
        "\n",
        "*   torch.optim - Contains various optimization algorithms (these tell the model parameters stored in nn.Parameter how to best change to improve gradient descent and in turn reduce the loss).\n",
        "*   def forward() - All nn.Module subclasses require a forward() method, this defines the computation that will take place on the data passed to the particular nn.Module (e.g. the linear regression formula above).\n",
        "\n",
        "\n"
      ],
      "metadata": {
        "id": "5CZGpe8EruQQ"
      }
    },
    {
      "cell_type": "code",
      "source": [
        "## Create random seed\n",
        "torch.manual_seed(42)\n",
        "\n",
        "# Create an instance of the model (this is a subclass of nn.Module)\n",
        "model_0 = LinearRegressionModel()\n",
        "\n",
        "# Check out params (a parameter is a value that the model sets itself)\n",
        "list(model_0.parameters()), model_0.state_dict()"
      ],
      "metadata": {
        "colab": {
          "base_uri": "https://localhost:8080/"
        },
        "id": "Ugtl7P2Prs4H",
        "outputId": "7defb90d-422c-4e7c-d6ee-fe6699cb3bed"
      },
      "execution_count": 7,
      "outputs": [
        {
          "output_type": "execute_result",
          "data": {
            "text/plain": [
              "([Parameter containing:\n",
              "  tensor([0.3367], requires_grad=True),\n",
              "  Parameter containing:\n",
              "  tensor([0.1288], requires_grad=True)],\n",
              " OrderedDict([('weights', tensor([0.3367])), ('bias', tensor([0.1288]))]))"
            ]
          },
          "metadata": {},
          "execution_count": 7
        }
      ]
    },
    {
      "cell_type": "code",
      "source": [
        "# List named parameters\n",
        "model_0.state_dict()"
      ],
      "metadata": {
        "colab": {
          "base_uri": "https://localhost:8080/"
        },
        "id": "8CQVyJ3Ew3CU",
        "outputId": "3c8e3c5f-f835-447a-b8a9-c23c4eacc4a9"
      },
      "execution_count": 8,
      "outputs": [
        {
          "output_type": "execute_result",
          "data": {
            "text/plain": [
              "OrderedDict([('weights', tensor([0.3367])), ('bias', tensor([0.1288]))])"
            ]
          },
          "metadata": {},
          "execution_count": 8
        }
      ]
    },
    {
      "cell_type": "markdown",
      "source": [
        "## Make prediction using `torch.inference_mode()`\n",
        "To check our model's predictive power, let's see how well it predicts `y_test` based on `X_test`. When we pass data through our model, it's going to run it through the ```forward()``` method\n",
        "\n",
        "\n",
        "\n",
        "\n",
        "\n",
        "\n"
      ],
      "metadata": {
        "id": "rCuHLJUUyFjl"
      }
    },
    {
      "cell_type": "code",
      "source": [
        "# context manager\n",
        "with torch.inference_mode(): # inference mode turns off gradient tracking (similar to torch.no_grad(), but torch.inference_mode() i preferred)\n",
        "  y_preds = model_0(X_test)\n",
        "\n",
        "# with inference mode\n",
        "print(y_preds)\n",
        "# without inference mode\n",
        "print(model_0(X_test))"
      ],
      "metadata": {
        "colab": {
          "base_uri": "https://localhost:8080/"
        },
        "id": "S0Kq8L90xdAV",
        "outputId": "746c9a1a-a106-4bb2-fe11-c9acdcb8484e"
      },
      "execution_count": 9,
      "outputs": [
        {
          "output_type": "stream",
          "name": "stdout",
          "text": [
            "tensor([[0.3982],\n",
            "        [0.4049],\n",
            "        [0.4116],\n",
            "        [0.4184],\n",
            "        [0.4251],\n",
            "        [0.4318],\n",
            "        [0.4386],\n",
            "        [0.4453],\n",
            "        [0.4520],\n",
            "        [0.4588]])\n",
            "tensor([[0.3982],\n",
            "        [0.4049],\n",
            "        [0.4116],\n",
            "        [0.4184],\n",
            "        [0.4251],\n",
            "        [0.4318],\n",
            "        [0.4386],\n",
            "        [0.4453],\n",
            "        [0.4520],\n",
            "        [0.4588]], grad_fn=<AddBackward0>)\n"
          ]
        }
      ]
    },
    {
      "cell_type": "code",
      "source": [
        "plot_predictions(predictions=y_preds)"
      ],
      "metadata": {
        "colab": {
          "base_uri": "https://localhost:8080/",
          "height": 587
        },
        "id": "1zTVTyYL0Tk1",
        "outputId": "9e3e32ff-62b3-4919-b73c-e0d907738756"
      },
      "execution_count": 10,
      "outputs": [
        {
          "output_type": "display_data",
          "data": {
            "text/plain": [
              "<Figure size 1000x700 with 1 Axes>"
            ],
            "image/png": "[encoded data removed]"
          },
          "metadata": {}
        }
      ]
    },
    {
      "cell_type": "markdown",
      "source": [
        "## 3. Train Model\n",
        "\n",
        "The whole idea of training is for a model to move from some *unknown* parameter (these may be random) to some *known* parameters.\n",
        "\n",
        "basically turning poor representation to better representation of the data.\n",
        "\n",
        "one way to measure how poor or how wrong your models prediction is to use loss function.\n",
        "\n",
        "* Note : Loss function may also be called cost function or criterion in other areas\n",
        "\n",
        "Things we need to train:\n",
        "- **Loss function**: Measures how wrong your models predictions (e.g. y_preds) are compared to the truth labels (e.g. y_test). Lower the better.\n",
        "- **Optimizer**: Tells your model how to update its internal parameters to best lower the loss.\n",
        "\n",
        "Mean absolute error (MAE, in PyTorch: torch.nn.L1Loss) measures the absolute difference between two points (predictions and labels) and then takes the mean across all examples.\n",
        "\n",
        "And we'll use SGD, torch.optim.SGD(params, lr) where:\n",
        "\n",
        "* `params` is the target model parameters you'd like to optimize (e.g. the weights and bias values we randomly set before).\n",
        "* `lr` is the learning rate you'd like the optimizer to update the parameters at, higher means the optimizer will try larger updates (these can sometimes be too large and the optimizer will fail to work), lower means the optimizer will try smaller updates (these can sometimes be too small and the optimizer will take too long to find the ideal values). The learning rate is considered a hyperparameter (because it's set by a machine learning engineer). Common starting values for the learning rate are 0.01, 0.001, 0.0001, however, these can also be adjusted over time (this is called learning rate scheduling).\n",
        "\n",
        "Specifically in PyTorch we need:\n",
        "* training loop\n",
        "* testing loop"
      ],
      "metadata": {
        "id": "NzORYD0639ul"
      }
    },
    {
      "cell_type": "code",
      "source": [
        "# Setup a loss function\n",
        "loss_fn = nn.L1Loss()\n",
        "\n",
        "# Setup an optimizer (stochastic gradient descent)\n",
        "optimizer = torch.optim.SGD(params=model_0.parameters(),\n",
        "                            lr=0.01 # lr = learning rate = possibly the most important hyperparameter in ml\n",
        "                            )"
      ],
      "metadata": {
        "id": "i7hjRuPs1FMl"
      },
      "execution_count": 11,
      "outputs": []
    },
    {
      "cell_type": "markdown",
      "source": [
        "## Building a training loop (and a testing loop) in PyTorch\n",
        "\n",
        "A couple of things we need in training loop:\n",
        "0. Loop through the data\n",
        "1. Forward propagation (also called forward pass) - this involves data moving through our model's `forward()` functions to make predictions on the data\n",
        "2. Calculate the loss (compare forward pass predictions to ground truth labels)\n",
        "3. Optimizer zero gradient\n",
        "4. Backpropagation (Loss backward) - move backwards through the network to calculate the gradients of each of the parameters of our model in respect to the loss\n",
        "5. Optimizer step (Gradient descent) - use the optimizer to adjust our model's parameters to try improve the loss"
      ],
      "metadata": {
        "id": "Om1cIsa9waf-"
      }
    },
    {
      "cell_type": "code",
      "source": [],
      "metadata": {
        "id": "1JPPQ9FLzlCK"
      },
      "execution_count": 11,
      "outputs": []
    },
    {
      "cell_type": "code",
      "source": [
        "torch.manual_seed(42) # optimizer step can be quite random depending on model prediction (y_pred)\n",
        "\n",
        "# An epoch is one loop through the data (this is a hyperparameter)\n",
        "epochs = 1000\n",
        "\n",
        "# Track different values\n",
        "epoch_count = []\n",
        "loss_values = []\n",
        "test_loss_values =[]\n",
        "\n",
        "\n",
        "### Training (using training data)\n",
        "\n",
        "#0. Loop through the data\n",
        "for epoch in range(epochs):\n",
        "  # Set the model to training mode\n",
        "  model_0.train() # train mode in PyTorch sets all parameters that require gradients to require gradients\n",
        "\n",
        "\n",
        "  #1. Forward propagation (also called forward pass)\n",
        "  y_pred = model_0(X_train)\n",
        "\n",
        "  #2. Calculate the loss (how wrong our model prediction is)(compare forward pass predictions to ground truth labels)(uses MAE)\n",
        "  loss = loss_fn(y_pred, y_train)\n",
        "\n",
        "  #3. Optimizer zero gradient\n",
        "  optimizer.zero_grad() # start fresh each iteration\n",
        "\n",
        "  #4. Backpropagation (Loss backward)\n",
        "  loss.backward()\n",
        "\n",
        "  #5. Optimizer step (Gradient descent)\n",
        "  # Optimizer step optimize the parameter so that we can reach the point of convergence (where loss = 0 (great prediction))\n",
        "  optimizer.step() # by default how optimizer changes will accumulate through the loop so we have to zero them above in step 3 for the next iteration of the loop\n",
        "                  # may refer to the docs to understand why it accumulates\n",
        "\n",
        "  ### Testing (using testing data)\n",
        "  model_0.eval() # turns off different settings in the model not needing for testing\n",
        "  with torch.inference_mode(): # turns off gradient tracking and couple more things behind the scenes\n",
        "    #1. Forward propagation on test data\n",
        "    test_pred = model_0(X_test)\n",
        "    #2. Calculate the test loss (how wrong our model test prediction is)(compare forward pass predictions to ground truth labels)(uses MAE)\n",
        "    test_loss = loss_fn(test_pred, y_test)\n",
        "  if epoch % 10 == 0:\n",
        "    epoch_count.append(epoch)\n",
        "    loss_values.append(loss)\n",
        "    test_loss_values.append(test_loss)\n",
        "    print(f\"Epoch: {epoch} | Loss: {loss} | Test loss: {test_loss}\")\n",
        "    print(model_0.state_dict())"
      ],
      "metadata": {
        "colab": {
          "base_uri": "https://localhost:8080/"
        },
        "id": "QS3g9SYjy-GU",
        "outputId": "90e149d4-19ed-483a-d085-ff47a5d4144d"
      },
      "execution_count": 12,
      "outputs": [
        {
          "output_type": "stream",
          "name": "stdout",
          "text": [
            "Epoch: 0 | Loss: 0.31288138031959534 | Test loss: 0.48106518387794495\n",
            "OrderedDict([('weights', tensor([0.3406])), ('bias', tensor([0.1388]))])\n",
            "Epoch: 10 | Loss: 0.1976713240146637 | Test loss: 0.3463551998138428\n",
            "OrderedDict([('weights', tensor([0.3796])), ('bias', tensor([0.2388]))])\n",
            "Epoch: 20 | Loss: 0.08908725529909134 | Test loss: 0.21729660034179688\n",
            "OrderedDict([('weights', tensor([0.4184])), ('bias', tensor([0.3333]))])\n",
            "Epoch: 30 | Loss: 0.053148526698350906 | Test loss: 0.14464017748832703\n",
            "OrderedDict([('weights', tensor([0.4512])), ('bias', tensor([0.3768]))])\n",
            "Epoch: 40 | Loss: 0.04543796554207802 | Test loss: 0.11360953003168106\n",
            "OrderedDict([('weights', tensor([0.4748])), ('bias', tensor([0.3868]))])\n",
            "Epoch: 50 | Loss: 0.04167863354086876 | Test loss: 0.09919948130846024\n",
            "OrderedDict([('weights', tensor([0.4938])), ('bias', tensor([0.3843]))])\n",
            "Epoch: 60 | Loss: 0.03818932920694351 | Test loss: 0.08886633068323135\n",
            "OrderedDict([('weights', tensor([0.5116])), ('bias', tensor([0.3788]))])\n",
            "Epoch: 70 | Loss: 0.03476089984178543 | Test loss: 0.0805937647819519\n",
            "OrderedDict([('weights', tensor([0.5288])), ('bias', tensor([0.3718]))])\n",
            "Epoch: 80 | Loss: 0.03132382780313492 | Test loss: 0.07232122868299484\n",
            "OrderedDict([('weights', tensor([0.5459])), ('bias', tensor([0.3648]))])\n",
            "Epoch: 90 | Loss: 0.02788739837706089 | Test loss: 0.06473556160926819\n",
            "OrderedDict([('weights', tensor([0.5629])), ('bias', tensor([0.3573]))])\n",
            "Epoch: 100 | Loss: 0.024458957836031914 | Test loss: 0.05646304413676262\n",
            "OrderedDict([('weights', tensor([0.5800])), ('bias', tensor([0.3503]))])\n",
            "Epoch: 110 | Loss: 0.021020207554101944 | Test loss: 0.04819049686193466\n",
            "OrderedDict([('weights', tensor([0.5972])), ('bias', tensor([0.3433]))])\n",
            "Epoch: 120 | Loss: 0.01758546568453312 | Test loss: 0.04060482233762741\n",
            "OrderedDict([('weights', tensor([0.6141])), ('bias', tensor([0.3358]))])\n",
            "Epoch: 130 | Loss: 0.014155393466353416 | Test loss: 0.03233227878808975\n",
            "OrderedDict([('weights', tensor([0.6313])), ('bias', tensor([0.3288]))])\n",
            "Epoch: 140 | Loss: 0.010716589167714119 | Test loss: 0.024059748277068138\n",
            "OrderedDict([('weights', tensor([0.6485])), ('bias', tensor([0.3218]))])\n",
            "Epoch: 150 | Loss: 0.0072835334576666355 | Test loss: 0.016474086791276932\n",
            "OrderedDict([('weights', tensor([0.6654])), ('bias', tensor([0.3143]))])\n",
            "Epoch: 160 | Loss: 0.0038517764769494534 | Test loss: 0.008201557211577892\n",
            "OrderedDict([('weights', tensor([0.6826])), ('bias', tensor([0.3073]))])\n",
            "Epoch: 170 | Loss: 0.008932482451200485 | Test loss: 0.005023092031478882\n",
            "OrderedDict([('weights', tensor([0.6951])), ('bias', tensor([0.2993]))])\n",
            "Epoch: 180 | Loss: 0.008932482451200485 | Test loss: 0.005023092031478882\n",
            "OrderedDict([('weights', tensor([0.6951])), ('bias', tensor([0.2993]))])\n",
            "Epoch: 190 | Loss: 0.008932482451200485 | Test loss: 0.005023092031478882\n",
            "OrderedDict([('weights', tensor([0.6951])), ('bias', tensor([0.2993]))])\n",
            "Epoch: 200 | Loss: 0.008932482451200485 | Test loss: 0.005023092031478882\n",
            "OrderedDict([('weights', tensor([0.6951])), ('bias', tensor([0.2993]))])\n",
            "Epoch: 210 | Loss: 0.008932482451200485 | Test loss: 0.005023092031478882\n",
            "OrderedDict([('weights', tensor([0.6951])), ('bias', tensor([0.2993]))])\n",
            "Epoch: 220 | Loss: 0.008932482451200485 | Test loss: 0.005023092031478882\n",
            "OrderedDict([('weights', tensor([0.6951])), ('bias', tensor([0.2993]))])\n",
            "Epoch: 230 | Loss: 0.008932482451200485 | Test loss: 0.005023092031478882\n",
            "OrderedDict([('weights', tensor([0.6951])), ('bias', tensor([0.2993]))])\n",
            "Epoch: 240 | Loss: 0.008932482451200485 | Test loss: 0.005023092031478882\n",
            "OrderedDict([('weights', tensor([0.6951])), ('bias', tensor([0.2993]))])\n",
            "Epoch: 250 | Loss: 0.008932482451200485 | Test loss: 0.005023092031478882\n",
            "OrderedDict([('weights', tensor([0.6951])), ('bias', tensor([0.2993]))])\n",
            "Epoch: 260 | Loss: 0.008932482451200485 | Test loss: 0.005023092031478882\n",
            "OrderedDict([('weights', tensor([0.6951])), ('bias', tensor([0.2993]))])\n",
            "Epoch: 270 | Loss: 0.008932482451200485 | Test loss: 0.005023092031478882\n",
            "OrderedDict([('weights', tensor([0.6951])), ('bias', tensor([0.2993]))])\n",
            "Epoch: 280 | Loss: 0.008932482451200485 | Test loss: 0.005023092031478882\n",
            "OrderedDict([('weights', tensor([0.6951])), ('bias', tensor([0.2993]))])\n",
            "Epoch: 290 | Loss: 0.008932482451200485 | Test loss: 0.005023092031478882\n",
            "OrderedDict([('weights', tensor([0.6951])), ('bias', tensor([0.2993]))])\n",
            "Epoch: 300 | Loss: 0.008932482451200485 | Test loss: 0.005023092031478882\n",
            "OrderedDict([('weights', tensor([0.6951])), ('bias', tensor([0.2993]))])\n",
            "Epoch: 310 | Loss: 0.008932482451200485 | Test loss: 0.005023092031478882\n",
            "OrderedDict([('weights', tensor([0.6951])), ('bias', tensor([0.2993]))])\n",
            "Epoch: 320 | Loss: 0.008932482451200485 | Test loss: 0.005023092031478882\n",
            "OrderedDict([('weights', tensor([0.6951])), ('bias', tensor([0.2993]))])\n",
            "Epoch: 330 | Loss: 0.008932482451200485 | Test loss: 0.005023092031478882\n",
            "OrderedDict([('weights', tensor([0.6951])), ('bias', tensor([0.2993]))])\n",
            "Epoch: 340 | Loss: 0.008932482451200485 | Test loss: 0.005023092031478882\n",
            "OrderedDict([('weights', tensor([0.6951])), ('bias', tensor([0.2993]))])\n",
            "Epoch: 350 | Loss: 0.008932482451200485 | Test loss: 0.005023092031478882\n",
            "OrderedDict([('weights', tensor([0.6951])), ('bias', tensor([0.2993]))])\n",
            "Epoch: 360 | Loss: 0.008932482451200485 | Test loss: 0.005023092031478882\n",
            "OrderedDict([('weights', tensor([0.6951])), ('bias', tensor([0.2993]))])\n",
            "Epoch: 370 | Loss: 0.008932482451200485 | Test loss: 0.005023092031478882\n",
            "OrderedDict([('weights', tensor([0.6951])), ('bias', tensor([0.2993]))])\n",
            "Epoch: 380 | Loss: 0.008932482451200485 | Test loss: 0.005023092031478882\n",
            "OrderedDict([('weights', tensor([0.6951])), ('bias', tensor([0.2993]))])\n",
            "Epoch: 390 | Loss: 0.008932482451200485 | Test loss: 0.005023092031478882\n",
            "OrderedDict([('weights', tensor([0.6951])), ('bias', tensor([0.2993]))])\n",
            "Epoch: 400 | Loss: 0.008932482451200485 | Test loss: 0.005023092031478882\n",
            "OrderedDict([('weights', tensor([0.6951])), ('bias', tensor([0.2993]))])\n",
            "Epoch: 410 | Loss: 0.008932482451200485 | Test loss: 0.005023092031478882\n",
            "OrderedDict([('weights', tensor([0.6951])), ('bias', tensor([0.2993]))])\n",
            "Epoch: 420 | Loss: 0.008932482451200485 | Test loss: 0.005023092031478882\n",
            "OrderedDict([('weights', tensor([0.6951])), ('bias', tensor([0.2993]))])\n",
            "Epoch: 430 | Loss: 0.008932482451200485 | Test loss: 0.005023092031478882\n",
            "OrderedDict([('weights', tensor([0.6951])), ('bias', tensor([0.2993]))])\n",
            "Epoch: 440 | Loss: 0.008932482451200485 | Test loss: 0.005023092031478882\n",
            "OrderedDict([('weights', tensor([0.6951])), ('bias', tensor([0.2993]))])\n",
            "Epoch: 450 | Loss: 0.008932482451200485 | Test loss: 0.005023092031478882\n",
            "OrderedDict([('weights', tensor([0.6951])), ('bias', tensor([0.2993]))])\n",
            "Epoch: 460 | Loss: 0.008932482451200485 | Test loss: 0.005023092031478882\n",
            "OrderedDict([('weights', tensor([0.6951])), ('bias', tensor([0.2993]))])\n",
            "Epoch: 470 | Loss: 0.008932482451200485 | Test loss: 0.005023092031478882\n",
            "OrderedDict([('weights', tensor([0.6951])), ('bias', tensor([0.2993]))])\n",
            "Epoch: 480 | Loss: 0.008932482451200485 | Test loss: 0.005023092031478882\n",
            "OrderedDict([('weights', tensor([0.6951])), ('bias', tensor([0.2993]))])\n",
            "Epoch: 490 | Loss: 0.008932482451200485 | Test loss: 0.005023092031478882\n",
            "OrderedDict([('weights', tensor([0.6951])), ('bias', tensor([0.2993]))])\n",
            "Epoch: 500 | Loss: 0.008932482451200485 | Test loss: 0.005023092031478882\n",
            "OrderedDict([('weights', tensor([0.6951])), ('bias', tensor([0.2993]))])\n",
            "Epoch: 510 | Loss: 0.008932482451200485 | Test loss: 0.005023092031478882\n",
            "OrderedDict([('weights', tensor([0.6951])), ('bias', tensor([0.2993]))])\n",
            "Epoch: 520 | Loss: 0.008932482451200485 | Test loss: 0.005023092031478882\n",
            "OrderedDict([('weights', tensor([0.6951])), ('bias', tensor([0.2993]))])\n",
            "Epoch: 530 | Loss: 0.008932482451200485 | Test loss: 0.005023092031478882\n",
            "OrderedDict([('weights', tensor([0.6951])), ('bias', tensor([0.2993]))])\n",
            "Epoch: 540 | Loss: 0.008932482451200485 | Test loss: 0.005023092031478882\n",
            "OrderedDict([('weights', tensor([0.6951])), ('bias', tensor([0.2993]))])\n",
            "Epoch: 550 | Loss: 0.008932482451200485 | Test loss: 0.005023092031478882\n",
            "OrderedDict([('weights', tensor([0.6951])), ('bias', tensor([0.2993]))])\n",
            "Epoch: 560 | Loss: 0.008932482451200485 | Test loss: 0.005023092031478882\n",
            "OrderedDict([('weights', tensor([0.6951])), ('bias', tensor([0.2993]))])\n",
            "Epoch: 570 | Loss: 0.008932482451200485 | Test loss: 0.005023092031478882\n",
            "OrderedDict([('weights', tensor([0.6951])), ('bias', tensor([0.2993]))])\n",
            "Epoch: 580 | Loss: 0.008932482451200485 | Test loss: 0.005023092031478882\n",
            "OrderedDict([('weights', tensor([0.6951])), ('bias', tensor([0.2993]))])\n",
            "Epoch: 590 | Loss: 0.008932482451200485 | Test loss: 0.005023092031478882\n",
            "OrderedDict([('weights', tensor([0.6951])), ('bias', tensor([0.2993]))])\n",
            "Epoch: 600 | Loss: 0.008932482451200485 | Test loss: 0.005023092031478882\n",
            "OrderedDict([('weights', tensor([0.6951])), ('bias', tensor([0.2993]))])\n",
            "Epoch: 610 | Loss: 0.008932482451200485 | Test loss: 0.005023092031478882\n",
            "OrderedDict([('weights', tensor([0.6951])), ('bias', tensor([0.2993]))])\n",
            "Epoch: 620 | Loss: 0.008932482451200485 | Test loss: 0.005023092031478882\n",
            "OrderedDict([('weights', tensor([0.6951])), ('bias', tensor([0.2993]))])\n",
            "Epoch: 630 | Loss: 0.008932482451200485 | Test loss: 0.005023092031478882\n",
            "OrderedDict([('weights', tensor([0.6951])), ('bias', tensor([0.2993]))])\n",
            "Epoch: 640 | Loss: 0.008932482451200485 | Test loss: 0.005023092031478882\n",
            "OrderedDict([('weights', tensor([0.6951])), ('bias', tensor([0.2993]))])\n",
            "Epoch: 650 | Loss: 0.008932482451200485 | Test loss: 0.005023092031478882\n",
            "OrderedDict([('weights', tensor([0.6951])), ('bias', tensor([0.2993]))])\n",
            "Epoch: 660 | Loss: 0.008932482451200485 | Test loss: 0.005023092031478882\n",
            "OrderedDict([('weights', tensor([0.6951])), ('bias', tensor([0.2993]))])\n",
            "Epoch: 670 | Loss: 0.008932482451200485 | Test loss: 0.005023092031478882\n",
            "OrderedDict([('weights', tensor([0.6951])), ('bias', tensor([0.2993]))])\n",
            "Epoch: 680 | Loss: 0.008932482451200485 | Test loss: 0.005023092031478882\n",
            "OrderedDict([('weights', tensor([0.6951])), ('bias', tensor([0.2993]))])\n",
            "Epoch: 690 | Loss: 0.008932482451200485 | Test loss: 0.005023092031478882\n",
            "OrderedDict([('weights', tensor([0.6951])), ('bias', tensor([0.2993]))])\n",
            "Epoch: 700 | Loss: 0.008932482451200485 | Test loss: 0.005023092031478882\n",
            "OrderedDict([('weights', tensor([0.6951])), ('bias', tensor([0.2993]))])\n",
            "Epoch: 710 | Loss: 0.008932482451200485 | Test loss: 0.005023092031478882\n",
            "OrderedDict([('weights', tensor([0.6951])), ('bias', tensor([0.2993]))])\n",
            "Epoch: 720 | Loss: 0.008932482451200485 | Test loss: 0.005023092031478882\n",
            "OrderedDict([('weights', tensor([0.6951])), ('bias', tensor([0.2993]))])\n",
            "Epoch: 730 | Loss: 0.008932482451200485 | Test loss: 0.005023092031478882\n",
            "OrderedDict([('weights', tensor([0.6951])), ('bias', tensor([0.2993]))])\n",
            "Epoch: 740 | Loss: 0.008932482451200485 | Test loss: 0.005023092031478882\n",
            "OrderedDict([('weights', tensor([0.6951])), ('bias', tensor([0.2993]))])\n",
            "Epoch: 750 | Loss: 0.008932482451200485 | Test loss: 0.005023092031478882\n",
            "OrderedDict([('weights', tensor([0.6951])), ('bias', tensor([0.2993]))])\n",
            "Epoch: 760 | Loss: 0.008932482451200485 | Test loss: 0.005023092031478882\n",
            "OrderedDict([('weights', tensor([0.6951])), ('bias', tensor([0.2993]))])\n",
            "Epoch: 770 | Loss: 0.008932482451200485 | Test loss: 0.005023092031478882\n",
            "OrderedDict([('weights', tensor([0.6951])), ('bias', tensor([0.2993]))])\n",
            "Epoch: 780 | Loss: 0.008932482451200485 | Test loss: 0.005023092031478882\n",
            "OrderedDict([('weights', tensor([0.6951])), ('bias', tensor([0.2993]))])\n",
            "Epoch: 790 | Loss: 0.008932482451200485 | Test loss: 0.005023092031478882\n",
            "OrderedDict([('weights', tensor([0.6951])), ('bias', tensor([0.2993]))])\n",
            "Epoch: 800 | Loss: 0.008932482451200485 | Test loss: 0.005023092031478882\n",
            "OrderedDict([('weights', tensor([0.6951])), ('bias', tensor([0.2993]))])\n",
            "Epoch: 810 | Loss: 0.008932482451200485 | Test loss: 0.005023092031478882\n",
            "OrderedDict([('weights', tensor([0.6951])), ('bias', tensor([0.2993]))])\n",
            "Epoch: 820 | Loss: 0.008932482451200485 | Test loss: 0.005023092031478882\n",
            "OrderedDict([('weights', tensor([0.6951])), ('bias', tensor([0.2993]))])\n",
            "Epoch: 830 | Loss: 0.008932482451200485 | Test loss: 0.005023092031478882\n",
            "OrderedDict([('weights', tensor([0.6951])), ('bias', tensor([0.2993]))])\n",
            "Epoch: 840 | Loss: 0.008932482451200485 | Test loss: 0.005023092031478882\n",
            "OrderedDict([('weights', tensor([0.6951])), ('bias', tensor([0.2993]))])\n",
            "Epoch: 850 | Loss: 0.008932482451200485 | Test loss: 0.005023092031478882\n",
            "OrderedDict([('weights', tensor([0.6951])), ('bias', tensor([0.2993]))])\n",
            "Epoch: 860 | Loss: 0.008932482451200485 | Test loss: 0.005023092031478882\n",
            "OrderedDict([('weights', tensor([0.6951])), ('bias', tensor([0.2993]))])\n",
            "Epoch: 870 | Loss: 0.008932482451200485 | Test loss: 0.005023092031478882\n",
            "OrderedDict([('weights', tensor([0.6951])), ('bias', tensor([0.2993]))])\n",
            "Epoch: 880 | Loss: 0.008932482451200485 | Test loss: 0.005023092031478882\n",
            "OrderedDict([('weights', tensor([0.6951])), ('bias', tensor([0.2993]))])\n",
            "Epoch: 890 | Loss: 0.008932482451200485 | Test loss: 0.005023092031478882\n",
            "OrderedDict([('weights', tensor([0.6951])), ('bias', tensor([0.2993]))])\n",
            "Epoch: 900 | Loss: 0.008932482451200485 | Test loss: 0.005023092031478882\n",
            "OrderedDict([('weights', tensor([0.6951])), ('bias', tensor([0.2993]))])\n",
            "Epoch: 910 | Loss: 0.008932482451200485 | Test loss: 0.005023092031478882\n",
            "OrderedDict([('weights', tensor([0.6951])), ('bias', tensor([0.2993]))])\n",
            "Epoch: 920 | Loss: 0.008932482451200485 | Test loss: 0.005023092031478882\n",
            "OrderedDict([('weights', tensor([0.6951])), ('bias', tensor([0.2993]))])\n",
            "Epoch: 930 | Loss: 0.008932482451200485 | Test loss: 0.005023092031478882\n",
            "OrderedDict([('weights', tensor([0.6951])), ('bias', tensor([0.2993]))])\n",
            "Epoch: 940 | Loss: 0.008932482451200485 | Test loss: 0.005023092031478882\n",
            "OrderedDict([('weights', tensor([0.6951])), ('bias', tensor([0.2993]))])\n",
            "Epoch: 950 | Loss: 0.008932482451200485 | Test loss: 0.005023092031478882\n",
            "OrderedDict([('weights', tensor([0.6951])), ('bias', tensor([0.2993]))])\n",
            "Epoch: 960 | Loss: 0.008932482451200485 | Test loss: 0.005023092031478882\n",
            "OrderedDict([('weights', tensor([0.6951])), ('bias', tensor([0.2993]))])\n",
            "Epoch: 970 | Loss: 0.008932482451200485 | Test loss: 0.005023092031478882\n",
            "OrderedDict([('weights', tensor([0.6951])), ('bias', tensor([0.2993]))])\n",
            "Epoch: 980 | Loss: 0.008932482451200485 | Test loss: 0.005023092031478882\n",
            "OrderedDict([('weights', tensor([0.6951])), ('bias', tensor([0.2993]))])\n",
            "Epoch: 990 | Loss: 0.008932482451200485 | Test loss: 0.005023092031478882\n",
            "OrderedDict([('weights', tensor([0.6951])), ('bias', tensor([0.2993]))])\n"
          ]
        }
      ]
    },
    {
      "cell_type": "code",
      "source": [
        "model_0.state_dict()"
      ],
      "metadata": {
        "colab": {
          "base_uri": "https://localhost:8080/"
        },
        "id": "rUcb6e5rA0Ir",
        "outputId": "a04a0a89-32c3-4354-ecae-ec32185a6998"
      },
      "execution_count": 13,
      "outputs": [
        {
          "output_type": "execute_result",
          "data": {
            "text/plain": [
              "OrderedDict([('weights', tensor([0.6990])), ('bias', tensor([0.3093]))])"
            ]
          },
          "metadata": {},
          "execution_count": 13
        }
      ]
    },
    {
      "cell_type": "code",
      "source": [
        "# Plot the loss curves\n",
        "plt.plot(epoch_count, np.array(torch.tensor(loss_values).numpy()), label=\"Train Loss\")\n",
        "plt.plot(epoch_count, test_loss_values, label=\"Test Loss\")\n",
        "plt.title(\"Training and test loss curves\")\n",
        "plt.ylabel(\"Loss\")\n",
        "plt.xlabel(\"Epochs\")\n",
        "plt.legend()"
      ],
      "metadata": {
        "colab": {
          "base_uri": "https://localhost:8080/",
          "height": 489
        },
        "id": "QblsMVHhxjb_",
        "outputId": "3e29553d-16f6-4b8a-a093-5a80fd300a46"
      },
      "execution_count": 14,
      "outputs": [
        {
          "output_type": "execute_result",
          "data": {
            "text/plain": [
              "<matplotlib.legend.Legend at 0x7dc018d74a90>"
            ]
          },
          "metadata": {},
          "execution_count": 14
        },
        {
          "output_type": "display_data",
          "data": {
            "text/plain": [
              "<Figure size 640x480 with 1 Axes>"
            ],
            "image/png": "[encoded data removed]"
          },
          "metadata": {}
        }
      ]
    },
    {
      "cell_type": "code",
      "source": [
        "with torch.inference_mode():\n",
        "  y_preds_new = model_0(X_test)"
      ],
      "metadata": {
        "id": "O-BV3GZVG4qU"
      },
      "execution_count": 15,
      "outputs": []
    },
    {
      "cell_type": "code",
      "source": [
        "plot_predictions(predictions=y_preds_new)"
      ],
      "metadata": {
        "colab": {
          "base_uri": "https://localhost:8080/",
          "height": 587
        },
        "id": "jcdFewjHG9Ns",
        "outputId": "8d4a8b82-1a5d-4cc5-c50b-051ec1a703a4"
      },
      "execution_count": 16,
      "outputs": [
        {
          "output_type": "display_data",
          "data": {
            "text/plain": [
              "<Figure size 1000x700 with 1 Axes>"
            ],
            "image/png": "[encoded data removed]"
          },
          "metadata": {}
        }
      ]
    },
    {
      "cell_type": "markdown",
      "source": [
        "## Saving Model in PyTorch\n",
        "\n",
        "There are three main methods to save and load models\n",
        "\n",
        "1. `torch.save()` - Saves a serialized object to disk using Python's pickle utility. Models, tensors and various other Python objects like dictionaries can be saved using torch.save.\n",
        "2. `torch.load()` - Uses pickle's unpickling features to deserialize and load pickled Python object files (like models, tensors or dictionaries) into memory. You can also set which device to load the object to (CPU, GPU etc).\n",
        "3. `torch.nn.Module.load_state_dict()` - Loads a model's parameter dictionary (model.state_dict()) using a saved state_dict() object."
      ],
      "metadata": {
        "id": "8py2WT0N1VIY"
      }
    },
    {
      "cell_type": "code",
      "source": [
        "# Saving our PyTorch model\n",
        "from pathlib import Path\n",
        "\n",
        "# 1. Create models directory\n",
        "MODEL_PATH = Path(\"models\")\n",
        "MODEL_PATH.mkdir(parents=True, exist_ok=True)\n",
        "\n",
        "# 2. Create model save path\n",
        "MODEL_NAME = \"01_pytorch_workflow_model_0.pth\" # pth is pytorch file naming convention sometimes others uses .pt\n",
        "MODEL_SAVE_PATH = MODEL_PATH / MODEL_NAME\n",
        "\n",
        "# 3. Save model state_dict (recommended)\n",
        "torch.save(obj=model_0.state_dict(), f=MODEL_SAVE_PATH)"
      ],
      "metadata": {
        "id": "k0uhMd5LKpM5"
      },
      "execution_count": 17,
      "outputs": []
    },
    {
      "cell_type": "code",
      "source": [
        "!ls -l models"
      ],
      "metadata": {
        "colab": {
          "base_uri": "https://localhost:8080/"
        },
        "id": "odelvg3e4eCt",
        "outputId": "2cb9cbd8-ba75-4fde-c137-42275181e47d"
      },
      "execution_count": 18,
      "outputs": [
        {
          "output_type": "stream",
          "name": "stdout",
          "text": [
            "total 4\n",
            "-rw-r--r-- 1 root root 1680 Sep  1 12:18 01_pytorch_workflow_model_0.pth\n"
          ]
        }
      ]
    },
    {
      "cell_type": "markdown",
      "source": [
        "## Loading a PyTorch Model"
      ],
      "metadata": {
        "id": "inFNP1eY5Z0_"
      }
    },
    {
      "cell_type": "code",
      "source": [
        "# To load a saved state_dict we have to instantiate a new instance of our model class\n",
        "loaded_model_0 = LinearRegressionModel()\n",
        "\n",
        "# Load the saved state_dict of model_0 (this will update the new instance with updated parameters)\n",
        "loaded_model_0.load_state_dict(torch.load(f=MODEL_SAVE_PATH))"
      ],
      "metadata": {
        "colab": {
          "base_uri": "https://localhost:8080/"
        },
        "id": "sH1XBbob4u5W",
        "outputId": "251f19bc-5361-4e50-abfe-95996733758c"
      },
      "execution_count": 19,
      "outputs": [
        {
          "output_type": "stream",
          "name": "stderr",
          "text": [
            "<ipython-input-19-71edbbd0bd53>:5: FutureWarning: You are using `torch.load` with `weights_only=False` (the current default value), which uses the default pickle module implicitly. It is possible to construct malicious pickle data which will execute arbitrary code during unpickling (See https://github.com/pytorch/pytorch/blob/main/SECURITY.md#untrusted-models for more details). In a future release, the default value for `weights_only` will be flipped to `True`. This limits the functions that could be executed during unpickling. Arbitrary objects will no longer be allowed to be loaded via this mode unless they are explicitly allowlisted by the user via `torch.serialization.add_safe_globals`. We recommend you start setting `weights_only=True` for any use case where you don't have full control of the loaded file. Please open an issue on GitHub for any issues related to this experimental feature.\n",
            "  loaded_model_0.load_state_dict(torch.load(f=MODEL_SAVE_PATH))\n"
          ]
        },
        {
          "output_type": "execute_result",
          "data": {
            "text/plain": [
              "<All keys matched successfully>"
            ]
          },
          "metadata": {},
          "execution_count": 19
        }
      ]
    },
    {
      "cell_type": "code",
      "source": [
        "loaded_model_0.state_dict()"
      ],
      "metadata": {
        "colab": {
          "base_uri": "https://localhost:8080/"
        },
        "id": "VFIz-SmD60MJ",
        "outputId": "a13cec31-dff6-4a48-f6d8-a538098ad599"
      },
      "execution_count": 20,
      "outputs": [
        {
          "output_type": "execute_result",
          "data": {
            "text/plain": [
              "OrderedDict([('weights', tensor([0.6990])), ('bias', tensor([0.3093]))])"
            ]
          },
          "metadata": {},
          "execution_count": 20
        }
      ]
    },
    {
      "cell_type": "code",
      "source": [
        "# Make some prediction with our loaded model\n",
        "loaded_model_0.eval()\n",
        "with torch.inference_mode():\n",
        "  loaded_model_preds = loaded_model_0(X_test)\n",
        "\n",
        "loaded_model_preds"
      ],
      "metadata": {
        "colab": {
          "base_uri": "https://localhost:8080/"
        },
        "id": "N3rvJKBS66ot",
        "outputId": "8c82d279-2974-4efe-d826-ca89fdc2d9d3"
      },
      "execution_count": 21,
      "outputs": [
        {
          "output_type": "execute_result",
          "data": {
            "text/plain": [
              "tensor([[0.8685],\n",
              "        [0.8825],\n",
              "        [0.8965],\n",
              "        [0.9105],\n",
              "        [0.9245],\n",
              "        [0.9384],\n",
              "        [0.9524],\n",
              "        [0.9664],\n",
              "        [0.9804],\n",
              "        [0.9944]])"
            ]
          },
          "metadata": {},
          "execution_count": 21
        }
      ]
    },
    {
      "cell_type": "code",
      "source": [
        "model_0.eval()\n",
        "with torch.inference_mode():\n",
        "  y_preds = model_0(X_test)\n",
        "y_preds"
      ],
      "metadata": {
        "colab": {
          "base_uri": "https://localhost:8080/"
        },
        "id": "gcZ3HpH77gco",
        "outputId": "4d675b4e-3902-4ab9-ff6c-fc5709e39f47"
      },
      "execution_count": 22,
      "outputs": [
        {
          "output_type": "execute_result",
          "data": {
            "text/plain": [
              "tensor([[0.8685],\n",
              "        [0.8825],\n",
              "        [0.8965],\n",
              "        [0.9105],\n",
              "        [0.9245],\n",
              "        [0.9384],\n",
              "        [0.9524],\n",
              "        [0.9664],\n",
              "        [0.9804],\n",
              "        [0.9944]])"
            ]
          },
          "metadata": {},
          "execution_count": 22
        }
      ]
    },
    {
      "cell_type": "markdown",
      "source": [
        "## Exercise (T4 Gpu)"
      ],
      "metadata": {
        "id": "xbM-yeu78zfy"
      }
    },
    {
      "cell_type": "code",
      "source": [
        "# create *known* parameter\n",
        "weight_exercise = 0.3\n",
        "bias_exercise = 0.9\n",
        "\n",
        "start_exercise = 0\n",
        "end_exercise = 1\n",
        "step_exercise = 0.01\n",
        "# Note: X capital represent matrix or tensor, x lowercase represent vector\n",
        "X_exercise = torch.arange(start_exercise, end_exercise, step_exercise).unsqueeze(dim=1)\n",
        "y_exercise = weight_exercise * X_exercise + bias_exercise # Linear regression\n",
        "\n",
        "len(X_exercise)"
      ],
      "metadata": {
        "colab": {
          "base_uri": "https://localhost:8080/"
        },
        "id": "Y7IHVacW78d4",
        "outputId": "e369c60d-547b-44fb-8a2d-1908770db010"
      },
      "execution_count": 7,
      "outputs": [
        {
          "output_type": "execute_result",
          "data": {
            "text/plain": [
              "100"
            ]
          },
          "metadata": {},
          "execution_count": 7
        }
      ]
    },
    {
      "cell_type": "code",
      "source": [
        "# Create a train/test split\n",
        "train_split_exercise = int(0.8 * len(X_exercise)) # split 80%\n",
        "X_train_exercise, y_train_exercise = X_exercise[:train_split_exercise].to(\"cuda\"), y_exercise[:train_split_exercise].to(\"cuda\")\n",
        "X_test_exercise, y_test_exercise = X_exercise[train_split_exercise:].to(\"cuda\"), y_exercise[train_split_exercise:].to(\"cuda\")\n",
        "X_test_exercise.device"
      ],
      "metadata": {
        "colab": {
          "base_uri": "https://localhost:8080/"
        },
        "id": "ri_ckMro9MNv",
        "outputId": "b51ea0ce-28d1-4d15-c2e3-7d8c1a3ed717"
      },
      "execution_count": 8,
      "outputs": [
        {
          "output_type": "execute_result",
          "data": {
            "text/plain": [
              "device(type='cuda', index=0)"
            ]
          },
          "metadata": {},
          "execution_count": 8
        }
      ]
    },
    {
      "cell_type": "code",
      "source": [
        "# Create linear regression model class\n",
        "class LinearRegressionModelV2(nn.Module): # <- almost everything in PyTorch inherits from nn.Module\n",
        "  def __init__(self):\n",
        "    super().__init__()\n",
        "    # Use nn.Linear() for creating the model parameters\n",
        "    self.linear_layer = nn.Linear(in_features=1, out_features=1) # size of input and size of output in this case size is 1\n",
        "\n",
        "  # forward method to define the computation in the model\n",
        "  # forward method adjust weight and bias to match our known parameter w=0.7, b=0.3\n",
        "  # base class for all nn modules, if you subclass it, you should overwrite forward() (docs reference: torch.nn.Module forward() method)\n",
        "  def forward(self, x: torch.Tensor) -> torch.Tensor: # \"x\" is input data\n",
        "    return self.linear_layer(x) # Linear regression"
      ],
      "metadata": {
        "id": "zD3qNie6o5-y"
      },
      "execution_count": 9,
      "outputs": []
    },
    {
      "cell_type": "code",
      "source": [
        "## Create random seed\n",
        "torch.manual_seed(52)\n",
        "\n",
        "# Create an instance of the model (this is a subclass of nn.Module)\n",
        "model_0_exercise = LinearRegressionModelV2().to(\"cuda\")\n",
        "next(model_0_exercise.parameters()).device"
      ],
      "metadata": {
        "colab": {
          "base_uri": "https://localhost:8080/"
        },
        "id": "bHyNJJf_9_oy",
        "outputId": "c393803e-793d-4b4a-87a5-735258e048f8"
      },
      "execution_count": 10,
      "outputs": [
        {
          "output_type": "execute_result",
          "data": {
            "text/plain": [
              "device(type='cuda', index=0)"
            ]
          },
          "metadata": {},
          "execution_count": 10
        }
      ]
    },
    {
      "cell_type": "code",
      "source": [
        "def plot_predictions_exercise(train_data=X_train_exercise.cpu(),\n",
        "                     train_labels=y_train_exercise.cpu(),\n",
        "                     test_data=X_test_exercise.cpu(),\n",
        "                     test_labels=y_test_exercise.cpu(),\n",
        "                     predictions=None):\n",
        "  plt.figure(figsize=(10, 7))\n",
        "\n",
        "  # plot data in blue\n",
        "  plt.scatter(train_data, train_labels, c=\"b\", s=4, label=\"Training Data\")\n",
        "\n",
        "  # plot test data in red\n",
        "  plt.scatter(test_data, test_labels, c=\"r\", s=4, label=\"Test Data\")\n",
        "\n",
        "  if predictions is not None:\n",
        "    # plot prediction if exist\n",
        "    plt.scatter(test_data, predictions, c=\"g\", s=4, label=\"Predictions\")\n",
        "\n",
        "  plt.legend(prop={\"size\": 14})\n",
        "\n",
        "plot_predictions_exercise()"
      ],
      "metadata": {
        "colab": {
          "base_uri": "https://localhost:8080/",
          "height": 580
        },
        "id": "ejAxrUNb-5ab",
        "outputId": "3c4dded2-d9a5-42f2-e130-767de541c8ce"
      },
      "execution_count": 11,
      "outputs": [
        {
          "output_type": "display_data",
          "data": {
            "text/plain": [
              "<Figure size 1000x700 with 1 Axes>"
            ],
            "image/png": "[encoded data removed]"
          },
          "metadata": {}
        }
      ]
    },
    {
      "cell_type": "code",
      "source": [
        "# Setup a loss function\n",
        "loss_fn_exercise = nn.L1Loss()\n",
        "\n",
        "# Setup an optimizer (stochastic gradient descent)\n",
        "optimizer_exercise = torch.optim.SGD(params=model_0_exercise.parameters(),\n",
        "                            lr=0.01 # lr = learning rate = possibly the most important hyperparameter in ml\n",
        "                            )"
      ],
      "metadata": {
        "id": "mPVZKri-_SNb"
      },
      "execution_count": 12,
      "outputs": []
    },
    {
      "cell_type": "code",
      "source": [
        "# context manager\n",
        "with torch.inference_mode(): # inference mode turns off gradient tracking (similar to torch.no_grad(), but torch.inference_mode() i preferred)\n",
        "  y_preds_exercise = model_0_exercise(X_test_exercise)\n",
        "\n",
        "plot_predictions_exercise(predictions=y_preds_exercise.cpu())"
      ],
      "metadata": {
        "colab": {
          "base_uri": "https://localhost:8080/",
          "height": 580
        },
        "id": "kA4BSyLGBM59",
        "outputId": "f7d37fa7-8f48-4b12-c3d2-4bb3aec97701"
      },
      "execution_count": 13,
      "outputs": [
        {
          "output_type": "display_data",
          "data": {
            "text/plain": [
              "<Figure size 1000x700 with 1 Axes>"
            ],
            "image/png": "[encoded data removed]"
          },
          "metadata": {}
        }
      ]
    },
    {
      "cell_type": "code",
      "source": [
        "torch.manual_seed(52) # optimizer step can be quite random depending on model prediction (y_pred_exercise)\n",
        "\n",
        "# An epoch is one loop through the data (this is a hyperparameter)\n",
        "epochs_exercise = 1000\n",
        "\n",
        "# Track different values\n",
        "epoch_count_exercise = []\n",
        "loss_values_exercise = []\n",
        "test_loss_values_exercise =[]\n",
        "\n",
        "\n",
        "### Training (using training data)\n",
        "\n",
        "#0. Loop through the data\n",
        "for epoch in range(epochs_exercise):\n",
        "  # Set the model to training mode\n",
        "  model_0_exercise.train() # train mode in PyTorch sets all parameters that require gradients to require gradients\n",
        "\n",
        "\n",
        "  #1. Forward propagation (also called forward pass)\n",
        "  y_pred_exercise = model_0_exercise(X_train_exercise)\n",
        "\n",
        "  #2. Calculate the loss (how wrong our model prediction is)(compare forward pass predictions to ground truth labels)(uses MAE)\n",
        "  loss_exercise = loss_fn_exercise(y_pred_exercise, y_train_exercise)\n",
        "\n",
        "  #3. Optimizer zero gradient\n",
        "  optimizer_exercise.zero_grad() # start fresh each iteration\n",
        "\n",
        "  #4. Backpropagation (Loss backward)\n",
        "  loss_exercise.backward()\n",
        "\n",
        "  #5. Optimizer step (Gradient descent)\n",
        "  # Optimizer step optimize the parameter so that we can reach the point of convergence (where loss = 0 (great prediction))\n",
        "  optimizer_exercise.step() # by default how optimizer changes will accumulate through the loop so we have to zero them above in step 3 for the next iteration of the loop\n",
        "                  # may refer to the docs to understand why it accumulates\n",
        "\n",
        "  ### Testing (using testing data)\n",
        "  model_0_exercise.eval() # turns off different settings in the model not needing for testing\n",
        "  with torch.inference_mode(): # turns off gradient tracking and couple more things behind the scenes\n",
        "    #1. Forward propagation on test data\n",
        "    test_pred = model_0_exercise(X_test_exercise)\n",
        "    #2. Calculate the test loss (how wrong our model test prediction is)(compare forward pass predictions to ground truth labels)(uses MAE)\n",
        "    test_loss_exercise = loss_fn_exercise(test_pred, y_test_exercise)\n",
        "  if epoch % 20 == 0:\n",
        "    epoch_count_exercise.append(epoch)\n",
        "    loss_values_exercise.append(loss_exercise)\n",
        "    test_loss_values_exercise.append(test_loss_exercise)\n",
        "    print(f\"Epoch: {epoch} | Loss: {loss_exercise} | Test loss: {test_loss_exercise}\")\n",
        "    print(model_0_exercise.state_dict())"
      ],
      "metadata": {
        "colab": {
          "base_uri": "https://localhost:8080/"
        },
        "id": "oBcPqwD5Awui",
        "outputId": "4c8eb782-5285-4469-979d-05acefc15a47"
      },
      "execution_count": 14,
      "outputs": [
        {
          "output_type": "stream",
          "name": "stdout",
          "text": [
            "Epoch: 0 | Loss: 0.2800804078578949 | Test loss: 0.2002982646226883\n",
            "OrderedDict([('linear_layer.weight', tensor([[0.4364]], device='cuda:0')), ('linear_layer.bias', tensor([0.5776], device='cuda:0'))])\n",
            "Epoch: 20 | Loss: 0.05903319641947746 | Test loss: 0.058357130736112595\n",
            "OrderedDict([('linear_layer.weight', tensor([[0.5101]], device='cuda:0')), ('linear_layer.bias', tensor([0.7703], device='cuda:0'))])\n",
            "Epoch: 40 | Loss: 0.038983430713415146 | Test loss: 0.08840872347354889\n",
            "OrderedDict([('linear_layer.weight', tensor([[0.4914]], device='cuda:0')), ('linear_layer.bias', tensor([0.8171], device='cuda:0'))])\n",
            "Epoch: 60 | Loss: 0.03210458531975746 | Test loss: 0.07380539178848267\n",
            "OrderedDict([('linear_layer.weight', tensor([[0.4578]], device='cuda:0')), ('linear_layer.bias', tensor([0.8326], device='cuda:0'))])\n",
            "Epoch: 80 | Loss: 0.025250453501939774 | Test loss: 0.058509666472673416\n",
            "OrderedDict([('linear_layer.weight', tensor([[0.4239]], device='cuda:0')), ('linear_layer.bias', tensor([0.8476], device='cuda:0'))])\n",
            "Epoch: 100 | Loss: 0.01839827559888363 | Test loss: 0.042526062577962875\n",
            "OrderedDict([('linear_layer.weight', tensor([[0.3899]], device='cuda:0')), ('linear_layer.bias', tensor([0.8621], device='cuda:0'))])\n",
            "Epoch: 120 | Loss: 0.011546100489795208 | Test loss: 0.02654244937002659\n",
            "OrderedDict([('linear_layer.weight', tensor([[0.3558]], device='cuda:0')), ('linear_layer.bias', tensor([0.8766], device='cuda:0'))])\n",
            "Epoch: 140 | Loss: 0.004694902803748846 | Test loss: 0.01021487731486559\n",
            "OrderedDict([('linear_layer.weight', tensor([[0.3217]], device='cuda:0')), ('linear_layer.bias', tensor([0.8908], device='cuda:0'))])\n",
            "Epoch: 160 | Loss: 0.005784965585917234 | Test loss: 0.009496944956481457\n",
            "OrderedDict([('linear_layer.weight', tensor([[0.3074]], device='cuda:0')), ('linear_layer.bias', tensor([0.9028], device='cuda:0'))])\n",
            "Epoch: 180 | Loss: 0.005784965585917234 | Test loss: 0.009496944956481457\n",
            "OrderedDict([('linear_layer.weight', tensor([[0.3074]], device='cuda:0')), ('linear_layer.bias', tensor([0.9028], device='cuda:0'))])\n",
            "Epoch: 200 | Loss: 0.005784965585917234 | Test loss: 0.009496944956481457\n",
            "OrderedDict([('linear_layer.weight', tensor([[0.3074]], device='cuda:0')), ('linear_layer.bias', tensor([0.9028], device='cuda:0'))])\n",
            "Epoch: 220 | Loss: 0.005784965585917234 | Test loss: 0.009496944956481457\n",
            "OrderedDict([('linear_layer.weight', tensor([[0.3074]], device='cuda:0')), ('linear_layer.bias', tensor([0.9028], device='cuda:0'))])\n",
            "Epoch: 240 | Loss: 0.005784965585917234 | Test loss: 0.009496944956481457\n",
            "OrderedDict([('linear_layer.weight', tensor([[0.3074]], device='cuda:0')), ('linear_layer.bias', tensor([0.9028], device='cuda:0'))])\n",
            "Epoch: 260 | Loss: 0.005784965585917234 | Test loss: 0.009496944956481457\n",
            "OrderedDict([('linear_layer.weight', tensor([[0.3074]], device='cuda:0')), ('linear_layer.bias', tensor([0.9028], device='cuda:0'))])\n",
            "Epoch: 280 | Loss: 0.005784965585917234 | Test loss: 0.009496944956481457\n",
            "OrderedDict([('linear_layer.weight', tensor([[0.3074]], device='cuda:0')), ('linear_layer.bias', tensor([0.9028], device='cuda:0'))])\n",
            "Epoch: 300 | Loss: 0.005784965585917234 | Test loss: 0.009496944956481457\n",
            "OrderedDict([('linear_layer.weight', tensor([[0.3074]], device='cuda:0')), ('linear_layer.bias', tensor([0.9028], device='cuda:0'))])\n",
            "Epoch: 320 | Loss: 0.005784965585917234 | Test loss: 0.009496944956481457\n",
            "OrderedDict([('linear_layer.weight', tensor([[0.3074]], device='cuda:0')), ('linear_layer.bias', tensor([0.9028], device='cuda:0'))])\n",
            "Epoch: 340 | Loss: 0.005784965585917234 | Test loss: 0.009496944956481457\n",
            "OrderedDict([('linear_layer.weight', tensor([[0.3074]], device='cuda:0')), ('linear_layer.bias', tensor([0.9028], device='cuda:0'))])\n",
            "Epoch: 360 | Loss: 0.005784965585917234 | Test loss: 0.009496944956481457\n",
            "OrderedDict([('linear_layer.weight', tensor([[0.3074]], device='cuda:0')), ('linear_layer.bias', tensor([0.9028], device='cuda:0'))])\n",
            "Epoch: 380 | Loss: 0.005784965585917234 | Test loss: 0.009496944956481457\n",
            "OrderedDict([('linear_layer.weight', tensor([[0.3074]], device='cuda:0')), ('linear_layer.bias', tensor([0.9028], device='cuda:0'))])\n",
            "Epoch: 400 | Loss: 0.005784965585917234 | Test loss: 0.009496944956481457\n",
            "OrderedDict([('linear_layer.weight', tensor([[0.3074]], device='cuda:0')), ('linear_layer.bias', tensor([0.9028], device='cuda:0'))])\n",
            "Epoch: 420 | Loss: 0.005784965585917234 | Test loss: 0.009496944956481457\n",
            "OrderedDict([('linear_layer.weight', tensor([[0.3074]], device='cuda:0')), ('linear_layer.bias', tensor([0.9028], device='cuda:0'))])\n",
            "Epoch: 440 | Loss: 0.005784965585917234 | Test loss: 0.009496944956481457\n",
            "OrderedDict([('linear_layer.weight', tensor([[0.3074]], device='cuda:0')), ('linear_layer.bias', tensor([0.9028], device='cuda:0'))])\n",
            "Epoch: 460 | Loss: 0.005784965585917234 | Test loss: 0.009496944956481457\n",
            "OrderedDict([('linear_layer.weight', tensor([[0.3074]], device='cuda:0')), ('linear_layer.bias', tensor([0.9028], device='cuda:0'))])\n",
            "Epoch: 480 | Loss: 0.005784965585917234 | Test loss: 0.009496944956481457\n",
            "OrderedDict([('linear_layer.weight', tensor([[0.3074]], device='cuda:0')), ('linear_layer.bias', tensor([0.9028], device='cuda:0'))])\n",
            "Epoch: 500 | Loss: 0.005784965585917234 | Test loss: 0.009496944956481457\n",
            "OrderedDict([('linear_layer.weight', tensor([[0.3074]], device='cuda:0')), ('linear_layer.bias', tensor([0.9028], device='cuda:0'))])\n",
            "Epoch: 520 | Loss: 0.005784965585917234 | Test loss: 0.009496944956481457\n",
            "OrderedDict([('linear_layer.weight', tensor([[0.3074]], device='cuda:0')), ('linear_layer.bias', tensor([0.9028], device='cuda:0'))])\n",
            "Epoch: 540 | Loss: 0.005784965585917234 | Test loss: 0.009496944956481457\n",
            "OrderedDict([('linear_layer.weight', tensor([[0.3074]], device='cuda:0')), ('linear_layer.bias', tensor([0.9028], device='cuda:0'))])\n",
            "Epoch: 560 | Loss: 0.005784965585917234 | Test loss: 0.009496944956481457\n",
            "OrderedDict([('linear_layer.weight', tensor([[0.3074]], device='cuda:0')), ('linear_layer.bias', tensor([0.9028], device='cuda:0'))])\n",
            "Epoch: 580 | Loss: 0.005784965585917234 | Test loss: 0.009496944956481457\n",
            "OrderedDict([('linear_layer.weight', tensor([[0.3074]], device='cuda:0')), ('linear_layer.bias', tensor([0.9028], device='cuda:0'))])\n",
            "Epoch: 600 | Loss: 0.005784965585917234 | Test loss: 0.009496944956481457\n",
            "OrderedDict([('linear_layer.weight', tensor([[0.3074]], device='cuda:0')), ('linear_layer.bias', tensor([0.9028], device='cuda:0'))])\n",
            "Epoch: 620 | Loss: 0.005784965585917234 | Test loss: 0.009496944956481457\n",
            "OrderedDict([('linear_layer.weight', tensor([[0.3074]], device='cuda:0')), ('linear_layer.bias', tensor([0.9028], device='cuda:0'))])\n",
            "Epoch: 640 | Loss: 0.005784965585917234 | Test loss: 0.009496944956481457\n",
            "OrderedDict([('linear_layer.weight', tensor([[0.3074]], device='cuda:0')), ('linear_layer.bias', tensor([0.9028], device='cuda:0'))])\n",
            "Epoch: 660 | Loss: 0.005784965585917234 | Test loss: 0.009496944956481457\n",
            "OrderedDict([('linear_layer.weight', tensor([[0.3074]], device='cuda:0')), ('linear_layer.bias', tensor([0.9028], device='cuda:0'))])\n",
            "Epoch: 680 | Loss: 0.005784965585917234 | Test loss: 0.009496944956481457\n",
            "OrderedDict([('linear_layer.weight', tensor([[0.3074]], device='cuda:0')), ('linear_layer.bias', tensor([0.9028], device='cuda:0'))])\n",
            "Epoch: 700 | Loss: 0.005784965585917234 | Test loss: 0.009496944956481457\n",
            "OrderedDict([('linear_layer.weight', tensor([[0.3074]], device='cuda:0')), ('linear_layer.bias', tensor([0.9028], device='cuda:0'))])\n",
            "Epoch: 720 | Loss: 0.005784965585917234 | Test loss: 0.009496944956481457\n",
            "OrderedDict([('linear_layer.weight', tensor([[0.3074]], device='cuda:0')), ('linear_layer.bias', tensor([0.9028], device='cuda:0'))])\n",
            "Epoch: 740 | Loss: 0.005784965585917234 | Test loss: 0.009496944956481457\n",
            "OrderedDict([('linear_layer.weight', tensor([[0.3074]], device='cuda:0')), ('linear_layer.bias', tensor([0.9028], device='cuda:0'))])\n",
            "Epoch: 760 | Loss: 0.005784965585917234 | Test loss: 0.009496944956481457\n",
            "OrderedDict([('linear_layer.weight', tensor([[0.3074]], device='cuda:0')), ('linear_layer.bias', tensor([0.9028], device='cuda:0'))])\n",
            "Epoch: 780 | Loss: 0.005784965585917234 | Test loss: 0.009496944956481457\n",
            "OrderedDict([('linear_layer.weight', tensor([[0.3074]], device='cuda:0')), ('linear_layer.bias', tensor([0.9028], device='cuda:0'))])\n",
            "Epoch: 800 | Loss: 0.005784965585917234 | Test loss: 0.009496944956481457\n",
            "OrderedDict([('linear_layer.weight', tensor([[0.3074]], device='cuda:0')), ('linear_layer.bias', tensor([0.9028], device='cuda:0'))])\n",
            "Epoch: 820 | Loss: 0.005784965585917234 | Test loss: 0.009496944956481457\n",
            "OrderedDict([('linear_layer.weight', tensor([[0.3074]], device='cuda:0')), ('linear_layer.bias', tensor([0.9028], device='cuda:0'))])\n",
            "Epoch: 840 | Loss: 0.005784965585917234 | Test loss: 0.009496944956481457\n",
            "OrderedDict([('linear_layer.weight', tensor([[0.3074]], device='cuda:0')), ('linear_layer.bias', tensor([0.9028], device='cuda:0'))])\n",
            "Epoch: 860 | Loss: 0.005784965585917234 | Test loss: 0.009496944956481457\n",
            "OrderedDict([('linear_layer.weight', tensor([[0.3074]], device='cuda:0')), ('linear_layer.bias', tensor([0.9028], device='cuda:0'))])\n",
            "Epoch: 880 | Loss: 0.005784965585917234 | Test loss: 0.009496944956481457\n",
            "OrderedDict([('linear_layer.weight', tensor([[0.3074]], device='cuda:0')), ('linear_layer.bias', tensor([0.9028], device='cuda:0'))])\n",
            "Epoch: 900 | Loss: 0.005784965585917234 | Test loss: 0.009496944956481457\n",
            "OrderedDict([('linear_layer.weight', tensor([[0.3074]], device='cuda:0')), ('linear_layer.bias', tensor([0.9028], device='cuda:0'))])\n",
            "Epoch: 920 | Loss: 0.005784965585917234 | Test loss: 0.009496944956481457\n",
            "OrderedDict([('linear_layer.weight', tensor([[0.3074]], device='cuda:0')), ('linear_layer.bias', tensor([0.9028], device='cuda:0'))])\n",
            "Epoch: 940 | Loss: 0.005784965585917234 | Test loss: 0.009496944956481457\n",
            "OrderedDict([('linear_layer.weight', tensor([[0.3074]], device='cuda:0')), ('linear_layer.bias', tensor([0.9028], device='cuda:0'))])\n",
            "Epoch: 960 | Loss: 0.005784965585917234 | Test loss: 0.009496944956481457\n",
            "OrderedDict([('linear_layer.weight', tensor([[0.3074]], device='cuda:0')), ('linear_layer.bias', tensor([0.9028], device='cuda:0'))])\n",
            "Epoch: 980 | Loss: 0.005784965585917234 | Test loss: 0.009496944956481457\n",
            "OrderedDict([('linear_layer.weight', tensor([[0.3074]], device='cuda:0')), ('linear_layer.bias', tensor([0.9028], device='cuda:0'))])\n"
          ]
        }
      ]
    },
    {
      "cell_type": "code",
      "source": [
        "# Plot the loss curves\n",
        "plt.plot(epoch_count_exercise, np.array(torch.tensor(loss_values_exercise).numpy()), label=\"Train Loss\")\n",
        "plt.plot(epoch_count_exercise, np.array(torch.tensor(test_loss_values_exercise).numpy()), label=\"Test Loss\")\n",
        "plt.title(\"Training and test loss curves\")\n",
        "plt.ylabel(\"Loss\")\n",
        "plt.xlabel(\"Epochs\")\n",
        "plt.legend()"
      ],
      "metadata": {
        "colab": {
          "base_uri": "https://localhost:8080/",
          "height": 489
        },
        "id": "spRsEswiDLia",
        "outputId": "66c63703-caf7-4888-dccf-16b18562ba09"
      },
      "execution_count": 16,
      "outputs": [
        {
          "output_type": "execute_result",
          "data": {
            "text/plain": [
              "<matplotlib.legend.Legend at 0x7b7acdf9e410>"
            ]
          },
          "metadata": {},
          "execution_count": 16
        },
        {
          "output_type": "display_data",
          "data": {
            "text/plain": [
              "<Figure size 640x480 with 1 Axes>"
            ],
            "image/png": "[encoded data removed]"
          },
          "metadata": {}
        }
      ]
    },
    {
      "cell_type": "code",
      "source": [
        "with torch.inference_mode(): # inference mode turns off gradient tracking (similar to torch.no_grad(), but torch.inference_mode() i preferred)\n",
        "  y_preds_exercise_new = model_0_exercise(X_test_exercise)\n",
        "\n",
        "plot_predictions_exercise(predictions=y_preds_exercise_new.cpu()) # matplotlib uses numpy, which run in the cpu"
      ],
      "metadata": {
        "colab": {
          "base_uri": "https://localhost:8080/",
          "height": 580
        },
        "id": "1xs3BEFnDbak",
        "outputId": "c76ea151-4460-4e7a-c5f2-c2a4d6b72e59"
      },
      "execution_count": 17,
      "outputs": [
        {
          "output_type": "display_data",
          "data": {
            "text/plain": [
              "<Figure size 1000x700 with 1 Axes>"
            ],
            "image/png": "[encoded data removed]"
          },
          "metadata": {}
        }
      ]
    },
    {
      "cell_type": "code",
      "source": [
        "# Saving our PyTorch model\n",
        "from pathlib import Path\n",
        "\n",
        "# 1. Create models directory\n",
        "MODEL_PATH = Path(\"models\")\n",
        "MODEL_PATH.mkdir(parents=True, exist_ok=True)\n",
        "\n",
        "# 2. Create model save path\n",
        "MODEL_NAME = \"01_pytorch_workflow_model_0_exercise.pth\" # pth is pytorch file naming convention sometimes others uses .pt\n",
        "MODEL_SAVE_PATH = MODEL_PATH / MODEL_NAME\n",
        "\n",
        "# 3. Save model state_dict (recommended)\n",
        "torch.save(obj=model_0_exercise.state_dict(), f=MODEL_SAVE_PATH)"
      ],
      "metadata": {
        "id": "Ql0jMj8VDvcg"
      },
      "execution_count": 18,
      "outputs": []
    },
    {
      "cell_type": "code",
      "source": [
        "# To load a saved state_dict we have to instantiate a new instance of our model class\n",
        "loaded_model_0_exercise = LinearRegressionModelV2().to(\"cuda\")\n",
        "\n",
        "# Load the saved state_dict of model_0 (this will update the new instance with updated parameters)\n",
        "loaded_model_0_exercise.load_state_dict(torch.load(f=MODEL_SAVE_PATH))"
      ],
      "metadata": {
        "colab": {
          "base_uri": "https://localhost:8080/"
        },
        "id": "BiNMMAfutGwB",
        "outputId": "fef20c6c-90bf-4480-8741-67e291e4bf1a"
      },
      "execution_count": 22,
      "outputs": [
        {
          "output_type": "stream",
          "name": "stderr",
          "text": [
            "<ipython-input-22-514285d5db99>:5: FutureWarning: You are using `torch.load` with `weights_only=False` (the current default value), which uses the default pickle module implicitly. It is possible to construct malicious pickle data which will execute arbitrary code during unpickling (See https://github.com/pytorch/pytorch/blob/main/SECURITY.md#untrusted-models for more details). In a future release, the default value for `weights_only` will be flipped to `True`. This limits the functions that could be executed during unpickling. Arbitrary objects will no longer be allowed to be loaded via this mode unless they are explicitly allowlisted by the user via `torch.serialization.add_safe_globals`. We recommend you start setting `weights_only=True` for any use case where you don't have full control of the loaded file. Please open an issue on GitHub for any issues related to this experimental feature.\n",
            "  loaded_model_0_exercise.load_state_dict(torch.load(f=MODEL_SAVE_PATH))\n"
          ]
        },
        {
          "output_type": "execute_result",
          "data": {
            "text/plain": [
              "<All keys matched successfully>"
            ]
          },
          "metadata": {},
          "execution_count": 22
        }
      ]
    },
    {
      "cell_type": "code",
      "source": [
        "# Make some prediction with our loaded model\n",
        "loaded_model_0_exercise.eval()\n",
        "with torch.inference_mode():\n",
        "  loaded_model_preds_exercise = loaded_model_0_exercise(X_test_exercise)\n",
        "\n",
        "plot_predictions_exercise(predictions=loaded_model_preds_exercise.cpu())"
      ],
      "metadata": {
        "colab": {
          "base_uri": "https://localhost:8080/",
          "height": 580
        },
        "id": "z_DjHGsesGXY",
        "outputId": "17223b15-1d04-4533-b8ec-d069b77dcda5"
      },
      "execution_count": 24,
      "outputs": [
        {
          "output_type": "display_data",
          "data": {
            "text/plain": [
              "<Figure size 1000x700 with 1 Axes>"
            ],
            "image/png": "[encoded data removed]"
          },
          "metadata": {}
        }
      ]
    },
    {
      "cell_type": "code",
      "source": [
        "model_0_exercise.eval()\n",
        "with torch.inference_mode():\n",
        "  y_preds_exercise = model_0_exercise(X_test_exercise)\n",
        "\n",
        "loaded_model_preds_exercise == y_preds_exercise"
      ],
      "metadata": {
        "colab": {
          "base_uri": "https://localhost:8080/"
        },
        "id": "QbZ2V5VJtZBG",
        "outputId": "35188a76-c7b6-42c9-f7c0-241eb592bcb7"
      },
      "execution_count": 25,
      "outputs": [
        {
          "output_type": "execute_result",
          "data": {
            "text/plain": [
              "tensor([[True],\n",
              "        [True],\n",
              "        [True],\n",
              "        [True],\n",
              "        [True],\n",
              "        [True],\n",
              "        [True],\n",
              "        [True],\n",
              "        [True],\n",
              "        [True],\n",
              "        [True],\n",
              "        [True],\n",
              "        [True],\n",
              "        [True],\n",
              "        [True],\n",
              "        [True],\n",
              "        [True],\n",
              "        [True],\n",
              "        [True],\n",
              "        [True]], device='cuda:0')"
            ]
          },
          "metadata": {},
          "execution_count": 25
        }
      ]
    },
    {
      "cell_type": "code",
      "source": [],
      "metadata": {
        "id": "AXIaFrDTuE6j"
      },
      "execution_count": 25,
      "outputs": []
    }
  ]
}