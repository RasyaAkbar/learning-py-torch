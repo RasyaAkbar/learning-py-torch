{
  "nbformat": 4,
  "nbformat_minor": 0,
  "metadata": {
    "colab": {
      "provenance": [],
      "authorship_tag": "ABX9TyOQUKSko8nSk29ZUc3Jri5p",
      "include_colab_link": true
    },
    "kernelspec": {
      "name": "python3",
      "display_name": "Python 3"
    },
    "language_info": {
      "name": "python"
    },
    "widgets": {
      "application/vnd.jupyter.widget-state+json": {
        "edd083b1715b4a3983a6f0518ba9dbc2": {
          "model_module": "@jupyter-widgets/controls",
          "model_name": "HBoxModel",
          "model_module_version": "1.5.0",
          "state": {
            "_dom_classes": [],
            "_model_module": "@jupyter-widgets/controls",
            "_model_module_version": "1.5.0",
            "_model_name": "HBoxModel",
            "_view_count": null,
            "_view_module": "@jupyter-widgets/controls",
            "_view_module_version": "1.5.0",
            "_view_name": "HBoxView",
            "box_style": "",
            "children": [
              "IPY_MODEL_8855c4298fda405ba18f500c29213415",
              "IPY_MODEL_2024df471218498792b2663e764adce5",
              "IPY_MODEL_523c78657bd94722941e9c81f7f6cd28"
            ],
            "layout": "IPY_MODEL_6eac04bae33447b5a655964794d3e0d4"
          }
        },
        "8855c4298fda405ba18f500c29213415": {
          "model_module": "@jupyter-widgets/controls",
          "model_name": "HTMLModel",
          "model_module_version": "1.5.0",
          "state": {
            "_dom_classes": [],
            "_model_module": "@jupyter-widgets/controls",
            "_model_module_version": "1.5.0",
            "_model_name": "HTMLModel",
            "_view_count": null,
            "_view_module": "@jupyter-widgets/controls",
            "_view_module_version": "1.5.0",
            "_view_name": "HTMLView",
            "description": "",
            "description_tooltip": null,
            "layout": "IPY_MODEL_64349dee113941e8bfd52e1117505506",
            "placeholder": "​",
            "style": "IPY_MODEL_4d28b08ab35d4418821a31ff496b2983",
            "value": "100%"
          }
        },
        "2024df471218498792b2663e764adce5": {
          "model_module": "@jupyter-widgets/controls",
          "model_name": "FloatProgressModel",
          "model_module_version": "1.5.0",
          "state": {
            "_dom_classes": [],
            "_model_module": "@jupyter-widgets/controls",
            "_model_module_version": "1.5.0",
            "_model_name": "FloatProgressModel",
            "_view_count": null,
            "_view_module": "@jupyter-widgets/controls",
            "_view_module_version": "1.5.0",
            "_view_name": "ProgressView",
            "bar_style": "success",
            "description": "",
            "description_tooltip": null,
            "layout": "IPY_MODEL_fddb11daf2dc44f8b5ada8eb5246cf9b",
            "max": 5,
            "min": 0,
            "orientation": "horizontal",
            "style": "IPY_MODEL_f83c77e8e92e4c4a97b5e89378d0e22f",
            "value": 5
          }
        },
        "523c78657bd94722941e9c81f7f6cd28": {
          "model_module": "@jupyter-widgets/controls",
          "model_name": "HTMLModel",
          "model_module_version": "1.5.0",
          "state": {
            "_dom_classes": [],
            "_model_module": "@jupyter-widgets/controls",
            "_model_module_version": "1.5.0",
            "_model_name": "HTMLModel",
            "_view_count": null,
            "_view_module": "@jupyter-widgets/controls",
            "_view_module_version": "1.5.0",
            "_view_name": "HTMLView",
            "description": "",
            "description_tooltip": null,
            "layout": "IPY_MODEL_3ca5ef4ed32f4a08b2a1390d607d8b3b",
            "placeholder": "​",
            "style": "IPY_MODEL_fed07ec0c049402997045b96001a1bbc",
            "value": " 5/5 [00:12&lt;00:00,  2.30s/it]"
          }
        },
        "6eac04bae33447b5a655964794d3e0d4": {
          "model_module": "@jupyter-widgets/base",
          "model_name": "LayoutModel",
          "model_module_version": "1.2.0",
          "state": {
            "_model_module": "@jupyter-widgets/base",
            "_model_module_version": "1.2.0",
            "_model_name": "LayoutModel",
            "_view_count": null,
            "_view_module": "@jupyter-widgets/base",
            "_view_module_version": "1.2.0",
            "_view_name": "LayoutView",
            "align_content": null,
            "align_items": null,
            "align_self": null,
            "border": null,
            "bottom": null,
            "display": null,
            "flex": null,
            "flex_flow": null,
            "grid_area": null,
            "grid_auto_columns": null,
            "grid_auto_flow": null,
            "grid_auto_rows": null,
            "grid_column": null,
            "grid_gap": null,
            "grid_row": null,
            "grid_template_areas": null,
            "grid_template_columns": null,
            "grid_template_rows": null,
            "height": null,
            "justify_content": null,
            "justify_items": null,
            "left": null,
            "margin": null,
            "max_height": null,
            "max_width": null,
            "min_height": null,
            "min_width": null,
            "object_fit": null,
            "object_position": null,
            "order": null,
            "overflow": null,
            "overflow_x": null,
            "overflow_y": null,
            "padding": null,
            "right": null,
            "top": null,
            "visibility": null,
            "width": null
          }
        },
        "64349dee113941e8bfd52e1117505506": {
          "model_module": "@jupyter-widgets/base",
          "model_name": "LayoutModel",
          "model_module_version": "1.2.0",
          "state": {
            "_model_module": "@jupyter-widgets/base",
            "_model_module_version": "1.2.0",
            "_model_name": "LayoutModel",
            "_view_count": null,
            "_view_module": "@jupyter-widgets/base",
            "_view_module_version": "1.2.0",
            "_view_name": "LayoutView",
            "align_content": null,
            "align_items": null,
            "align_self": null,
            "border": null,
            "bottom": null,
            "display": null,
            "flex": null,
            "flex_flow": null,
            "grid_area": null,
            "grid_auto_columns": null,
            "grid_auto_flow": null,
            "grid_auto_rows": null,
            "grid_column": null,
            "grid_gap": null,
            "grid_row": null,
            "grid_template_areas": null,
            "grid_template_columns": null,
            "grid_template_rows": null,
            "height": null,
            "justify_content": null,
            "justify_items": null,
            "left": null,
            "margin": null,
            "max_height": null,
            "max_width": null,
            "min_height": null,
            "min_width": null,
            "object_fit": null,
            "object_position": null,
            "order": null,
            "overflow": null,
            "overflow_x": null,
            "overflow_y": null,
            "padding": null,
            "right": null,
            "top": null,
            "visibility": null,
            "width": null
          }
        },
        "4d28b08ab35d4418821a31ff496b2983": {
          "model_module": "@jupyter-widgets/controls",
          "model_name": "DescriptionStyleModel",
          "model_module_version": "1.5.0",
          "state": {
            "_model_module": "@jupyter-widgets/controls",
            "_model_module_version": "1.5.0",
            "_model_name": "DescriptionStyleModel",
            "_view_count": null,
            "_view_module": "@jupyter-widgets/base",
            "_view_module_version": "1.2.0",
            "_view_name": "StyleView",
            "description_width": ""
          }
        },
        "fddb11daf2dc44f8b5ada8eb5246cf9b": {
          "model_module": "@jupyter-widgets/base",
          "model_name": "LayoutModel",
          "model_module_version": "1.2.0",
          "state": {
            "_model_module": "@jupyter-widgets/base",
            "_model_module_version": "1.2.0",
            "_model_name": "LayoutModel",
            "_view_count": null,
            "_view_module": "@jupyter-widgets/base",
            "_view_module_version": "1.2.0",
            "_view_name": "LayoutView",
            "align_content": null,
            "align_items": null,
            "align_self": null,
            "border": null,
            "bottom": null,
            "display": null,
            "flex": null,
            "flex_flow": null,
            "grid_area": null,
            "grid_auto_columns": null,
            "grid_auto_flow": null,
            "grid_auto_rows": null,
            "grid_column": null,
            "grid_gap": null,
            "grid_row": null,
            "grid_template_areas": null,
            "grid_template_columns": null,
            "grid_template_rows": null,
            "height": null,
            "justify_content": null,
            "justify_items": null,
            "left": null,
            "margin": null,
            "max_height": null,
            "max_width": null,
            "min_height": null,
            "min_width": null,
            "object_fit": null,
            "object_position": null,
            "order": null,
            "overflow": null,
            "overflow_x": null,
            "overflow_y": null,
            "padding": null,
            "right": null,
            "top": null,
            "visibility": null,
            "width": null
          }
        },
        "f83c77e8e92e4c4a97b5e89378d0e22f": {
          "model_module": "@jupyter-widgets/controls",
          "model_name": "ProgressStyleModel",
          "model_module_version": "1.5.0",
          "state": {
            "_model_module": "@jupyter-widgets/controls",
            "_model_module_version": "1.5.0",
            "_model_name": "ProgressStyleModel",
            "_view_count": null,
            "_view_module": "@jupyter-widgets/base",
            "_view_module_version": "1.2.0",
            "_view_name": "StyleView",
            "bar_color": null,
            "description_width": ""
          }
        },
        "3ca5ef4ed32f4a08b2a1390d607d8b3b": {
          "model_module": "@jupyter-widgets/base",
          "model_name": "LayoutModel",
          "model_module_version": "1.2.0",
          "state": {
            "_model_module": "@jupyter-widgets/base",
            "_model_module_version": "1.2.0",
            "_model_name": "LayoutModel",
            "_view_count": null,
            "_view_module": "@jupyter-widgets/base",
            "_view_module_version": "1.2.0",
            "_view_name": "LayoutView",
            "align_content": null,
            "align_items": null,
            "align_self": null,
            "border": null,
            "bottom": null,
            "display": null,
            "flex": null,
            "flex_flow": null,
            "grid_area": null,
            "grid_auto_columns": null,
            "grid_auto_flow": null,
            "grid_auto_rows": null,
            "grid_column": null,
            "grid_gap": null,
            "grid_row": null,
            "grid_template_areas": null,
            "grid_template_columns": null,
            "grid_template_rows": null,
            "height": null,
            "justify_content": null,
            "justify_items": null,
            "left": null,
            "margin": null,
            "max_height": null,
            "max_width": null,
            "min_height": null,
            "min_width": null,
            "object_fit": null,
            "object_position": null,
            "order": null,
            "overflow": null,
            "overflow_x": null,
            "overflow_y": null,
            "padding": null,
            "right": null,
            "top": null,
            "visibility": null,
            "width": null
          }
        },
        "fed07ec0c049402997045b96001a1bbc": {
          "model_module": "@jupyter-widgets/controls",
          "model_name": "DescriptionStyleModel",
          "model_module_version": "1.5.0",
          "state": {
            "_model_module": "@jupyter-widgets/controls",
            "_model_module_version": "1.5.0",
            "_model_name": "DescriptionStyleModel",
            "_view_count": null,
            "_view_module": "@jupyter-widgets/base",
            "_view_module_version": "1.2.0",
            "_view_name": "StyleView",
            "description_width": ""
          }
        }
      }
    }
  },
  "cells": [
    {
      "cell_type": "markdown",
      "metadata": {
        "id": "view-in-github",
        "colab_type": "text"
      },
      "source": [
        "<a href=\"https://colab.research.google.com/github/RasyaAkbar/learning-py-torch/blob/main/06.%20Training%20data%20using%20script%20and%20cell%20mode%20%2B%20Exercise%20(using%20argparse%20for%20script%20params).ipynb\" target=\"_parent\"><img src=\"https://colab.research.google.com/assets/colab-badge.svg\" alt=\"Open In Colab\"/></a>"
      ]
    },
    {
      "cell_type": "markdown",
      "source": [
        "# 06. Going Modular Part 1 (Cell Mode)"
      ],
      "metadata": {
        "id": "4XRKnyzys3lv"
      }
    },
    {
      "cell_type": "markdown",
      "source": [
        "## 1. Get Data\n",
        "\n",
        "Start by downloading the pizza_steak_sushi dataset"
      ],
      "metadata": {
        "id": "SoJROdsFtJ0R"
      }
    },
    {
      "cell_type": "code",
      "execution_count": 2,
      "metadata": {
        "colab": {
          "base_uri": "https://localhost:8080/"
        },
        "id": "-EiiqZ51s1VA",
        "outputId": "d2e3bdbc-5faa-4e5e-9869-abadc65bd326"
      },
      "outputs": [
        {
          "output_type": "stream",
          "name": "stdout",
          "text": [
            "Didn't find data/pizza_steak_sushi directory, creating one...\n",
            "Downloading pizza, steak, sushi data...\n",
            "Unzipping pizza, steak, sushi data...\n"
          ]
        }
      ],
      "source": [
        "import os\n",
        "import zipfile\n",
        "\n",
        "from pathlib import Path\n",
        "\n",
        "import requests\n",
        "\n",
        "# Setup path to data folder\n",
        "data_path = Path(\"data/\")\n",
        "image_path = data_path / \"pizza_steak_sushi\"\n",
        "\n",
        "# If image folder doesn't exist, download and prepare it\n",
        "if image_path.is_dir():\n",
        "  print(f\"{image_path} directory exists.\")\n",
        "else:\n",
        "  print(f\"Didn't find {image_path} directory, creating one...\")\n",
        "  image_path.mkdir(parents=True, exist_ok=True)\n",
        "\n",
        "# Download pizza, steak, sushi data\n",
        "with open(data_path / \"pizza_steak_sushi.zip\", \"wb\") as f:\n",
        "  request = requests.get(\"https://github.com/mrdbourke/pytorch-deep-learning/raw/main/data/pizza_steak_sushi.zip\")\n",
        "  print(\"Downloading pizza, steak, sushi data...\")\n",
        "  f.write(request.content)\n",
        "\n",
        "# Unzip pizza, steak, sushi data\n",
        "with zipfile.ZipFile(data_path / \"pizza_steak_sushi.zip\", \"r\") as zip_ref:\n",
        "  print(\"Unzipping pizza, steak, sushi data...\")\n",
        "  zip_ref.extractall(image_path)\n",
        "\n",
        "# Remove zip file (we already extract it)\n",
        "os.remove(data_path / \"pizza_steak_sushi.zip\")"
      ]
    },
    {
      "cell_type": "code",
      "source": [
        "# Setup train and testing paths\n",
        "train_dir = image_path / \"train\"\n",
        "test_dir = image_path / \"test\"\n",
        "\n",
        "train_dir, test_dir"
      ],
      "metadata": {
        "colab": {
          "base_uri": "https://localhost:8080/"
        },
        "id": "nIUHulp7tbf7",
        "outputId": "f9d4f4b3-fde0-4f18-a733-6e3d5ee3b0c5"
      },
      "execution_count": 3,
      "outputs": [
        {
          "output_type": "execute_result",
          "data": {
            "text/plain": [
              "(PosixPath('data/pizza_steak_sushi/train'),\n",
              " PosixPath('data/pizza_steak_sushi/test'))"
            ]
          },
          "metadata": {},
          "execution_count": 3
        }
      ]
    },
    {
      "cell_type": "markdown",
      "source": [
        "## 2. Create Datasets and DataLoaders"
      ],
      "metadata": {
        "id": "cflf4rl5wZ5K"
      }
    },
    {
      "cell_type": "code",
      "source": [
        "from torchvision import datasets, transforms\n",
        "\n",
        "# Create simple transform\n",
        "data_transform = transforms.Compose([\n",
        "    transforms.Resize((64, 64)), # 64 x 64 image\n",
        "    transforms.ToTensor()\n",
        "])\n",
        "\n",
        "# Use ImageFolder to create dataset(s)\n",
        "train_data = datasets.ImageFolder(root=train_dir, # target folder\n",
        "                                  transform=data_transform, # transform data\n",
        "                                  target_transform=None) # transform label (None since we use dir name as label)\n",
        "\n",
        "# Use ImageFolder to create dataset(s)\n",
        "test_data = datasets.ImageFolder(root=test_dir, # target folder\n",
        "                                  transform=data_transform, # transform data\n",
        "                                  target_transform=None) # transform label (None since we use dir name as label)\n",
        "\n",
        "\n",
        "print(f\"Train data: \\n{train_data} \\nTest data: \\n{test_data}\")"
      ],
      "metadata": {
        "colab": {
          "base_uri": "https://localhost:8080/"
        },
        "id": "z0G-bvfzwTpl",
        "outputId": "3393825b-cba0-422a-bd01-c22e004c5620"
      },
      "execution_count": 4,
      "outputs": [
        {
          "output_type": "stream",
          "name": "stdout",
          "text": [
            "Train data: \n",
            "Dataset ImageFolder\n",
            "    Number of datapoints: 225\n",
            "    Root location: data/pizza_steak_sushi/train\n",
            "    StandardTransform\n",
            "Transform: Compose(\n",
            "               Resize(size=(64, 64), interpolation=bilinear, max_size=None, antialias=True)\n",
            "               ToTensor()\n",
            "           ) \n",
            "Test data: \n",
            "Dataset ImageFolder\n",
            "    Number of datapoints: 75\n",
            "    Root location: data/pizza_steak_sushi/test\n",
            "    StandardTransform\n",
            "Transform: Compose(\n",
            "               Resize(size=(64, 64), interpolation=bilinear, max_size=None, antialias=True)\n",
            "               ToTensor()\n",
            "           )\n"
          ]
        }
      ]
    },
    {
      "cell_type": "code",
      "source": [
        "# Get class names as a list\n",
        "class_names = train_data.classes\n",
        "class_names"
      ],
      "metadata": {
        "colab": {
          "base_uri": "https://localhost:8080/"
        },
        "id": "sy0hafSSx2Td",
        "outputId": "3677c8b1-92d6-4a55-e49f-58f00940cde9"
      },
      "execution_count": 5,
      "outputs": [
        {
          "output_type": "execute_result",
          "data": {
            "text/plain": [
              "['pizza', 'steak', 'sushi']"
            ]
          },
          "metadata": {},
          "execution_count": 5
        }
      ]
    },
    {
      "cell_type": "code",
      "source": [
        "# Class names as dict\n",
        "class_dict = train_data.class_to_idx\n",
        "class_dict"
      ],
      "metadata": {
        "colab": {
          "base_uri": "https://localhost:8080/"
        },
        "id": "HrtIco0Bx-NF",
        "outputId": "5f17b64b-1d14-4de1-f957-d2c84cb7a930"
      },
      "execution_count": 6,
      "outputs": [
        {
          "output_type": "execute_result",
          "data": {
            "text/plain": [
              "{'pizza': 0, 'steak': 1, 'sushi': 2}"
            ]
          },
          "metadata": {},
          "execution_count": 6
        }
      ]
    },
    {
      "cell_type": "code",
      "source": [
        "len(train_data), len(test_data)"
      ],
      "metadata": {
        "colab": {
          "base_uri": "https://localhost:8080/"
        },
        "id": "2Nhqs7hAyJFc",
        "outputId": "5c593705-62ea-4db4-fdeb-c4fe26008fe5"
      },
      "execution_count": 7,
      "outputs": [
        {
          "output_type": "execute_result",
          "data": {
            "text/plain": [
              "(225, 75)"
            ]
          },
          "metadata": {},
          "execution_count": 7
        }
      ]
    },
    {
      "cell_type": "code",
      "source": [
        "# Turn train and test datasets into dataloader\n",
        "from torch.utils.data import DataLoader\n",
        "train_dataloader = DataLoader(dataset=train_data,\n",
        "                              batch_size=1, # how many samples per batch\n",
        "                              num_workers=os.cpu_count(), # how many subprocesses to use for data loading?\n",
        "                              shuffle=True # Shuffle data for training\n",
        "                              )\n",
        "test_dataloader = DataLoader(dataset=test_data,\n",
        "                              batch_size=1, # how many samples per batch\n",
        "                              num_workers=os.cpu_count(), # how many subprocesses to use for data loading?\n",
        "                              shuffle=False # Not Shuffle data for test\n",
        "                              )\n",
        "\n",
        "train_dataloader, test_dataloader"
      ],
      "metadata": {
        "colab": {
          "base_uri": "https://localhost:8080/"
        },
        "id": "43Dk9tSsyNHB",
        "outputId": "0212ee1a-68e4-49e9-8340-0687d9e14754"
      },
      "execution_count": 8,
      "outputs": [
        {
          "output_type": "execute_result",
          "data": {
            "text/plain": [
              "(<torch.utils.data.dataloader.DataLoader at 0x7f6d379cb3a0>,\n",
              " <torch.utils.data.dataloader.DataLoader at 0x7f6d379c8460>)"
            ]
          },
          "metadata": {},
          "execution_count": 8
        }
      ]
    },
    {
      "cell_type": "code",
      "source": [
        "# Checkout for single image\n",
        "img, label = next(iter(train_dataloader))\n",
        "\n",
        "img.shape, label.shape"
      ],
      "metadata": {
        "colab": {
          "base_uri": "https://localhost:8080/"
        },
        "id": "ZDBcUxYmzlEa",
        "outputId": "9d329b43-b66b-4555-9149-b7715c42750a"
      },
      "execution_count": 9,
      "outputs": [
        {
          "output_type": "execute_result",
          "data": {
            "text/plain": [
              "(torch.Size([1, 3, 64, 64]), torch.Size([1]))"
            ]
          },
          "metadata": {},
          "execution_count": 9
        }
      ]
    },
    {
      "cell_type": "markdown",
      "source": [
        "## 2.1 Create Datasets and DataLoaders (script mode)\n",
        "\n",
        "Create a `.py` file for creating DataLoaders\n",
        "\n",
        "we can save a code cell's contents to a file using Jupyter magic `%%writefile filename` - https://ipython.readthedocs.io/en/stable/interactive/magics.html#cellmagic-writefile\n",
        "\n"
      ],
      "metadata": {
        "id": "1vaBKMVT0InE"
      }
    },
    {
      "cell_type": "code",
      "source": [
        "# Create a directory going_modular scripts\n",
        "import os\n",
        "os.makedirs(\"going_modular\")"
      ],
      "metadata": {
        "id": "c5a5lxbqz16g"
      },
      "execution_count": 10,
      "outputs": []
    },
    {
      "cell_type": "code",
      "source": [
        "%%writefile going_modular/data_setup.py\n",
        "\"\"\"\n",
        "Contains functionality for creating PyTorch DataLoader's for image\n",
        "classification data.\n",
        "\"\"\"\n",
        "\n",
        "import os\n",
        "\n",
        "from torchvision import datasets, transforms\n",
        "from torch.utils.data import DataLoader\n",
        "\n",
        "NUM_WORKERS = os.cpu_count()\n",
        "\n",
        "def create_dataloaders(\n",
        "    train_dir: str,\n",
        "    test_dir: str,\n",
        "    transform: transforms.Compose,\n",
        "    batch_size: int,\n",
        "    num_workers: int = NUM_WORKERS\n",
        "):\n",
        "  \"\"\"Creates training and testing DataLoaders.\n",
        "\n",
        "  Takes in a training directory and testing directroy path and turns them into\n",
        "  PyTorch Datasets and then into PyTorch DataLoaders.\n",
        "\n",
        "  Args:\n",
        "    train_dir: Path to training directory.\n",
        "    test_dir: Path to testing directory.\n",
        "    transform: torchvision transforms to perform on training and testing data.\n",
        "    batch_size: Number of samples per batch in each of the DataLoaders.\n",
        "    num_workers: An integer for number of workers per DataLoader.\n",
        "\n",
        "  Returns:\n",
        "    A tuple of (train_dataloader, test_dataloader, class_names).\n",
        "    Where class_names is a list of the target classes.\n",
        "    Example usage:\n",
        "      train_dataloader, test_dataloader, class_names = create_dataloaders(train_dir=path/to/train_dir,\n",
        "        test_dir=path/to/test_dir,\n",
        "        transform=some_transform,\n",
        "        batch_size=32,\n",
        "        num_workers=4)\n",
        "  \"\"\"\n",
        "\n",
        "  # Use ImageFolder to create dataset(s)\n",
        "  train_data = datasets.ImageFolder(root=train_dir, # target folder\n",
        "                                    transform=transform, # transform data\n",
        "                                    target_transform=None) # transform label (None since we use dir name as label)\n",
        "\n",
        "  # Use ImageFolder to create dataset(s)\n",
        "  test_data = datasets.ImageFolder(root=test_dir, # target folder\n",
        "                                    transform=transform, # transform data\n",
        "                                    target_transform=None) # transform label (None since we use dir name as label)\n",
        "\n",
        "  # Get class names\n",
        "  class_names = train_data.classes\n",
        "\n",
        "  # Turn images into DataLoaders\n",
        "  train_dataloader = DataLoader(dataset=train_data,\n",
        "                              batch_size=batch_size, # how many samples per batch\n",
        "                              num_workers=num_workers, # how many subprocesses to use for data loading?\n",
        "                              shuffle=True, # Shuffle data for training\n",
        "                              pin_memory=True # If True, the data loader will copy Tensors into device/CUDA pinned memory before returning them\n",
        "                              )\n",
        "  test_dataloader = DataLoader(dataset=test_data,\n",
        "                                batch_size=batch_size, # how many samples per batch\n",
        "                                num_workers=num_workers, # how many subprocesses to use for data loading?\n",
        "                                shuffle=False, # Not Shuffle data for test\n",
        "                                pin_memory=True # If True, the data loader will copy Tensors into device/CUDA pinned memory before returning them\n",
        "                                )\n",
        "\n",
        "  return train_dataloader, test_dataloader, class_names\n"
      ],
      "metadata": {
        "colab": {
          "base_uri": "https://localhost:8080/"
        },
        "id": "9d9f-sGE1E03",
        "outputId": "601b2fd5-f876-4cfe-bb77-c656d002cab7"
      },
      "execution_count": 11,
      "outputs": [
        {
          "output_type": "stream",
          "name": "stdout",
          "text": [
            "Writing going_modular/data_setup.py\n"
          ]
        }
      ]
    },
    {
      "cell_type": "code",
      "source": [
        "from going_modular import data_setup\n",
        "\n",
        "train_dataloader, test_dataloader, class_names = data_setup.create_dataloaders(train_dir= train_dir,\n",
        "                                                                              test_dir= test_dir,\n",
        "                                                                              transform=data_transform,\n",
        "                                                                              batch_size= 32)\n",
        "\n",
        "train_dataloader, test_dataloader, class_names"
      ],
      "metadata": {
        "colab": {
          "base_uri": "https://localhost:8080/"
        },
        "id": "9mXNgKRaFbIM",
        "outputId": "aa2ce669-bfbd-470a-b61a-9fa947c980f2"
      },
      "execution_count": 12,
      "outputs": [
        {
          "output_type": "execute_result",
          "data": {
            "text/plain": [
              "(<torch.utils.data.dataloader.DataLoader at 0x7f6d36848430>,\n",
              " <torch.utils.data.dataloader.DataLoader at 0x7f6d368493c0>,\n",
              " ['pizza', 'steak', 'sushi'])"
            ]
          },
          "metadata": {},
          "execution_count": 12
        }
      ]
    },
    {
      "cell_type": "markdown",
      "source": [
        "## 3. Making a model (TinyVGG)"
      ],
      "metadata": {
        "id": "igc6ES4JGZtt"
      }
    },
    {
      "cell_type": "markdown",
      "source": [
        "same model as notebook 4 but added a docstring using this guide: https://google.github.io/styleguide/pyguide.html#384-classes"
      ],
      "metadata": {
        "id": "P-8N6fYlJ974"
      }
    },
    {
      "cell_type": "code",
      "source": [
        "import torch\n",
        "\n",
        "from torch import nn\n",
        "\n",
        "\n",
        "class TinyVGG(nn.Module):\n",
        "  \"\"\"\n",
        "  Model architecture that replicates the TinyVGG\n",
        "  model from CNN explainer website  https://poloclub.github.io/cnn-explainer/\n",
        "\n",
        "  Args:\n",
        "    input_shape: An integer indicating number of input channels.\n",
        "    hidden_units: An integer indicating number of hidden units between layers.\n",
        "    output_shape: An integer indicating number of output units.\n",
        "  \"\"\"\n",
        "  def __init__(self,\n",
        "               input_shape: int,\n",
        "               hidden_units: int,\n",
        "               output_shape: int\n",
        "               ):\n",
        "    super().__init__()\n",
        "    self.conv_block_1 = nn.Sequential(\n",
        "        # Create conv layer\n",
        "        nn.Conv2d(in_channels=input_shape,\n",
        "                  out_channels=hidden_units,\n",
        "                  kernel_size=3, # often also referred to as filter size, refers to the dimensions of the sliding window over the input. can be tuple, ex:(3, 3)\n",
        "                  stride=1, # indicates how many pixels the kernel should be shifted over at a time.\n",
        "                  padding=1 # By adding padding, the model retains information from the edges of the input data, which would otherwise be lost without padding.\n",
        "                  ),\n",
        "        nn.ReLU(),\n",
        "        nn.Conv2d(in_channels=hidden_units,\n",
        "                  out_channels=hidden_units,\n",
        "                  kernel_size=3, # often also referred to as filter size, refers to the dimensions of the sliding window over the input. can be tuple, ex:(3, 3)\n",
        "                  stride=1, # indicates how many pixels the kernel should be shifted over at a time.\n",
        "                  padding=1 # By adding padding, the model retains information from the edges of the input data, which would otherwise be lost without padding.\n",
        "                  ),\n",
        "        nn.ReLU(),\n",
        "        nn.MaxPool2d(kernel_size=2,\n",
        "                     stride=2\n",
        "                     ), # stride by default is the same as kernel size\n",
        "        #nn.Dropout(p=0.5)#   Dropout with a 70% drop rate\n",
        "    )\n",
        "\n",
        "    self.conv_block_2 = nn.Sequential(\n",
        "        # Create conv layer\n",
        "        nn.Conv2d(in_channels=hidden_units,\n",
        "                  out_channels=hidden_units,\n",
        "                  kernel_size=3, # often also referred to as filter size, refers to the dimensions of the sliding window over the input. can be tuple, ex:(3, 3)\n",
        "                  stride=1, # indicates how many pixels the kernel should be shifted over at a time.\n",
        "                  padding=1 # By adding padding, the model retains information from the edges of the input data, which would otherwise be lost without padding.\n",
        "                  ),\n",
        "        nn.ReLU(),\n",
        "        nn.Conv2d(in_channels=hidden_units,\n",
        "                  out_channels=hidden_units,\n",
        "                  kernel_size=3, # often also referred to as filter size, refers to the dimensions of the sliding window over the input. can be tuple, ex:(3, 3)\n",
        "                  stride=1, # indicates how many pixels the kernel should be shifted over at a time.\n",
        "                  padding=1 # By adding padding, the model retains information from the edges of the input data, which would otherwise be lost without padding.\n",
        "                  ),\n",
        "        nn.ReLU(),\n",
        "        nn.MaxPool2d(kernel_size=2,\n",
        "                     stride=2\n",
        "                     ), # stride by default is the same as kernel size\n",
        "        nn.Dropout(p=0.5) #  Dropout with a 50% drop rate\n",
        "    )\n",
        "    self.conv_block_3 = nn.Sequential(\n",
        "        # Create conv layer\n",
        "        nn.Conv2d(in_channels=hidden_units,\n",
        "                  out_channels=hidden_units,\n",
        "                  kernel_size=3, # often also referred to as filter size, refers to the dimensions of the sliding window over the input. can be tuple, ex:(3, 3)\n",
        "                  stride=1, # indicates how many pixels the kernel should be shifted over at a time.\n",
        "                  padding=0 # By adding padding, the model retains information from the edges of the input data, which would otherwise be lost without padding.\n",
        "                  ),\n",
        "        nn.ReLU(),\n",
        "        nn.Conv2d(in_channels=hidden_units,\n",
        "                  out_channels=hidden_units,\n",
        "                  kernel_size=3, # often also referred to as filter size, refers to the dimensions of the sliding window over the input. can be tuple, ex:(3, 3)\n",
        "                  stride=1, # indicates how many pixels the kernel should be shifted over at a time.\n",
        "                  padding=0 # By adding padding, the model retains information from the edges of the input data, which would otherwise be lost without padding.\n",
        "                  ),\n",
        "        nn.ReLU(),\n",
        "        nn.MaxPool2d(kernel_size=2,\n",
        "                     stride=2\n",
        "                     ), # stride by default is the same as kernel size\n",
        "        nn.Dropout(p=0.5)  # Dropout with a 70% drop rate\n",
        "    )\n",
        "    self.classifier = nn.Sequential(\n",
        "        nn.Flatten(),\n",
        "        nn.Linear(in_features=hidden_units*256, out_features=output_shape) # 7*7 = 49 which is the shape when the image compressed is flatten\n",
        "    )\n",
        "  def forward(self, x: torch.Tensor)-> torch.Tensor:\n",
        "    return self.classifier(self.conv_block_2(self.conv_block_1(x))) #benefited from operator fusion which behind the scene speeds up how GPU perform computation cuz its 1 step\n",
        "    # https://horace.io/brrr_intro.html"
      ],
      "metadata": {
        "id": "MFq4E4VHGWqJ"
      },
      "execution_count": 13,
      "outputs": []
    },
    {
      "cell_type": "code",
      "source": [
        "import torch\n",
        "\n",
        "device = \"cuda\" if torch.cuda.is_available() else \"cpu\"\n",
        "\n",
        "# Instantiate an instance of the model\n",
        "torch.manual_seed(42)\n",
        "model_0 = TinyVGG(input_shape=3, # Number of color channels\n",
        "                  hidden_units=10,\n",
        "                  output_shape=len(train_data.classes)\n",
        "                  ).to(device)\n",
        "model_0"
      ],
      "metadata": {
        "colab": {
          "base_uri": "https://localhost:8080/"
        },
        "id": "NCRAiYn0HvXc",
        "outputId": "755d47dc-ba30-4c72-8818-028f112eaa7d"
      },
      "execution_count": 14,
      "outputs": [
        {
          "output_type": "execute_result",
          "data": {
            "text/plain": [
              "TinyVGG(\n",
              "  (conv_block_1): Sequential(\n",
              "    (0): Conv2d(3, 10, kernel_size=(3, 3), stride=(1, 1), padding=(1, 1))\n",
              "    (1): ReLU()\n",
              "    (2): Conv2d(10, 10, kernel_size=(3, 3), stride=(1, 1), padding=(1, 1))\n",
              "    (3): ReLU()\n",
              "    (4): MaxPool2d(kernel_size=2, stride=2, padding=0, dilation=1, ceil_mode=False)\n",
              "  )\n",
              "  (conv_block_2): Sequential(\n",
              "    (0): Conv2d(10, 10, kernel_size=(3, 3), stride=(1, 1), padding=(1, 1))\n",
              "    (1): ReLU()\n",
              "    (2): Conv2d(10, 10, kernel_size=(3, 3), stride=(1, 1), padding=(1, 1))\n",
              "    (3): ReLU()\n",
              "    (4): MaxPool2d(kernel_size=2, stride=2, padding=0, dilation=1, ceil_mode=False)\n",
              "    (5): Dropout(p=0.5, inplace=False)\n",
              "  )\n",
              "  (conv_block_3): Sequential(\n",
              "    (0): Conv2d(10, 10, kernel_size=(3, 3), stride=(1, 1))\n",
              "    (1): ReLU()\n",
              "    (2): Conv2d(10, 10, kernel_size=(3, 3), stride=(1, 1))\n",
              "    (3): ReLU()\n",
              "    (4): MaxPool2d(kernel_size=2, stride=2, padding=0, dilation=1, ceil_mode=False)\n",
              "    (5): Dropout(p=0.5, inplace=False)\n",
              "  )\n",
              "  (classifier): Sequential(\n",
              "    (0): Flatten(start_dim=1, end_dim=-1)\n",
              "    (1): Linear(in_features=2560, out_features=3, bias=True)\n",
              "  )\n",
              ")"
            ]
          },
          "metadata": {},
          "execution_count": 14
        }
      ]
    },
    {
      "cell_type": "markdown",
      "source": [
        "Test model to findout hidden units multiplier"
      ],
      "metadata": {
        "id": "DoygwwPSIYxs"
      }
    },
    {
      "cell_type": "code",
      "source": [
        "model_0(torch.rand(32, 3, 64, 64))"
      ],
      "metadata": {
        "colab": {
          "base_uri": "https://localhost:8080/"
        },
        "id": "QpgTMoJVJJiD",
        "outputId": "5df5d756-e72e-4444-e30e-31194e0ba48e"
      },
      "execution_count": 15,
      "outputs": [
        {
          "output_type": "execute_result",
          "data": {
            "text/plain": [
              "tensor([[ 0.1059,  0.0129, -0.0421],\n",
              "        [ 0.1535,  0.0974, -0.0370],\n",
              "        [ 0.0771,  0.0868, -0.0420],\n",
              "        [ 0.0931,  0.0689, -0.0556],\n",
              "        [ 0.1371,  0.0842, -0.0777],\n",
              "        [ 0.1921,  0.0949, -0.0642],\n",
              "        [ 0.1087,  0.0879, -0.0184],\n",
              "        [ 0.0616,  0.0558,  0.0500],\n",
              "        [ 0.1418,  0.0835, -0.0375],\n",
              "        [ 0.0674,  0.0551,  0.0418],\n",
              "        [ 0.0371,  0.0586, -0.0039],\n",
              "        [ 0.1247, -0.0251, -0.0630],\n",
              "        [ 0.1439,  0.0608, -0.0080],\n",
              "        [ 0.0777, -0.0011, -0.0322],\n",
              "        [ 0.0924,  0.0426, -0.0968],\n",
              "        [ 0.1371,  0.0066,  0.0206],\n",
              "        [ 0.1536,  0.0305, -0.0034],\n",
              "        [ 0.0306,  0.0519, -0.0604],\n",
              "        [ 0.1213, -0.0399, -0.0572],\n",
              "        [ 0.0982,  0.0312, -0.0471],\n",
              "        [ 0.1145,  0.0631, -0.0237],\n",
              "        [ 0.0958, -0.0088, -0.0083],\n",
              "        [ 0.1022,  0.0277, -0.0432],\n",
              "        [ 0.0733,  0.0229, -0.0520],\n",
              "        [ 0.0052,  0.0044,  0.0320],\n",
              "        [ 0.0649, -0.0048, -0.0271],\n",
              "        [ 0.1781,  0.0445,  0.0084],\n",
              "        [ 0.0864,  0.0008, -0.0856],\n",
              "        [ 0.0782,  0.0077,  0.0071],\n",
              "        [ 0.0574,  0.0242,  0.0126],\n",
              "        [ 0.1418,  0.0342, -0.0018],\n",
              "        [ 0.0686,  0.0485,  0.0003]], grad_fn=<AddmmBackward0>)"
            ]
          },
          "metadata": {},
          "execution_count": 15
        }
      ]
    },
    {
      "cell_type": "markdown",
      "source": [
        "## 3.1 Making a model (TinyVGG) with a script (`model_builder.py`)"
      ],
      "metadata": {
        "id": "yBUNO4SgJntY"
      }
    },
    {
      "cell_type": "markdown",
      "source": [
        "Lets turn our model building code into Python script so we can import"
      ],
      "metadata": {
        "id": "cpL6ywIkKW-N"
      }
    },
    {
      "cell_type": "code",
      "source": [
        "%%writefile going_modular/model_builder.py\n",
        "\"\"\"\n",
        "Contains PyTorch model code to instantiate a TinyVGG model from CNN explainer website\n",
        "\"\"\"\n",
        "import torch\n",
        "\n",
        "from torch import nn\n",
        "\n",
        "class TinyVGG(nn.Module):\n",
        "  \"\"\"\n",
        "  Model architecture that replicates the TinyVGG\n",
        "  model from CNN explainer website  https://poloclub.github.io/cnn-explainer/\n",
        "\n",
        "  Args:\n",
        "    input_shape: An integer indicating number of input channels.\n",
        "    hidden_units: An integer indicating number of hidden units between layers.\n",
        "    output_shape: An integer indicating number of output units.\n",
        "  \"\"\"\n",
        "  def __init__(self,\n",
        "               input_shape: int,\n",
        "               hidden_units: int,\n",
        "               output_shape: int\n",
        "               ):\n",
        "    super().__init__()\n",
        "    self.conv_block_1 = nn.Sequential(\n",
        "        # Create conv layer\n",
        "        nn.Conv2d(in_channels=input_shape,\n",
        "                  out_channels=hidden_units,\n",
        "                  kernel_size=3, # often also referred to as filter size, refers to the dimensions of the sliding window over the input. can be tuple, ex:(3, 3)\n",
        "                  stride=1, # indicates how many pixels the kernel should be shifted over at a time.\n",
        "                  padding=1 # By adding padding, the model retains information from the edges of the input data, which would otherwise be lost without padding.\n",
        "                  ),\n",
        "        nn.ReLU(),\n",
        "        nn.Conv2d(in_channels=hidden_units,\n",
        "                  out_channels=hidden_units,\n",
        "                  kernel_size=3, # often also referred to as filter size, refers to the dimensions of the sliding window over the input. can be tuple, ex:(3, 3)\n",
        "                  stride=1, # indicates how many pixels the kernel should be shifted over at a time.\n",
        "                  padding=1 # By adding padding, the model retains information from the edges of the input data, which would otherwise be lost without padding.\n",
        "                  ),\n",
        "        nn.ReLU(),\n",
        "        nn.MaxPool2d(kernel_size=2,\n",
        "                     stride=2\n",
        "                     ), # stride by default is the same as kernel size\n",
        "        #nn.Dropout(p=0.5)#   Dropout with a 70% drop rate\n",
        "    )\n",
        "\n",
        "    self.conv_block_2 = nn.Sequential(\n",
        "        # Create conv layer\n",
        "        nn.Conv2d(in_channels=hidden_units,\n",
        "                  out_channels=hidden_units,\n",
        "                  kernel_size=3, # often also referred to as filter size, refers to the dimensions of the sliding window over the input. can be tuple, ex:(3, 3)\n",
        "                  stride=1, # indicates how many pixels the kernel should be shifted over at a time.\n",
        "                  padding=1 # By adding padding, the model retains information from the edges of the input data, which would otherwise be lost without padding.\n",
        "                  ),\n",
        "        nn.ReLU(),\n",
        "        nn.Conv2d(in_channels=hidden_units,\n",
        "                  out_channels=hidden_units,\n",
        "                  kernel_size=3, # often also referred to as filter size, refers to the dimensions of the sliding window over the input. can be tuple, ex:(3, 3)\n",
        "                  stride=1, # indicates how many pixels the kernel should be shifted over at a time.\n",
        "                  padding=1 # By adding padding, the model retains information from the edges of the input data, which would otherwise be lost without padding.\n",
        "                  ),\n",
        "        nn.ReLU(),\n",
        "        nn.MaxPool2d(kernel_size=2,\n",
        "                     stride=2\n",
        "                     ), # stride by default is the same as kernel size\n",
        "        nn.Dropout(p=0.5) #  Dropout with a 50% drop rate\n",
        "    )\n",
        "    self.conv_block_3 = nn.Sequential(\n",
        "        # Create conv layer\n",
        "        nn.Conv2d(in_channels=hidden_units,\n",
        "                  out_channels=hidden_units,\n",
        "                  kernel_size=3, # often also referred to as filter size, refers to the dimensions of the sliding window over the input. can be tuple, ex:(3, 3)\n",
        "                  stride=1, # indicates how many pixels the kernel should be shifted over at a time.\n",
        "                  padding=0 # By adding padding, the model retains information from the edges of the input data, which would otherwise be lost without padding.\n",
        "                  ),\n",
        "        nn.ReLU(),\n",
        "        nn.Conv2d(in_channels=hidden_units,\n",
        "                  out_channels=hidden_units,\n",
        "                  kernel_size=3, # often also referred to as filter size, refers to the dimensions of the sliding window over the input. can be tuple, ex:(3, 3)\n",
        "                  stride=1, # indicates how many pixels the kernel should be shifted over at a time.\n",
        "                  padding=0 # By adding padding, the model retains information from the edges of the input data, which would otherwise be lost without padding.\n",
        "                  ),\n",
        "        nn.ReLU(),\n",
        "        nn.MaxPool2d(kernel_size=2,\n",
        "                     stride=2\n",
        "                     ), # stride by default is the same as kernel size\n",
        "        nn.Dropout(p=0.5)  # Dropout with a 70% drop rate\n",
        "    )\n",
        "    self.classifier = nn.Sequential(\n",
        "        nn.Flatten(),\n",
        "        nn.Linear(in_features=hidden_units*256, out_features=output_shape) # 7*7 = 49 which is the shape when the image compressed is flatten\n",
        "    )\n",
        "  def forward(self, x: torch.Tensor)-> torch.Tensor:\n",
        "    return self.classifier(self.conv_block_2(self.conv_block_1(x))) #benefited from operator fusion which behind the scene speeds up how GPU perform computation cuz its 1 step\n",
        "    # https://horace.io/brrr_intro.html"
      ],
      "metadata": {
        "colab": {
          "base_uri": "https://localhost:8080/"
        },
        "id": "iK19VlFrJUaR",
        "outputId": "e17c0a8b-646b-4281-b002-2118fd5a9c96"
      },
      "execution_count": 16,
      "outputs": [
        {
          "output_type": "stream",
          "name": "stdout",
          "text": [
            "Writing going_modular/model_builder.py\n"
          ]
        }
      ]
    },
    {
      "cell_type": "code",
      "source": [
        "from going_modular import model_builder"
      ],
      "metadata": {
        "id": "Dfx7V7nyLZO8"
      },
      "execution_count": 17,
      "outputs": []
    },
    {
      "cell_type": "code",
      "source": [
        "import torch\n",
        "\n",
        "from going_modular import model_builder\n",
        "\n",
        "device = \"cuda\" if torch.cuda.is_available() else \"cpu\"\n",
        "\n",
        "# Instantiate a model from the model_builder.py script\n",
        "torch.manual_seed(42)\n",
        "model_1 = model_builder.TinyVGG(input_shape=3,\n",
        "                                hidden_units=10,\n",
        "                                output_shape=len(class_names)\n",
        "                                ).to(device)\n",
        "model_1"
      ],
      "metadata": {
        "colab": {
          "base_uri": "https://localhost:8080/"
        },
        "id": "xS-OmOUDLd4x",
        "outputId": "99dfd0ed-e57b-4f78-cdba-f053675c74a0"
      },
      "execution_count": 18,
      "outputs": [
        {
          "output_type": "execute_result",
          "data": {
            "text/plain": [
              "TinyVGG(\n",
              "  (conv_block_1): Sequential(\n",
              "    (0): Conv2d(3, 10, kernel_size=(3, 3), stride=(1, 1), padding=(1, 1))\n",
              "    (1): ReLU()\n",
              "    (2): Conv2d(10, 10, kernel_size=(3, 3), stride=(1, 1), padding=(1, 1))\n",
              "    (3): ReLU()\n",
              "    (4): MaxPool2d(kernel_size=2, stride=2, padding=0, dilation=1, ceil_mode=False)\n",
              "  )\n",
              "  (conv_block_2): Sequential(\n",
              "    (0): Conv2d(10, 10, kernel_size=(3, 3), stride=(1, 1), padding=(1, 1))\n",
              "    (1): ReLU()\n",
              "    (2): Conv2d(10, 10, kernel_size=(3, 3), stride=(1, 1), padding=(1, 1))\n",
              "    (3): ReLU()\n",
              "    (4): MaxPool2d(kernel_size=2, stride=2, padding=0, dilation=1, ceil_mode=False)\n",
              "    (5): Dropout(p=0.5, inplace=False)\n",
              "  )\n",
              "  (conv_block_3): Sequential(\n",
              "    (0): Conv2d(10, 10, kernel_size=(3, 3), stride=(1, 1))\n",
              "    (1): ReLU()\n",
              "    (2): Conv2d(10, 10, kernel_size=(3, 3), stride=(1, 1))\n",
              "    (3): ReLU()\n",
              "    (4): MaxPool2d(kernel_size=2, stride=2, padding=0, dilation=1, ceil_mode=False)\n",
              "    (5): Dropout(p=0.5, inplace=False)\n",
              "  )\n",
              "  (classifier): Sequential(\n",
              "    (0): Flatten(start_dim=1, end_dim=-1)\n",
              "    (1): Linear(in_features=2560, out_features=3, bias=True)\n",
              "  )\n",
              ")"
            ]
          },
          "metadata": {},
          "execution_count": 18
        }
      ]
    },
    {
      "cell_type": "code",
      "source": [
        "model_1(torch.rand(32, 3, 64, 64)).shape"
      ],
      "metadata": {
        "colab": {
          "base_uri": "https://localhost:8080/"
        },
        "id": "nctfqD7vMOxZ",
        "outputId": "77fd736c-1a92-4208-879e-e535bc84804c"
      },
      "execution_count": 19,
      "outputs": [
        {
          "output_type": "execute_result",
          "data": {
            "text/plain": [
              "torch.Size([32, 3])"
            ]
          },
          "metadata": {},
          "execution_count": 19
        }
      ]
    },
    {
      "cell_type": "markdown",
      "source": [
        "## 4. Creating `train_step()` and `test_step()` functions and `train()` to combine them"
      ],
      "metadata": {
        "id": "OkkE_U1RMwZx"
      }
    },
    {
      "cell_type": "code",
      "source": [
        "from typing import Dict, List, Tuple"
      ],
      "metadata": {
        "id": "Y7UO-boqOrh6"
      },
      "execution_count": 20,
      "outputs": []
    },
    {
      "cell_type": "code",
      "source": [
        "def train_step(model: torch.nn.Module,\n",
        "               dataloader: torch.utils.data.DataLoader,\n",
        "               loss_fn: torch.nn.Module,\n",
        "               optimizer: torch.optim.Optimizer,\n",
        "               device: torch.device = device\n",
        "               ):\n",
        "  \"\"\"Trains a PyTorch model for a single epoch.\n",
        "\n",
        "  Turns a target PyTorch model to training mode and then\n",
        "  runs through all of the required training steps (forward\n",
        "  pass, loss calculation, optimizer step).\n",
        "\n",
        "  Args:\n",
        "    model: A PyTorch model to be trained.\n",
        "    dataloader: A DataLoader instance for the model to be trained on.\n",
        "    loss_fn: A PyTorch loss function to minimize.\n",
        "    optimizer: A PyTorch optimizer to help minimize the loss function.\n",
        "    device: A target device to compute on (e.g. \"cuda\" or \"cpu\").\n",
        "\n",
        "  Returns:\n",
        "    A tuple of training loss and training accuracy metrics.\n",
        "    In the form (train_loss, train_accuracy). For example:\n",
        "\n",
        "    (0.1112, 0.8743)\n",
        "  \"\"\"\n",
        "  ### Training\n",
        "  train_loss, train_acc = 0, 0\n",
        "  # Put model into training model\n",
        "  model.train()\n",
        "\n",
        "  # Add a loop to loop through the training batches\n",
        "  for batch, (X, y) in enumerate(dataloader):\n",
        "    X, y = X.to(device), y.to(device)\n",
        "    # 1. Forward pass\n",
        "    y_pred = model(X)\n",
        "\n",
        "    l1_lambda = 0.001\n",
        "    l1_norm = sum(p.abs().sum() for p in model.parameters()) # L1 reg\n",
        "\n",
        "    #2. Calculate loss\n",
        "    loss = loss_fn(y_pred, y)\n",
        "    train_loss += loss.item() # Accumulate train loss\n",
        "\n",
        "    # Calculate accuracy metric\n",
        "    y_pred_class = torch.argmax(torch.softmax(y_pred, dim=1), dim=1)\n",
        "    train_acc+= ((y_pred_class==y).sum().item()/len(y_pred)) * 100\n",
        "\n",
        "    #3. Optimizer zero grad\n",
        "    optimizer.zero_grad()\n",
        "\n",
        "    #4. Loss backward\n",
        "    loss.backward()\n",
        "\n",
        "    #5. Optimizer step\n",
        "    optimizer.step()\n",
        "\n",
        "    #if(batch % 2 == 0):\n",
        "    #  print(f\"Looked at {batch * len(X)} samples out of {len(train_dataloader.dataset)} samples\")\n",
        "\n",
        "  # Divide total train loss by length of train dataloader\n",
        "  train_loss /= len(dataloader) # Average loss per batch\n",
        "\n",
        "  # Average accuracy per batch\n",
        "  train_acc /= len(dataloader)\n",
        "\n",
        "  print(f\"\\nTrain loss: {train_loss:.4f} , Train accuracy: {train_acc:.4f}% \")\n",
        "  return train_loss, train_acc\n",
        ""
      ],
      "metadata": {
        "id": "xeMJ3CgmMZmm"
      },
      "execution_count": 21,
      "outputs": []
    },
    {
      "cell_type": "code",
      "source": [
        "def test_step(model: torch.nn.Module,\n",
        "               dataloader: torch.utils.data.DataLoader,\n",
        "               loss_fn: torch.nn.Module,\n",
        "               device: torch.device = device\n",
        "              ):\n",
        "  \"\"\"Tests a PyTorch model for a single epoch.\n",
        "\n",
        "  Turns a target PyTorch model to \"eval\" mode and then performs\n",
        "  a forward pass on a testing dataset.\n",
        "\n",
        "  Args:\n",
        "    model: A PyTorch model to be tested.\n",
        "    dataloader: A DataLoader instance for the model to be tested on.\n",
        "    loss_fn: A PyTorch loss function to calculate loss on the test data.\n",
        "    device: A target device to compute on (e.g. \"cuda\" or \"cpu\").\n",
        "\n",
        "  Returns:\n",
        "    A tuple of testing loss and testing accuracy metrics.\n",
        "    In the form (test_loss, test_accuracy). For example:\n",
        "\n",
        "    (0.0223, 0.8985)\n",
        "  \"\"\"\n",
        "  ### Testing\n",
        "  test_loss, test_acc = 0, 0\n",
        "  model.eval()\n",
        "  with torch.inference_mode():\n",
        "    for X_test, y_test in dataloader:\n",
        "      X_test, y_test = X_test.to(device), y_test.to(device)\n",
        "\n",
        "      # 1. Forward pass\n",
        "      test_pred_logits = model(X_test)\n",
        "\n",
        "      #2. Calculate loss\n",
        "      loss = loss_fn(test_pred_logits, y_test)\n",
        "      test_loss += loss.item() # Accumulate test loss\n",
        "\n",
        "      # Calculate accuracy metric\n",
        "      #test_pred_labels = torch.argmax(torch.softmax(test_pred_logits, dim=1), dim=1)\n",
        "      #test_acc+= ((test_pred_labels==y_test).sum().item()/len(test_pred_logits)) * 100\n",
        "      test_pred_labels = test_pred_logits.argmax(dim=1) # another way of doing it (?) further testing required\n",
        "      test_acc+= ((test_pred_labels==y_test).sum().item()/len(test_pred_labels)) * 100\n",
        "\n",
        "    # Average loss per batch\n",
        "    test_loss /= len(dataloader)\n",
        "\n",
        "    # Average accuracy per batch\n",
        "    test_acc /= len(dataloader)\n",
        "\n",
        "  print(f\"Test loss: {test_loss:.4f}, Test accuracy: {test_acc:.4f}%\\n\")\n",
        "  return test_loss, test_acc"
      ],
      "metadata": {
        "id": "4z8euWyCNWEs"
      },
      "execution_count": 22,
      "outputs": []
    },
    {
      "cell_type": "code",
      "source": [
        "# Import tqdm for progress bar\n",
        "# tqdm.auto recognize computer enviroment we use and give the best type progress bar, ex: jupyter notebook bar differ from python script\n",
        "from tqdm.auto import tqdm\n",
        "def train(model: torch.nn.Module,\n",
        "            train_dataloader: torch.utils.data.DataLoader,\n",
        "            test_dataloader: torch.utils.data.DataLoader,\n",
        "            loss_fn: torch.nn.Module,\n",
        "            optimizer: torch.optim.Optimizer,\n",
        "            device: torch.device = device,\n",
        "            epochs: int = 5\n",
        "          ):\n",
        "  \"\"\"Trains and tests a PyTorch model.\n",
        "\n",
        "  Passes a target PyTorch models through train_step() and test_step()\n",
        "  functions for a number of epochs, training and testing the model\n",
        "  in the same epoch loop.\n",
        "\n",
        "  Calculates, prints and stores evaluation metrics throughout.\n",
        "\n",
        "  Args:\n",
        "    model: A PyTorch model to be trained and tested.\n",
        "    train_dataloader: A DataLoader instance for the model to be trained on.\n",
        "    test_dataloader: A DataLoader instance for the model to be tested on.\n",
        "    optimizer: A PyTorch optimizer to help minimize the loss function.\n",
        "    loss_fn: A PyTorch loss function to calculate loss on both datasets.\n",
        "    epochs: An integer indicating how many epochs to train for.\n",
        "    device: A target device to compute on (e.g. \"cuda\" or \"cpu\").\n",
        "\n",
        "  Returns:\n",
        "    A dictionary of training and testing loss as well as training and\n",
        "    testing accuracy metrics. Each metric has a value in a list for\n",
        "    each epoch.\n",
        "    In the form: {train_loss: [...],\n",
        "                  train_acc: [...],\n",
        "                  test_loss: [...],\n",
        "                  test_acc: [...]}\n",
        "    For example if training for epochs=2:\n",
        "                 {train_loss: [2.0616, 1.0537],\n",
        "                  train_acc: [0.3945, 0.3945],\n",
        "                  test_loss: [1.2641, 1.5706],\n",
        "                  test_acc: [0.3400, 0.2973]}\n",
        "  \"\"\"\n",
        "  results = {\n",
        "      \"train_loss\": [],\n",
        "      \"train_acc\": [],\n",
        "      \"test_loss\": [],\n",
        "      \"test_acc\": []\n",
        "  }\n",
        "\n",
        "  # Create training and test loop\n",
        "  for epoch in tqdm(range(epochs)): # the way tqdm works is to wrap our iterator in tqdm\n",
        "    print(f\"Epoch: {epoch}\\n-----\")\n",
        "    train_loss, train_acc = train_step(model=model,\n",
        "               dataloader=train_dataloader,\n",
        "               loss_fn=loss_fn,\n",
        "               optimizer=optimizer)\n",
        "    model.eval()\n",
        "    test_loss, test_acc = test_step(model=model,\n",
        "              dataloader=test_dataloader,\n",
        "              loss_fn=loss_fn)\n",
        "\n",
        "    # Update result dictionary\n",
        "    train_loss = train_loss\n",
        "    #print(train_loss, train_acc, test_loss, test_acc)\n",
        "    results[\"train_loss\"].append(train_loss)#.cpu()\n",
        "    results[\"train_acc\"].append(train_acc)\n",
        "    results[\"test_loss\"].append(test_loss)#.cpu()\n",
        "    results[\"test_acc\"].append(test_acc)\n",
        "\n",
        "\n",
        "  return results\n"
      ],
      "metadata": {
        "id": "ybXr08XVNwaq"
      },
      "execution_count": 23,
      "outputs": []
    },
    {
      "cell_type": "markdown",
      "source": [
        "## 4.1 Turn training functions into a script (`engine.py`)"
      ],
      "metadata": {
        "id": "TvDMWyvsQPYU"
      }
    },
    {
      "cell_type": "code",
      "source": [
        "%%writefile going_modular/engine.py\n",
        "\"\"\"\n",
        "Contains functions for training and testing a PyTorch model.\n",
        "\"\"\"\n",
        "from typing import Dict, List, Tuple\n",
        "\n",
        "import torch\n",
        "\n",
        "# Import tqdm for progress bar\n",
        "# tqdm.auto recognize computer enviroment we use and give the best type progress bar, ex: jupyter notebook bar differ from python script\n",
        "from tqdm.auto import tqdm\n",
        "\n",
        "device = \"cuda\" if torch.cuda.is_available() else \"cpu\"\n",
        "\n",
        "def train_step(model: torch.nn.Module,\n",
        "               dataloader: torch.utils.data.DataLoader,\n",
        "               loss_fn: torch.nn.Module,\n",
        "               optimizer: torch.optim.Optimizer,\n",
        "               device: torch.device = device\n",
        "               ):\n",
        "  \"\"\"Trains a PyTorch model for a single epoch.\n",
        "\n",
        "  Turns a target PyTorch model to training mode and then\n",
        "  runs through all of the required training steps (forward\n",
        "  pass, loss calculation, optimizer step).\n",
        "\n",
        "  Args:\n",
        "    model: A PyTorch model to be trained.\n",
        "    dataloader: A DataLoader instance for the model to be trained on.\n",
        "    loss_fn: A PyTorch loss function to minimize.\n",
        "    optimizer: A PyTorch optimizer to help minimize the loss function.\n",
        "    device: A target device to compute on (e.g. \"cuda\" or \"cpu\").\n",
        "\n",
        "  Returns:\n",
        "    A tuple of training loss and training accuracy metrics.\n",
        "    In the form (train_loss, train_accuracy). For example:\n",
        "\n",
        "    (0.1112, 0.8743)\n",
        "  \"\"\"\n",
        "  ### Training\n",
        "  train_loss, train_acc = 0, 0\n",
        "  # Put model into training model\n",
        "  model.train()\n",
        "\n",
        "  # Add a loop to loop through the training batches\n",
        "  for batch, (X, y) in enumerate(dataloader):\n",
        "    X, y = X.to(device), y.to(device)\n",
        "    # 1. Forward pass\n",
        "    y_pred = model(X)\n",
        "\n",
        "    l1_lambda = 0.001\n",
        "    l1_norm = sum(p.abs().sum() for p in model.parameters()) # L1 reg\n",
        "\n",
        "    #2. Calculate loss\n",
        "    loss = loss_fn(y_pred, y)\n",
        "    train_loss += loss.item() # Accumulate train loss\n",
        "\n",
        "    # Calculate accuracy metric\n",
        "    y_pred_class = torch.argmax(torch.softmax(y_pred, dim=1), dim=1)\n",
        "    train_acc+= ((y_pred_class==y).sum().item()/len(y_pred)) * 100\n",
        "\n",
        "    #3. Optimizer zero grad\n",
        "    optimizer.zero_grad()\n",
        "\n",
        "    #4. Loss backward\n",
        "    loss.backward()\n",
        "\n",
        "    #5. Optimizer step\n",
        "    optimizer.step()\n",
        "\n",
        "    #if(batch % 2 == 0):\n",
        "    #  print(f\"Looked at {batch * len(X)} samples out of {len(train_dataloader.dataset)} samples\")\n",
        "\n",
        "  # Divide total train loss by length of train dataloader\n",
        "  train_loss /= len(dataloader) # Average loss per batch\n",
        "\n",
        "  # Average accuracy per batch\n",
        "  train_acc /= len(dataloader)\n",
        "\n",
        "  print(f\"\\nTrain loss: {train_loss:.4f} , Train accuracy: {train_acc:.4f}% \")\n",
        "  return train_loss, train_acc\n",
        "\n",
        "def test_step(model: torch.nn.Module,\n",
        "               dataloader: torch.utils.data.DataLoader,\n",
        "               loss_fn: torch.nn.Module,\n",
        "               device: torch.device = device\n",
        "              ):\n",
        "  \"\"\"Tests a PyTorch model for a single epoch.\n",
        "\n",
        "  Turns a target PyTorch model to \"eval\" mode and then performs\n",
        "  a forward pass on a testing dataset.\n",
        "\n",
        "  Args:\n",
        "    model: A PyTorch model to be tested.\n",
        "    dataloader: A DataLoader instance for the model to be tested on.\n",
        "    loss_fn: A PyTorch loss function to calculate loss on the test data.\n",
        "    device: A target device to compute on (e.g. \"cuda\" or \"cpu\").\n",
        "\n",
        "  Returns:\n",
        "    A tuple of testing loss and testing accuracy metrics.\n",
        "    In the form (test_loss, test_accuracy). For example:\n",
        "\n",
        "    (0.0223, 0.8985)\n",
        "  \"\"\"\n",
        "  ### Testing\n",
        "  test_loss, test_acc = 0, 0\n",
        "  model.eval()\n",
        "  with torch.inference_mode():\n",
        "    for X_test, y_test in dataloader:\n",
        "      X_test, y_test = X_test.to(device), y_test.to(device)\n",
        "\n",
        "      # 1. Forward pass\n",
        "      test_pred_logits = model(X_test)\n",
        "\n",
        "      #2. Calculate loss\n",
        "      loss = loss_fn(test_pred_logits, y_test)\n",
        "      test_loss += loss.item() # Accumulate test loss\n",
        "\n",
        "      # Calculate accuracy metric\n",
        "      #test_pred_labels = torch.argmax(torch.softmax(test_pred_logits, dim=1), dim=1)\n",
        "      #test_acc+= ((test_pred_labels==y_test).sum().item()/len(test_pred_logits)) * 100\n",
        "      test_pred_labels = test_pred_logits.argmax(dim=1) # another way of doing it (?) further testing required\n",
        "      test_acc+= ((test_pred_labels==y_test).sum().item()/len(test_pred_labels)) * 100\n",
        "\n",
        "    # Average loss per batch\n",
        "    test_loss /= len(dataloader)\n",
        "\n",
        "    # Average accuracy per batch\n",
        "    test_acc /= len(dataloader)\n",
        "\n",
        "  print(f\"Test loss: {test_loss:.4f}, Test accuracy: {test_acc:.4f}%\\n\")\n",
        "  return test_loss, test_acc\n",
        "\n",
        "def train(model: torch.nn.Module,\n",
        "            train_dataloader: torch.utils.data.DataLoader,\n",
        "            test_dataloader: torch.utils.data.DataLoader,\n",
        "            loss_fn: torch.nn.Module,\n",
        "            optimizer: torch.optim.Optimizer,\n",
        "            device: torch.device = device,\n",
        "            epochs: int = 5\n",
        "          ):\n",
        "  \"\"\"Trains and tests a PyTorch model.\n",
        "\n",
        "  Passes a target PyTorch models through train_step() and test_step()\n",
        "  functions for a number of epochs, training and testing the model\n",
        "  in the same epoch loop.\n",
        "\n",
        "  Calculates, prints and stores evaluation metrics throughout.\n",
        "\n",
        "  Args:\n",
        "    model: A PyTorch model to be trained and tested.\n",
        "    train_dataloader: A DataLoader instance for the model to be trained on.\n",
        "    test_dataloader: A DataLoader instance for the model to be tested on.\n",
        "    optimizer: A PyTorch optimizer to help minimize the loss function.\n",
        "    loss_fn: A PyTorch loss function to calculate loss on both datasets.\n",
        "    epochs: An integer indicating how many epochs to train for.\n",
        "    device: A target device to compute on (e.g. \"cuda\" or \"cpu\").\n",
        "\n",
        "  Returns:\n",
        "    A dictionary of training and testing loss as well as training and\n",
        "    testing accuracy metrics. Each metric has a value in a list for\n",
        "    each epoch.\n",
        "    In the form: {train_loss: [...],\n",
        "                  train_acc: [...],\n",
        "                  test_loss: [...],\n",
        "                  test_acc: [...]}\n",
        "    For example if training for epochs=2:\n",
        "                 {train_loss: [2.0616, 1.0537],\n",
        "                  train_acc: [0.3945, 0.3945],\n",
        "                  test_loss: [1.2641, 1.5706],\n",
        "                  test_acc: [0.3400, 0.2973]}\n",
        "  \"\"\"\n",
        "  results = {\n",
        "      \"train_loss\": [],\n",
        "      \"train_acc\": [],\n",
        "      \"test_loss\": [],\n",
        "      \"test_acc\": []\n",
        "  }\n",
        "\n",
        "  # Create training and test loop\n",
        "  for epoch in tqdm(range(epochs)): # the way tqdm works is to wrap our iterator in tqdm\n",
        "    print(f\"Epoch: {epoch}\\n-----\")\n",
        "    train_loss, train_acc = train_step(model=model,\n",
        "               dataloader=train_dataloader,\n",
        "               loss_fn=loss_fn,\n",
        "               optimizer=optimizer)\n",
        "    model.eval()\n",
        "    test_loss, test_acc = test_step(model=model,\n",
        "              dataloader=test_dataloader,\n",
        "              loss_fn=loss_fn)\n",
        "\n",
        "    # Update result dictionary\n",
        "    train_loss = train_loss\n",
        "    #print(train_loss, train_acc, test_loss, test_acc)\n",
        "    results[\"train_loss\"].append(train_loss)#.cpu()\n",
        "    results[\"train_acc\"].append(train_acc)\n",
        "    results[\"test_loss\"].append(test_loss)#.cpu()\n",
        "    results[\"test_acc\"].append(test_acc)\n",
        "\n",
        "\n",
        "  return results\n"
      ],
      "metadata": {
        "colab": {
          "base_uri": "https://localhost:8080/"
        },
        "id": "RNe5UiFzQCOq",
        "outputId": "982b1a5e-38fe-4e11-b746-f70c349437b6"
      },
      "execution_count": 24,
      "outputs": [
        {
          "output_type": "stream",
          "name": "stdout",
          "text": [
            "Writing going_modular/engine.py\n"
          ]
        }
      ]
    },
    {
      "cell_type": "code",
      "source": [
        "from going_modular import engine"
      ],
      "metadata": {
        "id": "XTMd1sEeRscv"
      },
      "execution_count": 25,
      "outputs": []
    },
    {
      "cell_type": "markdown",
      "source": [
        "## 5. Creating a function to save the model\n",
        "\n",
        "Let's setup a function to save our model to a directory"
      ],
      "metadata": {
        "id": "9FUbMezcSAwD"
      }
    },
    {
      "cell_type": "code",
      "source": [
        "from pathlib import Path\n",
        "\n",
        "def save_model(model: torch.nn.Module,\n",
        "               target_dir: str,\n",
        "               model_name: str\n",
        "               ):\n",
        "  \"\"\"Saves a PyTorch model to a target directory.\n",
        "\n",
        "  Args:\n",
        "    model: A target PyTorch model to save.\n",
        "    target_dir: A directory for saving the model to.\n",
        "    model_name: A filename for the saved model. Should include\n",
        "      either \".pth\" or \".pt\" as the file extension.\n",
        "\n",
        "  Example usage:\n",
        "    save_model(model=model_0,\n",
        "               target_dir=\"models\",\n",
        "               model_name=\"05_going_modular_tingvgg_model.pth\")\n",
        "  \"\"\"\n",
        "  # Create target directory\n",
        "  target_dir_path = Path(target_dir)\n",
        "  target_dir_path.mkdir(parents=True,\n",
        "                        exist_ok=True\n",
        "                        )\n",
        "\n",
        "  # Create model save path\n",
        "  assert model_name.endswith(\".pth\") or model_name.endswith(\".pt\"), \"model_name should end with .pt or .pth\"\n",
        "  model_save_path = target_dir_path / model_name\n",
        "\n",
        "  # Save the model state_dict()\n",
        "  print(f\"[INFO] Saving model to: {model_save_path}\")\n",
        "  torch.save(obj=model.state_dict(),\n",
        "             f=model_save_path\n",
        "             )"
      ],
      "metadata": {
        "id": "A2HRhLetRxk9"
      },
      "execution_count": 26,
      "outputs": []
    },
    {
      "cell_type": "markdown",
      "source": [
        "## 5.1 Create a file called `utils.py` with utility functions\n",
        "\n",
        "\"utils\" in Python is generally reserved for various utility functions\n",
        "\n",
        "Right now we only have one utility function (`save_model()`) but as our code grows we likely have more..."
      ],
      "metadata": {
        "id": "OwboapZnUmVO"
      }
    },
    {
      "cell_type": "code",
      "source": [
        "%%writefile going_modular/utils.py\n",
        "\"\"\"\n",
        "File containing various utility functions for PyTorch model training\n",
        "\"\"\"\n",
        "\n",
        "import torch\n",
        "\n",
        "from pathlib import Path\n",
        "\n",
        "def save_model(model: torch.nn.Module,\n",
        "               target_dir: str,\n",
        "               model_name: str\n",
        "               ):\n",
        "  \"\"\"Saves a PyTorch model to a target directory.\n",
        "\n",
        "  Args:\n",
        "    model: A target PyTorch model to save.\n",
        "    target_dir: A directory for saving the model to.\n",
        "    model_name: A filename for the saved model. Should include\n",
        "      either \".pth\" or \".pt\" as the file extension.\n",
        "\n",
        "  Example usage:\n",
        "    save_model(model=model_0,\n",
        "               target_dir=\"models\",\n",
        "               model_name=\"05_going_modular_tingvgg_model.pth\")\n",
        "  \"\"\"\n",
        "  # Create target directory\n",
        "  target_dir_path = Path(target_dir)\n",
        "  target_dir_path.mkdir(parents=True,\n",
        "                        exist_ok=True\n",
        "                        )\n",
        "\n",
        "  # Create model save path\n",
        "  assert model_name.endswith(\".pth\") or model_name.endswith(\".pt\"), \"model_name should end with .pt or .pth\"\n",
        "  model_save_path = target_dir_path / model_name\n",
        "\n",
        "  # Save the model state_dict()\n",
        "  print(f\"[INFO] Saving model to: {model_save_path}\")\n",
        "  torch.save(obj=model.state_dict(),\n",
        "             f=model_save_path\n",
        "             )"
      ],
      "metadata": {
        "colab": {
          "base_uri": "https://localhost:8080/"
        },
        "id": "no8XIAnhUkL6",
        "outputId": "02817f62-01a9-45bc-edf1-96704a8c3ef4"
      },
      "execution_count": 27,
      "outputs": [
        {
          "output_type": "stream",
          "name": "stdout",
          "text": [
            "Writing going_modular/utils.py\n"
          ]
        }
      ]
    },
    {
      "cell_type": "markdown",
      "source": [
        "## 6. Train, evaluate and save the model\n",
        "\n",
        "Lets leverage the functions we've got above to train, test and save a model to a file"
      ],
      "metadata": {
        "id": "ul1W-USpVd4s"
      }
    },
    {
      "cell_type": "code",
      "source": [
        "# Set random seeds\n",
        "torch.manual_seed(42)\n",
        "torch.cuda.manual_seed(42)\n",
        "\n",
        "# Set number of epochs\n",
        "NUM_EPOCHS = 5\n",
        "\n",
        "# Recreate an instance of TinyVGG\n",
        "model_0 = TinyVGG(input_shape=3,\n",
        "                                hidden_units=10,\n",
        "                                output_shape=len(class_names)\n",
        "                                ).to(device)\n",
        "\n",
        "# Setup loss function and optimizer\n",
        "loss_fn = nn.CrossEntropyLoss()\n",
        "optimizer = torch.optim.Adam(params=model_0.parameters(), lr=0.001)\n",
        "\n",
        "# Start the timer\n",
        "from timeit import default_timer as timer\n",
        "start_time = timer()\n",
        "\n",
        "# Train model_0\n",
        "model_0_results = train(model=model_0,\n",
        "                        train_dataloader=train_dataloader,\n",
        "                        test_dataloader=test_dataloader,\n",
        "                        optimizer=optimizer,\n",
        "                        loss_fn=loss_fn,\n",
        "                        epochs=NUM_EPOCHS,\n",
        "                        device=device)\n",
        "\n",
        "# End timer and print how long it took to train and test\n",
        "end_time = timer()\n",
        "print(f\"[INFO] Total training time: {end_time-start_time:.3f} seconds\")\n",
        "\n",
        "# Save the model\n",
        "save_model(model=model_0,\n",
        "           target_dir=\"models\",\n",
        "           model_name=\"05_going_modular_script_mode_tinyvgg_model.pth\")"
      ],
      "metadata": {
        "colab": {
          "base_uri": "https://localhost:8080/",
          "height": 624,
          "referenced_widgets": [
            "edd083b1715b4a3983a6f0518ba9dbc2",
            "8855c4298fda405ba18f500c29213415",
            "2024df471218498792b2663e764adce5",
            "523c78657bd94722941e9c81f7f6cd28",
            "6eac04bae33447b5a655964794d3e0d4",
            "64349dee113941e8bfd52e1117505506",
            "4d28b08ab35d4418821a31ff496b2983",
            "fddb11daf2dc44f8b5ada8eb5246cf9b",
            "f83c77e8e92e4c4a97b5e89378d0e22f",
            "3ca5ef4ed32f4a08b2a1390d607d8b3b",
            "fed07ec0c049402997045b96001a1bbc"
          ]
        },
        "id": "S2B4Skf8VcWx",
        "outputId": "84338fa0-01d3-43b2-e8ed-d507513e3a1f"
      },
      "execution_count": 28,
      "outputs": [
        {
          "output_type": "display_data",
          "data": {
            "text/plain": [
              "  0%|          | 0/5 [00:00<?, ?it/s]"
            ],
            "application/vnd.jupyter.widget-view+json": {
              "version_major": 2,
              "version_minor": 0,
              "model_id": "edd083b1715b4a3983a6f0518ba9dbc2"
            }
          },
          "metadata": {}
        },
        {
          "output_type": "stream",
          "name": "stdout",
          "text": [
            "Epoch: 0\n",
            "-----\n",
            "\n",
            "Train loss: 1.1156 , Train accuracy: 26.9531% \n",
            "Test loss: 1.1084, Test accuracy: 26.0417%\n",
            "\n",
            "Epoch: 1\n",
            "-----\n",
            "\n",
            "Train loss: 1.0940 , Train accuracy: 41.4062% \n",
            "Test loss: 1.0824, Test accuracy: 54.1667%\n",
            "\n",
            "Epoch: 2\n",
            "-----\n",
            "\n",
            "Train loss: 1.1085 , Train accuracy: 28.9062% \n",
            "Test loss: 1.0632, Test accuracy: 54.1667%\n",
            "\n",
            "Epoch: 3\n",
            "-----\n",
            "\n",
            "Train loss: 1.0952 , Train accuracy: 37.8906% \n",
            "Test loss: 1.0779, Test accuracy: 54.1667%\n",
            "\n",
            "Epoch: 4\n",
            "-----\n",
            "\n",
            "Train loss: 1.0941 , Train accuracy: 27.3438% \n",
            "Test loss: 1.0732, Test accuracy: 48.2955%\n",
            "\n",
            "[INFO] Total training time: 12.429 seconds\n",
            "[INFO] Saving model to: models/05_going_modular_script_mode_tinyvgg_model.pth\n"
          ]
        }
      ]
    },
    {
      "cell_type": "markdown",
      "source": [
        "## 6.1 Train evaluate and save the model (script mode) -> `train.py`"
      ],
      "metadata": {
        "id": "lR4h6WZ58uZh"
      }
    },
    {
      "cell_type": "code",
      "source": [
        "%%writefile going_modular/train.py\n",
        "\"\"\"\n",
        "Trains a PyTorch image classification model using device agnostic code\n",
        "\"\"\"\n",
        "import os\n",
        "import torch\n",
        "\n",
        "from torchvision import transforms\n",
        "from timeit import default_timer as timer\n",
        "\n",
        "import data_setup, engine, model_builder, utils\n",
        "\n",
        "# Setup hyperparameters\n",
        "NUM_EPOCHS = 5\n",
        "BATCH_SIZE = 32\n",
        "HIDDEN_UNITS = 10\n",
        "LEARNING_RATE = 0.001\n",
        "\n",
        "# Setup directories\n",
        "train_dir = \"data/pizza_steak_sushi/train\"\n",
        "test_dir = \"data/pizza_steak_sushi/test\"\n",
        "\n",
        "# Setup device agnostic code\n",
        "device = \"cuda\" if torch.cuda.is_available() else \"cpu\"\n",
        "\n",
        "# Create transforms\n",
        "data_transform = transforms.Compose([\n",
        "    transforms.Resize((64, 64)),\n",
        "    transforms.ToTensor()\n",
        "])\n",
        "\n",
        "# Create DataLoader's and get class_names\n",
        "train_dataloader, test_dataloader, class_names = data_setup.create_dataloaders(train_dir=train_dir,\n",
        "                                                                               test_dir=test_dir,\n",
        "                                                                               transform=data_transform,\n",
        "                                                                               batch_size=BATCH_SIZE)\n",
        "\n",
        "# Create model\n",
        "model = model_builder.TinyVGG(input_shape=3,\n",
        "                              hidden_units=HIDDEN_UNITS,\n",
        "                              output_shape=len(class_names)\n",
        "                              ).to(device)\n",
        "\n",
        "# Setup loss and optimizer\n",
        "loss_fn = torch.nn.CrossEntropyLoss()\n",
        "optimizer = torch.optim.Adam(model.parameters(),\n",
        "                             lr=LEARNING_RATE\n",
        "                             )\n",
        "\n",
        "# Start the timer\n",
        "start_time = timer()\n",
        "\n",
        "# Start training with help from engine.py\n",
        "engine.train(model=model,\n",
        "             train_dataloader=train_dataloader,\n",
        "             test_dataloader=test_dataloader,\n",
        "             loss_fn=loss_fn,\n",
        "             optimizer=optimizer,\n",
        "             epochs=NUM_EPOCHS,\n",
        "             device=device)\n",
        "\n",
        "# End the timer and print out how long it took\n",
        "end_time = timer()\n",
        "print(f\"[INFO] Total training time: {end_time-start_time:.3f} seconds\")\n",
        "\n",
        "# Save the model to file\n",
        "utils.save_model(model=model,\n",
        "                 target_dir=\"models\",\n",
        "                 model_name=\"05_going_modular_script_mode_tinyvgg_model.pth\")"
      ],
      "metadata": {
        "colab": {
          "base_uri": "https://localhost:8080/"
        },
        "id": "dz_VjQTcXrWa",
        "outputId": "7a423e9c-0bd0-4254-c909-840f1b130419"
      },
      "execution_count": 29,
      "outputs": [
        {
          "output_type": "stream",
          "name": "stdout",
          "text": [
            "Writing going_modular/train.py\n"
          ]
        }
      ]
    },
    {
      "cell_type": "code",
      "source": [
        "!python going_modular/train.py # Run the script"
      ],
      "metadata": {
        "colab": {
          "base_uri": "https://localhost:8080/"
        },
        "id": "V9LRmeDD_8xh",
        "outputId": "6170cbaf-9543-4152-d503-143f25123582"
      },
      "execution_count": 31,
      "outputs": [
        {
          "output_type": "stream",
          "name": "stdout",
          "text": [
            "\r  0% 0/5 [00:00<?, ?it/s]Epoch: 0\n",
            "-----\n",
            "\n",
            "Train loss: 1.1102 , Train accuracy: 26.5625% \n",
            "Test loss: 1.1047, Test accuracy: 35.4167%\n",
            "\n",
            " 20% 1/5 [00:02<00:11,  2.95s/it]Epoch: 1\n",
            "-----\n",
            "\n",
            "Train loss: 1.0853 , Train accuracy: 42.5781% \n",
            "Test loss: 1.1328, Test accuracy: 19.7917%\n",
            "\n",
            " 40% 2/5 [00:06<00:09,  3.10s/it]Epoch: 2\n",
            "-----\n",
            "\n",
            "Train loss: 1.0991 , Train accuracy: 29.2969% \n",
            "Test loss: 1.1416, Test accuracy: 19.7917%\n",
            "\n",
            " 60% 3/5 [00:09<00:06,  3.14s/it]Epoch: 3\n",
            "-----\n",
            "\n",
            "Train loss: 1.0727 , Train accuracy: 45.7031% \n",
            "Test loss: 1.1271, Test accuracy: 25.0000%\n",
            "\n",
            " 80% 4/5 [00:11<00:02,  2.73s/it]Epoch: 4\n",
            "-----\n",
            "\n",
            "Train loss: 1.0749 , Train accuracy: 34.7656% \n",
            "Test loss: 1.1175, Test accuracy: 21.8750%\n",
            "\n",
            "100% 5/5 [00:13<00:00,  2.70s/it]\n",
            "[INFO] Total training time: 13.488 seconds\n",
            "[INFO] Saving model to: models/05_going_modular_script_mode_tinyvgg_model.pth\n"
          ]
        }
      ]
    },
    {
      "cell_type": "markdown",
      "source": [
        "# Exercise\n"
      ],
      "metadata": {
        "id": "cpIpDrfMC5es"
      }
    },
    {
      "cell_type": "code",
      "source": [
        "# Create a directory exercise scripts\n",
        "import os\n",
        "os.makedirs(\"exercise\")"
      ],
      "metadata": {
        "id": "FFPjQZtGETCf"
      },
      "execution_count": 33,
      "outputs": []
    },
    {
      "cell_type": "code",
      "source": [
        "%%writefile exercise/get_data.py\n",
        "\"\"\"\n",
        "Get image data from github repo\n",
        "\"\"\"\n",
        "import os\n",
        "import zipfile\n",
        "\n",
        "from pathlib import Path\n",
        "\n",
        "import requests\n",
        "\n",
        "# Setup path to data folder\n",
        "data_path = Path(\"data/\")\n",
        "image_path = data_path / \"pizza_steak_sushi\"\n",
        "\n",
        "# If image folder doesn't exist, download and prepare it\n",
        "if image_path.is_dir():\n",
        "  print(f\"{image_path} directory exists.\")\n",
        "else:\n",
        "  print(f\"Didn't find {image_path} directory, creating one...\")\n",
        "  image_path.mkdir(parents=True, exist_ok=True)\n",
        "\n",
        "# Download pizza, steak, sushi data\n",
        "with open(data_path / \"pizza_steak_sushi.zip\", \"wb\") as f:\n",
        "  request = requests.get(\"https://github.com/mrdbourke/pytorch-deep-learning/raw/main/data/pizza_steak_sushi.zip\")\n",
        "  print(\"Downloading pizza, steak, sushi data...\")\n",
        "  f.write(request.content)\n",
        "\n",
        "# Unzip pizza, steak, sushi data\n",
        "with zipfile.ZipFile(data_path / \"pizza_steak_sushi.zip\", \"r\") as zip_ref:\n",
        "  print(\"Unzipping pizza, steak, sushi data...\")\n",
        "  zip_ref.extractall(image_path)\n",
        "\n",
        "# Remove zip file (we already extract it)\n",
        "os.remove(data_path / \"pizza_steak_sushi.zip\")"
      ],
      "metadata": {
        "colab": {
          "base_uri": "https://localhost:8080/"
        },
        "id": "6PGEjCcWAXx6",
        "outputId": "8b2c240f-c75f-470b-d96c-0227db18512a"
      },
      "execution_count": 34,
      "outputs": [
        {
          "output_type": "stream",
          "name": "stdout",
          "text": [
            "Writing exercise/get_data.py\n"
          ]
        }
      ]
    },
    {
      "cell_type": "code",
      "source": [
        "!python exercise/get_data.py # Run the script"
      ],
      "metadata": {
        "colab": {
          "base_uri": "https://localhost:8080/"
        },
        "id": "aAMuSW8IEMGQ",
        "outputId": "fddcfdb9-e2c1-4dd6-c063-e29a04596f5d"
      },
      "execution_count": 35,
      "outputs": [
        {
          "output_type": "stream",
          "name": "stdout",
          "text": [
            "data/pizza_steak_sushi directory exists.\n",
            "Downloading pizza, steak, sushi data...\n",
            "Unzipping pizza, steak, sushi data...\n"
          ]
        }
      ]
    },
    {
      "cell_type": "code",
      "source": [
        "%%writefile exercise/data_setup.py\n",
        "\"\"\"\n",
        "Contains functionality for creating PyTorch DataLoader's for image\n",
        "classification data.\n",
        "\"\"\"\n",
        "\n",
        "import os\n",
        "\n",
        "from torchvision import datasets, transforms\n",
        "from torch.utils.data import DataLoader\n",
        "\n",
        "NUM_WORKERS = os.cpu_count()\n",
        "\n",
        "def create_dataloaders(\n",
        "    train_dir: str,\n",
        "    test_dir: str,\n",
        "    transform: transforms.Compose,\n",
        "    batch_size: int,\n",
        "    num_workers: int = NUM_WORKERS\n",
        "):\n",
        "  \"\"\"Creates training and testing DataLoaders.\n",
        "\n",
        "  Takes in a training directory and testing directroy path and turns them into\n",
        "  PyTorch Datasets and then into PyTorch DataLoaders.\n",
        "\n",
        "  Args:\n",
        "    train_dir: Path to training directory.\n",
        "    test_dir: Path to testing directory.\n",
        "    transform: torchvision transforms to perform on training and testing data.\n",
        "    batch_size: Number of samples per batch in each of the DataLoaders.\n",
        "    num_workers: An integer for number of workers per DataLoader.\n",
        "\n",
        "  Returns:\n",
        "    A tuple of (train_dataloader, test_dataloader, class_names).\n",
        "    Where class_names is a list of the target classes.\n",
        "    Example usage:\n",
        "      train_dataloader, test_dataloader, class_names = create_dataloaders(train_dir=path/to/train_dir,\n",
        "        test_dir=path/to/test_dir,\n",
        "        transform=some_transform,\n",
        "        batch_size=32,\n",
        "        num_workers=4)\n",
        "  \"\"\"\n",
        "\n",
        "  # Use ImageFolder to create dataset(s)\n",
        "  train_data = datasets.ImageFolder(root=train_dir, # target folder\n",
        "                                    transform=transform, # transform data\n",
        "                                    target_transform=None) # transform label (None since we use dir name as label)\n",
        "\n",
        "  # Use ImageFolder to create dataset(s)\n",
        "  test_data = datasets.ImageFolder(root=test_dir, # target folder\n",
        "                                    transform=transform, # transform data\n",
        "                                    target_transform=None) # transform label (None since we use dir name as label)\n",
        "\n",
        "  # Get class names\n",
        "  class_names = train_data.classes\n",
        "\n",
        "  # Turn images into DataLoaders\n",
        "  train_dataloader = DataLoader(dataset=train_data,\n",
        "                              batch_size=batch_size, # how many samples per batch\n",
        "                              num_workers=num_workers, # how many subprocesses to use for data loading?\n",
        "                              shuffle=True, # Shuffle data for training\n",
        "                              pin_memory=True # If True, the data loader will copy Tensors into device/CUDA pinned memory before returning them\n",
        "                              )\n",
        "  test_dataloader = DataLoader(dataset=test_data,\n",
        "                                batch_size=batch_size, # how many samples per batch\n",
        "                                num_workers=num_workers, # how many subprocesses to use for data loading?\n",
        "                                shuffle=False, # Not Shuffle data for test\n",
        "                                pin_memory=True # If True, the data loader will copy Tensors into device/CUDA pinned memory before returning them\n",
        "                                )\n",
        "\n",
        "  return train_dataloader, test_dataloader, class_names\n"
      ],
      "metadata": {
        "colab": {
          "base_uri": "https://localhost:8080/"
        },
        "id": "2aMxoTc0EeSh",
        "outputId": "1a24a5a2-8860-4671-b67d-afb6cf2c3db8"
      },
      "execution_count": 36,
      "outputs": [
        {
          "output_type": "stream",
          "name": "stdout",
          "text": [
            "Writing exercise/data_setup.py\n"
          ]
        }
      ]
    },
    {
      "cell_type": "code",
      "source": [
        "%%writefile exercise/model_builder.py\n",
        "\"\"\"\n",
        "Contains PyTorch model code to instantiate a TinyVGG model from CNN explainer website\n",
        "\"\"\"\n",
        "import torch\n",
        "\n",
        "from torch import nn\n",
        "\n",
        "class TinyVGG(nn.Module):\n",
        "  \"\"\"\n",
        "  Model architecture that replicates the TinyVGG\n",
        "  model from CNN explainer website  https://poloclub.github.io/cnn-explainer/\n",
        "\n",
        "  Args:\n",
        "    input_shape: An integer indicating number of input channels.\n",
        "    hidden_units: An integer indicating number of hidden units between layers.\n",
        "    output_shape: An integer indicating number of output units.\n",
        "  \"\"\"\n",
        "  def __init__(self,\n",
        "               input_shape: int,\n",
        "               hidden_units: int,\n",
        "               output_shape: int\n",
        "               ):\n",
        "    super().__init__()\n",
        "    self.conv_block_1 = nn.Sequential(\n",
        "        # Create conv layer\n",
        "        nn.Conv2d(in_channels=input_shape,\n",
        "                  out_channels=hidden_units,\n",
        "                  kernel_size=3, # often also referred to as filter size, refers to the dimensions of the sliding window over the input. can be tuple, ex:(3, 3)\n",
        "                  stride=1, # indicates how many pixels the kernel should be shifted over at a time.\n",
        "                  padding=1 # By adding padding, the model retains information from the edges of the input data, which would otherwise be lost without padding.\n",
        "                  ),\n",
        "        nn.ReLU(),\n",
        "        nn.Conv2d(in_channels=hidden_units,\n",
        "                  out_channels=hidden_units,\n",
        "                  kernel_size=3, # often also referred to as filter size, refers to the dimensions of the sliding window over the input. can be tuple, ex:(3, 3)\n",
        "                  stride=1, # indicates how many pixels the kernel should be shifted over at a time.\n",
        "                  padding=1 # By adding padding, the model retains information from the edges of the input data, which would otherwise be lost without padding.\n",
        "                  ),\n",
        "        nn.ReLU(),\n",
        "        nn.MaxPool2d(kernel_size=2,\n",
        "                     stride=2\n",
        "                     ), # stride by default is the same as kernel size\n",
        "        #nn.Dropout(p=0.5)#   Dropout with a 70% drop rate\n",
        "    )\n",
        "\n",
        "    self.conv_block_2 = nn.Sequential(\n",
        "        # Create conv layer\n",
        "        nn.Conv2d(in_channels=hidden_units,\n",
        "                  out_channels=hidden_units,\n",
        "                  kernel_size=3, # often also referred to as filter size, refers to the dimensions of the sliding window over the input. can be tuple, ex:(3, 3)\n",
        "                  stride=1, # indicates how many pixels the kernel should be shifted over at a time.\n",
        "                  padding=1 # By adding padding, the model retains information from the edges of the input data, which would otherwise be lost without padding.\n",
        "                  ),\n",
        "        nn.ReLU(),\n",
        "        nn.Conv2d(in_channels=hidden_units,\n",
        "                  out_channels=hidden_units,\n",
        "                  kernel_size=3, # often also referred to as filter size, refers to the dimensions of the sliding window over the input. can be tuple, ex:(3, 3)\n",
        "                  stride=1, # indicates how many pixels the kernel should be shifted over at a time.\n",
        "                  padding=1 # By adding padding, the model retains information from the edges of the input data, which would otherwise be lost without padding.\n",
        "                  ),\n",
        "        nn.ReLU(),\n",
        "        nn.MaxPool2d(kernel_size=2,\n",
        "                     stride=2\n",
        "                     ), # stride by default is the same as kernel size\n",
        "        nn.Dropout(p=0.5) #  Dropout with a 50% drop rate\n",
        "    )\n",
        "    self.conv_block_3 = nn.Sequential(\n",
        "        # Create conv layer\n",
        "        nn.Conv2d(in_channels=hidden_units,\n",
        "                  out_channels=hidden_units,\n",
        "                  kernel_size=3, # often also referred to as filter size, refers to the dimensions of the sliding window over the input. can be tuple, ex:(3, 3)\n",
        "                  stride=1, # indicates how many pixels the kernel should be shifted over at a time.\n",
        "                  padding=0 # By adding padding, the model retains information from the edges of the input data, which would otherwise be lost without padding.\n",
        "                  ),\n",
        "        nn.ReLU(),\n",
        "        nn.Conv2d(in_channels=hidden_units,\n",
        "                  out_channels=hidden_units,\n",
        "                  kernel_size=3, # often also referred to as filter size, refers to the dimensions of the sliding window over the input. can be tuple, ex:(3, 3)\n",
        "                  stride=1, # indicates how many pixels the kernel should be shifted over at a time.\n",
        "                  padding=0 # By adding padding, the model retains information from the edges of the input data, which would otherwise be lost without padding.\n",
        "                  ),\n",
        "        nn.ReLU(),\n",
        "        nn.MaxPool2d(kernel_size=2,\n",
        "                     stride=2\n",
        "                     ), # stride by default is the same as kernel size\n",
        "        nn.Dropout(p=0.5)  # Dropout with a 70% drop rate\n",
        "    )\n",
        "    self.classifier = nn.Sequential(\n",
        "        nn.Flatten(),\n",
        "        nn.Linear(in_features=hidden_units*256, out_features=output_shape) # 7*7 = 49 which is the shape when the image compressed is flatten\n",
        "    )\n",
        "  def forward(self, x: torch.Tensor)-> torch.Tensor:\n",
        "    return self.classifier(self.conv_block_2(self.conv_block_1(x))) #benefited from operator fusion which behind the scene speeds up how GPU perform computation cuz its 1 step\n",
        "    # https://horace.io/brrr_intro.html"
      ],
      "metadata": {
        "colab": {
          "base_uri": "https://localhost:8080/"
        },
        "id": "vQAkCEKMGOWS",
        "outputId": "e2eef758-c694-4c9b-80c5-c4318162093e"
      },
      "execution_count": 37,
      "outputs": [
        {
          "output_type": "stream",
          "name": "stdout",
          "text": [
            "Writing exercise/model_builder.py\n"
          ]
        }
      ]
    },
    {
      "cell_type": "code",
      "source": [
        "%%writefile exercise/engine.py\n",
        "\"\"\"\n",
        "Contains functions for training and testing a PyTorch model.\n",
        "\"\"\"\n",
        "from typing import Dict, List, Tuple\n",
        "\n",
        "import torch\n",
        "\n",
        "# Import tqdm for progress bar\n",
        "# tqdm.auto recognize computer enviroment we use and give the best type progress bar, ex: jupyter notebook bar differ from python script\n",
        "from tqdm.auto import tqdm\n",
        "\n",
        "device = \"cuda\" if torch.cuda.is_available() else \"cpu\"\n",
        "\n",
        "def train_step(model: torch.nn.Module,\n",
        "               dataloader: torch.utils.data.DataLoader,\n",
        "               loss_fn: torch.nn.Module,\n",
        "               optimizer: torch.optim.Optimizer,\n",
        "               device: torch.device = device\n",
        "               ):\n",
        "  \"\"\"Trains a PyTorch model for a single epoch.\n",
        "\n",
        "  Turns a target PyTorch model to training mode and then\n",
        "  runs through all of the required training steps (forward\n",
        "  pass, loss calculation, optimizer step).\n",
        "\n",
        "  Args:\n",
        "    model: A PyTorch model to be trained.\n",
        "    dataloader: A DataLoader instance for the model to be trained on.\n",
        "    loss_fn: A PyTorch loss function to minimize.\n",
        "    optimizer: A PyTorch optimizer to help minimize the loss function.\n",
        "    device: A target device to compute on (e.g. \"cuda\" or \"cpu\").\n",
        "\n",
        "  Returns:\n",
        "    A tuple of training loss and training accuracy metrics.\n",
        "    In the form (train_loss, train_accuracy). For example:\n",
        "\n",
        "    (0.1112, 0.8743)\n",
        "  \"\"\"\n",
        "  ### Training\n",
        "  train_loss, train_acc = 0, 0\n",
        "  # Put model into training model\n",
        "  model.train()\n",
        "\n",
        "  # Add a loop to loop through the training batches\n",
        "  for batch, (X, y) in enumerate(dataloader):\n",
        "    X, y = X.to(device), y.to(device)\n",
        "    # 1. Forward pass\n",
        "    y_pred = model(X)\n",
        "\n",
        "    l1_lambda = 0.001\n",
        "    l1_norm = sum(p.abs().sum() for p in model.parameters()) # L1 reg\n",
        "\n",
        "    #2. Calculate loss\n",
        "    loss = loss_fn(y_pred, y)\n",
        "    train_loss += loss.item() # Accumulate train loss\n",
        "\n",
        "    # Calculate accuracy metric\n",
        "    y_pred_class = torch.argmax(torch.softmax(y_pred, dim=1), dim=1)\n",
        "    train_acc+= ((y_pred_class==y).sum().item()/len(y_pred)) * 100\n",
        "\n",
        "    #3. Optimizer zero grad\n",
        "    optimizer.zero_grad()\n",
        "\n",
        "    #4. Loss backward\n",
        "    loss.backward()\n",
        "\n",
        "    #5. Optimizer step\n",
        "    optimizer.step()\n",
        "\n",
        "    #if(batch % 2 == 0):\n",
        "    #  print(f\"Looked at {batch * len(X)} samples out of {len(train_dataloader.dataset)} samples\")\n",
        "\n",
        "  # Divide total train loss by length of train dataloader\n",
        "  train_loss /= len(dataloader) # Average loss per batch\n",
        "\n",
        "  # Average accuracy per batch\n",
        "  train_acc /= len(dataloader)\n",
        "\n",
        "  print(f\"\\nTrain loss: {train_loss:.4f} , Train accuracy: {train_acc:.4f}% \")\n",
        "  return train_loss, train_acc\n",
        "\n",
        "def test_step(model: torch.nn.Module,\n",
        "               dataloader: torch.utils.data.DataLoader,\n",
        "               loss_fn: torch.nn.Module,\n",
        "               device: torch.device = device\n",
        "              ):\n",
        "  \"\"\"Tests a PyTorch model for a single epoch.\n",
        "\n",
        "  Turns a target PyTorch model to \"eval\" mode and then performs\n",
        "  a forward pass on a testing dataset.\n",
        "\n",
        "  Args:\n",
        "    model: A PyTorch model to be tested.\n",
        "    dataloader: A DataLoader instance for the model to be tested on.\n",
        "    loss_fn: A PyTorch loss function to calculate loss on the test data.\n",
        "    device: A target device to compute on (e.g. \"cuda\" or \"cpu\").\n",
        "\n",
        "  Returns:\n",
        "    A tuple of testing loss and testing accuracy metrics.\n",
        "    In the form (test_loss, test_accuracy). For example:\n",
        "\n",
        "    (0.0223, 0.8985)\n",
        "  \"\"\"\n",
        "  ### Testing\n",
        "  test_loss, test_acc = 0, 0\n",
        "  model.eval()\n",
        "  with torch.inference_mode():\n",
        "    for X_test, y_test in dataloader:\n",
        "      X_test, y_test = X_test.to(device), y_test.to(device)\n",
        "\n",
        "      # 1. Forward pass\n",
        "      test_pred_logits = model(X_test)\n",
        "\n",
        "      #2. Calculate loss\n",
        "      loss = loss_fn(test_pred_logits, y_test)\n",
        "      test_loss += loss.item() # Accumulate test loss\n",
        "\n",
        "      # Calculate accuracy metric\n",
        "      #test_pred_labels = torch.argmax(torch.softmax(test_pred_logits, dim=1), dim=1)\n",
        "      #test_acc+= ((test_pred_labels==y_test).sum().item()/len(test_pred_logits)) * 100\n",
        "      test_pred_labels = test_pred_logits.argmax(dim=1) # another way of doing it (?) further testing required\n",
        "      test_acc+= ((test_pred_labels==y_test).sum().item()/len(test_pred_labels)) * 100\n",
        "\n",
        "    # Average loss per batch\n",
        "    test_loss /= len(dataloader)\n",
        "\n",
        "    # Average accuracy per batch\n",
        "    test_acc /= len(dataloader)\n",
        "\n",
        "  print(f\"Test loss: {test_loss:.4f}, Test accuracy: {test_acc:.4f}%\\n\")\n",
        "  return test_loss, test_acc\n",
        "\n",
        "def train(model: torch.nn.Module,\n",
        "            train_dataloader: torch.utils.data.DataLoader,\n",
        "            test_dataloader: torch.utils.data.DataLoader,\n",
        "            loss_fn: torch.nn.Module,\n",
        "            optimizer: torch.optim.Optimizer,\n",
        "            device: torch.device = device,\n",
        "            epochs: int = 5\n",
        "          ):\n",
        "  \"\"\"Trains and tests a PyTorch model.\n",
        "\n",
        "  Passes a target PyTorch models through train_step() and test_step()\n",
        "  functions for a number of epochs, training and testing the model\n",
        "  in the same epoch loop.\n",
        "\n",
        "  Calculates, prints and stores evaluation metrics throughout.\n",
        "\n",
        "  Args:\n",
        "    model: A PyTorch model to be trained and tested.\n",
        "    train_dataloader: A DataLoader instance for the model to be trained on.\n",
        "    test_dataloader: A DataLoader instance for the model to be tested on.\n",
        "    optimizer: A PyTorch optimizer to help minimize the loss function.\n",
        "    loss_fn: A PyTorch loss function to calculate loss on both datasets.\n",
        "    epochs: An integer indicating how many epochs to train for.\n",
        "    device: A target device to compute on (e.g. \"cuda\" or \"cpu\").\n",
        "\n",
        "  Returns:\n",
        "    A dictionary of training and testing loss as well as training and\n",
        "    testing accuracy metrics. Each metric has a value in a list for\n",
        "    each epoch.\n",
        "    In the form: {train_loss: [...],\n",
        "                  train_acc: [...],\n",
        "                  test_loss: [...],\n",
        "                  test_acc: [...]}\n",
        "    For example if training for epochs=2:\n",
        "                 {train_loss: [2.0616, 1.0537],\n",
        "                  train_acc: [0.3945, 0.3945],\n",
        "                  test_loss: [1.2641, 1.5706],\n",
        "                  test_acc: [0.3400, 0.2973]}\n",
        "  \"\"\"\n",
        "  results = {\n",
        "      \"train_loss\": [],\n",
        "      \"train_acc\": [],\n",
        "      \"test_loss\": [],\n",
        "      \"test_acc\": []\n",
        "  }\n",
        "\n",
        "  # Create training and test loop\n",
        "  for epoch in tqdm(range(epochs)): # the way tqdm works is to wrap our iterator in tqdm\n",
        "    print(f\"Epoch: {epoch}\\n-----\")\n",
        "    train_loss, train_acc = train_step(model=model,\n",
        "               dataloader=train_dataloader,\n",
        "               loss_fn=loss_fn,\n",
        "               optimizer=optimizer)\n",
        "    model.eval()\n",
        "    test_loss, test_acc = test_step(model=model,\n",
        "              dataloader=test_dataloader,\n",
        "              loss_fn=loss_fn)\n",
        "\n",
        "    # Update result dictionary\n",
        "    train_loss = train_loss\n",
        "    #print(train_loss, train_acc, test_loss, test_acc)\n",
        "    results[\"train_loss\"].append(train_loss)#.cpu()\n",
        "    results[\"train_acc\"].append(train_acc)\n",
        "    results[\"test_loss\"].append(test_loss)#.cpu()\n",
        "    results[\"test_acc\"].append(test_acc)\n",
        "\n",
        "\n",
        "  return results\n"
      ],
      "metadata": {
        "colab": {
          "base_uri": "https://localhost:8080/"
        },
        "id": "9gIZLBj-GmSP",
        "outputId": "7c471cec-a9d3-4bf6-e357-a3a014bd739e"
      },
      "execution_count": 38,
      "outputs": [
        {
          "output_type": "stream",
          "name": "stdout",
          "text": [
            "Writing exercise/engine.py\n"
          ]
        }
      ]
    },
    {
      "cell_type": "code",
      "source": [
        "%%writefile exercise/utils.py\n",
        "\"\"\"\n",
        "File containing various utility functions for PyTorch model training\n",
        "\"\"\"\n",
        "\n",
        "import torch\n",
        "\n",
        "from pathlib import Path\n",
        "\n",
        "def save_model(model: torch.nn.Module,\n",
        "               target_dir: str,\n",
        "               model_name: str\n",
        "               ):\n",
        "  \"\"\"Saves a PyTorch model to a target directory.\n",
        "\n",
        "  Args:\n",
        "    model: A target PyTorch model to save.\n",
        "    target_dir: A directory for saving the model to.\n",
        "    model_name: A filename for the saved model. Should include\n",
        "      either \".pth\" or \".pt\" as the file extension.\n",
        "\n",
        "  Example usage:\n",
        "    save_model(model=model_0,\n",
        "               target_dir=\"models\",\n",
        "               model_name=\"05_going_modular_tingvgg_model.pth\")\n",
        "  \"\"\"\n",
        "  # Create target directory\n",
        "  target_dir_path = Path(target_dir)\n",
        "  target_dir_path.mkdir(parents=True,\n",
        "                        exist_ok=True\n",
        "                        )\n",
        "\n",
        "  # Create model save path\n",
        "  assert model_name.endswith(\".pth\") or model_name.endswith(\".pt\"), \"model_name should end with .pt or .pth\"\n",
        "  model_save_path = target_dir_path / model_name\n",
        "\n",
        "  # Save the model state_dict()\n",
        "  print(f\"[INFO] Saving model to: {model_save_path}\")\n",
        "  torch.save(obj=model.state_dict(),\n",
        "             f=model_save_path\n",
        "             )"
      ],
      "metadata": {
        "colab": {
          "base_uri": "https://localhost:8080/"
        },
        "id": "xhiD3oakGko2",
        "outputId": "e6d8adec-5ec8-4b6f-c066-02f738abaa40"
      },
      "execution_count": 39,
      "outputs": [
        {
          "output_type": "stream",
          "name": "stdout",
          "text": [
            "Writing exercise/utils.py\n"
          ]
        }
      ]
    },
    {
      "cell_type": "code",
      "source": [
        "%%writefile exercise/train.py\n",
        "\"\"\"\n",
        "Trains a PyTorch image classification model using device agnostic code\n",
        "\"\"\"\n",
        "import os\n",
        "import torch\n",
        "\n",
        "from torchvision import transforms\n",
        "from timeit import default_timer as timer\n",
        "\n",
        "import data_setup, engine, model_builder, utils\n",
        "\n",
        "import argparse\n",
        "parser = argparse.ArgumentParser(prog='exercise/train')\n",
        "\n",
        "# Define the expected arguments\n",
        "parser.add_argument('--learning_rate', type=float, help=\"learning rate\")\n",
        "parser.add_argument('--batch_size', type=int, help=\"batch size\")\n",
        "parser.add_argument('--num_epochs', type=int, help=\"num epochs\")\n",
        "\n",
        "args = parser.parse_args()\n",
        "\n",
        "# Setup hyperparameters\n",
        "NUM_EPOCHS = args.num_epochs or 5\n",
        "BATCH_SIZE = args.batch_size or 32\n",
        "HIDDEN_UNITS = 10\n",
        "LEARNING_RATE = args.learning_rate or 0.001\n",
        "\n",
        "# Setup directories\n",
        "train_dir = \"data/pizza_steak_sushi/train\"\n",
        "test_dir = \"data/pizza_steak_sushi/test\"\n",
        "\n",
        "# Setup device agnostic code\n",
        "device = \"cuda\" if torch.cuda.is_available() else \"cpu\"\n",
        "\n",
        "# Create transforms\n",
        "data_transform = transforms.Compose([\n",
        "    transforms.Resize((64, 64)),\n",
        "    transforms.ToTensor()\n",
        "])\n",
        "\n",
        "# Create DataLoader's and get class_names\n",
        "train_dataloader, test_dataloader, class_names = data_setup.create_dataloaders(train_dir=train_dir,\n",
        "                                                                               test_dir=test_dir,\n",
        "                                                                               transform=data_transform,\n",
        "                                                                               batch_size=BATCH_SIZE)\n",
        "\n",
        "# Create or load model\n",
        "if (os.path.isfile(\"models/05_going_modular_script_mode_tinyvgg_model.pth\")):\n",
        "  # To load a saved state_dict we have to instantiate a new instance of our model class\n",
        "  # Load the saved state_dict of model (this will update the new instance with updated parameters)\n",
        "  model = model_builder.TinyVGG(input_shape=3,\n",
        "                              hidden_units=HIDDEN_UNITS,\n",
        "                              output_shape=len(class_names)).to(device)\n",
        "  model.load_state_dict(torch.load(f=\"models/05_going_modular_script_mode_tinyvgg_model.pth\", weights_only=True))\n",
        "else:\n",
        "  model = model_builder.TinyVGG(input_shape=3,\n",
        "                              hidden_units=HIDDEN_UNITS,\n",
        "                              output_shape=len(class_names)\n",
        "                              ).to(device)\n",
        "\n",
        "# Setup loss and optimizer\n",
        "loss_fn = torch.nn.CrossEntropyLoss()\n",
        "optimizer = torch.optim.Adam(model.parameters(),\n",
        "                             lr=LEARNING_RATE\n",
        "                             )\n",
        "\n",
        "# Start the timer\n",
        "start_time = timer()\n",
        "\n",
        "# Start training with help from engine.py\n",
        "engine.train(model=model,\n",
        "             train_dataloader=train_dataloader,\n",
        "             test_dataloader=test_dataloader,\n",
        "             loss_fn=loss_fn,\n",
        "             optimizer=optimizer,\n",
        "             epochs=NUM_EPOCHS,\n",
        "             device=device)\n",
        "\n",
        "# End the timer and print out how long it took\n",
        "end_time = timer()\n",
        "print(f\"[INFO] Total training time: {end_time-start_time:.3f} seconds\")\n",
        "\n",
        "# Save the model to file\n",
        "utils.save_model(model=model,\n",
        "                 target_dir=\"models\",\n",
        "                 model_name=\"05_going_modular_script_mode_tinyvgg_model.pth\")"
      ],
      "metadata": {
        "colab": {
          "base_uri": "https://localhost:8080/"
        },
        "id": "NPl1jGNCGivt",
        "outputId": "20793fa6-7980-4f75-8626-d45e4b52033d"
      },
      "execution_count": 68,
      "outputs": [
        {
          "output_type": "stream",
          "name": "stdout",
          "text": [
            "Overwriting exercise/train.py\n"
          ]
        }
      ]
    },
    {
      "cell_type": "code",
      "source": [
        "!python exercise/train.py --learning_rate 0.003 --batch_size 64"
      ],
      "metadata": {
        "colab": {
          "base_uri": "https://localhost:8080/"
        },
        "id": "nNbsLeaXJbZL",
        "outputId": "eed67314-093c-413e-d652-40961ca639cb"
      },
      "execution_count": 71,
      "outputs": [
        {
          "output_type": "stream",
          "name": "stdout",
          "text": [
            "\r  0% 0/5 [00:00<?, ?it/s]Epoch: 0\n",
            "-----\n",
            "\n",
            "Train loss: 0.5917 , Train accuracy: 77.6042% \n",
            "Test loss: 1.2866, Test accuracy: 40.1989%\n",
            "\n",
            " 20% 1/5 [00:02<00:08,  2.13s/it]Epoch: 1\n",
            "-----\n",
            "\n",
            "Train loss: 0.5768 , Train accuracy: 76.8466% \n",
            "Test loss: 1.2107, Test accuracy: 45.5256%\n",
            "\n",
            " 40% 2/5 [00:05<00:07,  2.59s/it]Epoch: 2\n",
            "-----\n",
            "\n",
            "Train loss: 0.4605 , Train accuracy: 82.4929% \n",
            "Test loss: 1.1903, Test accuracy: 35.6534%\n",
            "\n",
            " 60% 3/5 [00:07<00:05,  2.69s/it]Epoch: 3\n",
            "-----\n",
            "\n",
            "Train loss: 0.4743 , Train accuracy: 80.9777% \n",
            "Test loss: 1.3510, Test accuracy: 33.3097%\n",
            "\n",
            " 80% 4/5 [00:10<00:02,  2.50s/it]Epoch: 4\n",
            "-----\n",
            "\n",
            "Train loss: 0.3684 , Train accuracy: 86.3518% \n",
            "Test loss: 1.2393, Test accuracy: 38.6364%\n",
            "\n",
            "100% 5/5 [00:12<00:00,  2.44s/it]\n",
            "[INFO] Total training time: 12.204 seconds\n",
            "[INFO] Saving model to: models/05_going_modular_script_mode_tinyvgg_model.pth\n"
          ]
        }
      ]
    },
    {
      "cell_type": "code",
      "source": [
        "%%writefile exercise/predict.py\n",
        "\"\"\"\n",
        "Predict a custom image using loaded model\n",
        "\"\"\"\n",
        "print(\"type(custom_image_transformed.numpy())\")\n",
        "import torchvision\n",
        "import matplotlib.pyplot as plt\n",
        "import torch\n",
        "from typing import Dict\n",
        "\n",
        "device = \"cuda\" if torch.cuda.is_available() else \"cpu\"\n",
        "def pred_and_plot_image(model: torch.nn.Module,\n",
        "                        image_path: str,\n",
        "                        class_names:Dict[int, str],\n",
        "                        transform: torchvision.transforms,\n",
        "                        device: torch.device = device\n",
        "                        ):\n",
        "  # Read in custom image\n",
        "\n",
        "  custom_image = torchvision.io.read_image(str(image_path)).type(torch.float32) / 255\n",
        "\n",
        "  # Transform target image\n",
        "  #custom_image_transformed = transform(custom_image)\n",
        "\n",
        "  model.eval()\n",
        "  with torch.inference_mode():\n",
        "    custom_image_pred = model(custom_image_transformed.unsqueeze(0).to(device)) # add 1 batch\n",
        "\n",
        "  # Turn logits into prediction probabities\n",
        "  custom_image_pred_probs = torch.softmax(custom_image_pred, dim=1)\n",
        "\n",
        "  # Turn prediction probabities into prediction label\n",
        "  custom_image_label=custom_image_pred_probs.argmax(dim=1)\n",
        "\n",
        "\n",
        "  plt.imshow(custom_image_transformed.numpy())\n",
        "  plt.title(f\"Prediction: {class_names[custom_image_label]} | Confidence: {custom_image_pred_probs.max()*100:.1f}%\")\n",
        "  plt.axis(False)"
      ],
      "metadata": {
        "colab": {
          "base_uri": "https://localhost:8080/"
        },
        "id": "s1HzZ2qyJJJE",
        "outputId": "264d4118-5e35-4443-f0cf-20d5e13416ae"
      },
      "execution_count": 112,
      "outputs": [
        {
          "output_type": "stream",
          "name": "stdout",
          "text": [
            "Overwriting exercise/predict.py\n"
          ]
        }
      ]
    },
    {
      "cell_type": "code",
      "source": [
        "from exercise import model_builder, predict\n",
        "from torchvision import transforms\n",
        "\n",
        "HIDDEN_UNITS = 10\n",
        "model = model_builder.TinyVGG(input_shape=3,\n",
        "                            hidden_units=HIDDEN_UNITS,\n",
        "                            output_shape=len(class_names)).to(device)\n",
        "model.load_state_dict(torch.load(f=\"models/05_going_modular_script_mode_tinyvgg_model.pth\", weights_only=True))\n",
        "\n",
        "# Create transforms\n",
        "custom_image_transform = transforms.Compose([\n",
        "    transforms.Resize((64, 64))\n",
        "])\n",
        "\n",
        "# Download custom image\n",
        "import requests\n",
        "\n",
        "# Setup custom image path\n",
        "custom_image_path = data_path / \"04-pizza-dad.jpeg\"\n",
        "\n",
        "# Download the image if it doesnt exist\n",
        "if not custom_image_path.is_file():\n",
        "  with open(custom_image_path, \"wb\") as f: # Create file with write permissions as f (shorthand for file)\n",
        "    request = requests.get(\"https://raw.githubusercontent.com/mrdbourke/pytorch-deep-learning/main/images/04-pizza-dad.jpeg\") # make sure get the raw data, not blob\n",
        "    print(f\"Downloading Image...\")\n",
        "    f.write(request.content)\n",
        "else:\n",
        "  print(f\"{custom_image_path} already exist\")\n",
        "\n",
        "# Pred on our custom image\n",
        "predict.pred_and_plot_image(model=model,\n",
        "                    image_path=custom_image_path,\n",
        "                    class_names=class_names,\n",
        "                    transform=custom_image_transform,\n",
        "                    device=device)\n",
        ""
      ],
      "metadata": {
        "colab": {
          "base_uri": "https://localhost:8080/",
          "height": 446
        },
        "id": "QSDt8iouK-o-",
        "outputId": "2e3ffec8-7824-4a2b-ad99-f87f06b8a7b4"
      },
      "execution_count": 113,
      "outputs": [
        {
          "output_type": "stream",
          "name": "stdout",
          "text": [
            "data/04-pizza-dad.jpeg already exist\n"
          ]
        },
        {
          "output_type": "display_data",
          "data": {
            "text/plain": [
              "<Figure size 640x480 with 1 Axes>"
            ],
            "image/png": "[encoded data removed]"
          },
          "metadata": {}
        }
      ]
    },
    {
      "cell_type": "code",
      "source": [],
      "metadata": {
        "id": "b_AnJj5LZq8Y"
      },
      "execution_count": 113,
      "outputs": []
    }
  ]
}
